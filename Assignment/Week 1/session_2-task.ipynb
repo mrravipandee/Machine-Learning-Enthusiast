{
 "cells": [
  {
   "cell_type": "markdown",
   "id": "908c0f18-9167-42c2-b751-5f5ef25c9ffa",
   "metadata": {},
   "source": [
    "### Write a program that will give you in hand monthly salary after deduction on CTC - HRA(10%), DA(5%), PF(3%) and taxes deduction as below:\n",
    "### Salary(Lakhs) : Tax(%)\n",
    "\n",
    "### Below 5 : 0%\n",
    "### 5-10 : 10%\n",
    "### 10-20 : 20%\n",
    "### aboove 20 : 30%"
   ]
  },
  {
   "cell_type": "code",
   "execution_count": 5,
   "id": "99feeb4d-0717-4507-8312-2b97b71240e7",
   "metadata": {},
   "outputs": [
    {
     "name": "stdin",
     "output_type": "stream",
     "text": [
      "Enter the annual CTC:  140000\n"
     ]
    },
    {
     "name": "stdout",
     "output_type": "stream",
     "text": [
      "Your in-hand monthly salary after deductions is: ₹669666666.67\n"
     ]
    }
   ],
   "source": [
    "ctc = float(input('Enter the annual CTC: '))\n",
    "\n",
    "hra_deduction = 0.10\n",
    "da_deduction = 0.05\n",
    "pf_deduction = 0.03\n",
    "\n",
    "\n",
    "hra = ctc * hra_deduction\n",
    "da = ctc * da_deduction\n",
    "pf = ctc * pf_deduction\n",
    "gross_salary = ctc - (hra + da + pf)\n",
    "\n",
    "\n",
    "if ctc < 5:\n",
    "    tax_rate = 0.00\n",
    "elif 5 <= ctc < 10:\n",
    "    tax_rate = 0.10\n",
    "elif 10 <= ctc < 20:\n",
    "    tax_rate = 0.20\n",
    "else:\n",
    "    tax_rate = 0.30 \n",
    "\n",
    "# tax amount\n",
    "tax = gross_salary * tax_rate\n",
    "\n",
    "# after tax deduction\n",
    "in_hand_annual_salary = gross_salary - tax\n",
    "in_hand_monthly_salary = in_hand_annual_salary / 12\n",
    "\n",
    "print(f\"Your in-hand monthly salary after deductions is: ₹{in_hand_monthly_salary * 100000:.2f}\")"
   ]
  },
  {
   "cell_type": "markdown",
   "id": "8bcb5f37-2cde-4946-878f-1c8add3fb417",
   "metadata": {},
   "source": [
    "### Write a program that take a user input of three angles and will find out whether it can form a triangle or not."
   ]
  },
  {
   "cell_type": "code",
   "execution_count": 6,
   "id": "e0f3d3a9-f5c5-483a-a309-17de3dd2da54",
   "metadata": {},
   "outputs": [
    {
     "name": "stdin",
     "output_type": "stream",
     "text": [
      "Enter the 1st angle:  60\n",
      "Enter the 2nd angle:  80\n",
      "Enter the 3rd angle:  20\n"
     ]
    },
    {
     "name": "stdout",
     "output_type": "stream",
     "text": [
      "Angle are not triangle\n"
     ]
    }
   ],
   "source": [
    "# input from users angles\n",
    "angle_1 = float(input('Enter the 1st angle: '))\n",
    "angle_2 = float(input('Enter the 2nd angle: '))\n",
    "angle_3 = float(input('Enter the 3rd angle: '))\n",
    "\n",
    "# verify the angles or proff angles are triangle or not\n",
    "angles = angle_1 + angle_2 + angle_3\n",
    "\n",
    "# cheeck angles 180deg or not\n",
    "if angles == 180:\n",
    "    print('Angle are triangle')\n",
    "else:\n",
    "    print('Angle are not triangle')"
   ]
  },
  {
   "cell_type": "markdown",
   "id": "13b8caee-e8de-4936-8d96-73ceb68b367b",
   "metadata": {},
   "source": [
    "### Write a program that will take user input of cost price and selling price and determines whether its a loss or a profit."
   ]
  },
  {
   "cell_type": "code",
   "execution_count": 10,
   "id": "24e6cea0-eb1f-491f-842e-4fb2ab9186d9",
   "metadata": {},
   "outputs": [
    {
     "name": "stdin",
     "output_type": "stream",
     "text": [
      "Enter the cost price:  12\n",
      "Enter the selling price:  20\n"
     ]
    },
    {
     "name": "stdout",
     "output_type": "stream",
     "text": [
      "They make it profit on itt..\n"
     ]
    }
   ],
   "source": [
    "# user input for cost price & selling price\n",
    "cost_price = float(input('Enter the cost price: '))\n",
    "selling_price = float(input('Enter the selling price: '))\n",
    "\n",
    "# calculate prices are make profit or loss\n",
    "if cost_price < selling_price:\n",
    "    print('They make it profit on itt..')\n",
    "else:\n",
    "    print('They made a loss on it..')"
   ]
  },
  {
   "cell_type": "code",
   "execution_count": 16,
   "id": "a9dda2df-cec1-475a-b31e-5feefed6949a",
   "metadata": {},
   "outputs": [
    {
     "name": "stdout",
     "output_type": "stream",
     "text": [
      "The profit on it is 66.67\n"
     ]
    }
   ],
   "source": [
    "# above program or add feature for calculate profit in percentage\n",
    "\n",
    "# calulate profit\n",
    "profit =  selling_price - cost_price\n",
    "\n",
    "# calculate in percentage \n",
    "profit_percentage = (profit / cost_price) * 100\n",
    "\n",
    "print(f'The profit on it is {profit_percentage:.2f}')"
   ]
  },
  {
   "cell_type": "markdown",
   "id": "03634aa9-631c-485c-bb01-34c55c3e7f86",
   "metadata": {},
   "source": [
    "### Write a menu-driven program -\n",
    "  <ol>\n",
    "      <li>CM to FT</li>\n",
    "      <li>KM to Miles</li>\n",
    "      <li>USD to INR</li>\n",
    "      <li>Exit</li>\n",
    "  </ol>"
   ]
  },
  {
   "cell_type": "code",
   "execution_count": 20,
   "id": "c778b531-95d1-45d1-a705-82e279616503",
   "metadata": {},
   "outputs": [
    {
     "name": "stdout",
     "output_type": "stream",
     "text": [
      "1. Cm to FT\n",
      "2. Km to Miles\n",
      "3.Usd to Inr\n",
      "4.Exit\n"
     ]
    },
    {
     "name": "stdin",
     "output_type": "stream",
     "text": [
      "Please select option:  2\n",
      "Enter the Kelometer:  13\n"
     ]
    },
    {
     "name": "stdout",
     "output_type": "stream",
     "text": [
      "Miles is  8.077823\n"
     ]
    }
   ],
   "source": [
    "\n",
    "print('1. Cm to FT\\n2. Km to Miles\\n3.Usd to Inr\\n4.Exit')\n",
    "option = int(input('Please select option: '))\n",
    "\n",
    "if option == 1:\n",
    "    # for cm to foot\n",
    "    cm = int(input('Enter the Centimeter: '))\n",
    "    foot = cm * 0.0328084\n",
    "    print('Foot is ',foot)\n",
    "elif option == 2:\n",
    "    # for km to miles\n",
    "    km = int(input('Enter the Kelometer: '))\n",
    "    miles = km * 0.621371\n",
    "    print('Miles is ',miles)\n",
    "elif option == 3:\n",
    "    # for usd to inr\n",
    "    usd = int(input('How many USD have: '))\n",
    "    inr = usd * 78.00\n",
    "    print('Inr is ',inr)\n",
    "elif option == 4:\n",
    "    print('Exit button')\n",
    "else:\n",
    "    print('Please select correct options...')"
   ]
  },
  {
   "cell_type": "markdown",
   "id": "99c20902-cfe5-4e41-bfa7-e6d33012a8a3",
   "metadata": {},
   "source": [
    "### Find the factorial of a given number."
   ]
  },
  {
   "cell_type": "code",
   "execution_count": 21,
   "id": "7b293a5d-5dd9-4b55-8f31-eceebebe81e8",
   "metadata": {},
   "outputs": [
    {
     "name": "stdin",
     "output_type": "stream",
     "text": [
      "Enter the number:  5\n"
     ]
    },
    {
     "name": "stdout",
     "output_type": "stream",
     "text": [
      "Factorial of 5 is 120\n"
     ]
    }
   ],
   "source": [
    "num = int(input('Enter the number: '))\n",
    "\n",
    "if num == 0:\n",
    "    print('Factorial is 1')\n",
    "elif num > 0:\n",
    "    fact = 1\n",
    "    for i in range (1,num+1):\n",
    "        fact *= i\n",
    "    print(f'Factorial of {num} is {fact}')\n",
    "else:\n",
    "    print('Enter only Positive numbers')"
   ]
  },
  {
   "cell_type": "markdown",
   "id": "5810ab24-2c50-4abb-b471-99cdc0fd374d",
   "metadata": {},
   "source": [
    "### Reverse a given integer number."
   ]
  },
  {
   "cell_type": "code",
   "execution_count": 27,
   "id": "5b29a50a-5256-4d2c-83b1-2f1049362e31",
   "metadata": {},
   "outputs": [
    {
     "name": "stdout",
     "output_type": "stream",
     "text": [
      "Reverse number are:  58507\n"
     ]
    }
   ],
   "source": [
    "number = 70585\n",
    "\n",
    "reverse_num = 0\n",
    "\n",
    "while number != 0:\n",
    "    digit = number % 10\n",
    "    reverse_num = reverse_num * 10 + digit\n",
    "    number //= 10\n",
    "\n",
    "print('Reverse number are: ',reverse_num)"
   ]
  },
  {
   "cell_type": "code",
   "execution_count": null,
   "id": "35543a59-bb6d-4470-985e-8c7bdc86c7ce",
   "metadata": {},
   "outputs": [],
   "source": [
    "# "
   ]
  }
 ],
 "metadata": {
  "kernelspec": {
   "display_name": "Python 3 (ipykernel)",
   "language": "python",
   "name": "python3"
  },
  "language_info": {
   "codemirror_mode": {
    "name": "ipython",
    "version": 3
   },
   "file_extension": ".py",
   "mimetype": "text/x-python",
   "name": "python",
   "nbconvert_exporter": "python",
   "pygments_lexer": "ipython3",
   "version": "3.11.7"
  },
  "widgets": {
   "application/vnd.jupyter.widget-state+json": {
    "state": {},
    "version_major": 2,
    "version_minor": 0
   }
  }
 },
 "nbformat": 4,
 "nbformat_minor": 5
}
