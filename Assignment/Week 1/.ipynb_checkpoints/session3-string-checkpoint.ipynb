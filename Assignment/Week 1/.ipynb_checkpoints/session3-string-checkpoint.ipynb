{
 "cells": [
  {
   "cell_type": "code",
   "execution_count": 2,
   "id": "97b2cd5a-e7e7-4f4a-8e32-333da87ab565",
   "metadata": {},
   "outputs": [
    {
     "name": "stdin",
     "output_type": "stream",
     "text": [
      "Enter the string:  hello\n"
     ]
    },
    {
     "name": "stdout",
     "output_type": "stream",
     "text": [
      "Length of string is:  5\n"
     ]
    }
   ],
   "source": [
    "# find length of string without using len()\n",
    "\n",
    "str = input('Enter the string: ')\n",
    "\n",
    "# count char of string\n",
    "counter = 0\n",
    "\n",
    "# loop they will help for the count \n",
    "for i in str:\n",
    "    counter += 1\n",
    "\n",
    "print('Length of string is: ',counter)"
   ]
  },
  {
   "cell_type": "code",
   "execution_count": 3,
   "id": "3c7b5ae5-6d12-4296-9e3d-816812d0c8fe",
   "metadata": {},
   "outputs": [
    {
     "name": "stdin",
     "output_type": "stream",
     "text": [
      "Enter the email:  ravipandey@gmail.com\n"
     ]
    },
    {
     "name": "stdout",
     "output_type": "stream",
     "text": [
      "Username is:  ravipandey\n"
     ]
    }
   ],
   "source": [
    "# get user name through the email id\n",
    "\n",
    "email = input('Enter the email: ')\n",
    "\n",
    "pos = email.index('@')\n",
    "\n",
    "user_name = email[:pos]\n",
    "\n",
    "print('Username is: ',user_name)"
   ]
  },
  {
   "cell_type": "code",
   "execution_count": 5,
   "id": "6f2ef0d2-25d9-48db-9806-6be4a85f2474",
   "metadata": {},
   "outputs": [
    {
     "name": "stdin",
     "output_type": "stream",
     "text": [
      "Enter the string:  ravi pandey\n",
      "What would like to search:  a\n"
     ]
    },
    {
     "name": "stdout",
     "output_type": "stream",
     "text": [
      "a total frequence is:  2\n"
     ]
    }
   ],
   "source": [
    "# count frequence of pertiqular character \n",
    "\n",
    "str = input('Enter the string: ')\n",
    "target = input('What would like to search: ')\n",
    "\n",
    "counter = 0\n",
    "\n",
    "for i in str:\n",
    "    if i == target:\n",
    "        counter += 1\n",
    "\n",
    "print(target,'total frequence is: ',counter)"
   ]
  },
  {
   "cell_type": "code",
   "execution_count": 6,
   "id": "6c4d8d7d-23c5-484f-ba17-65a4254fecce",
   "metadata": {},
   "outputs": [
    {
     "name": "stdin",
     "output_type": "stream",
     "text": [
      "Enter the string:  ravi pandey\n",
      "What would like to remove:  a\n"
     ]
    },
    {
     "name": "stdout",
     "output_type": "stream",
     "text": [
      "rvi pndey\n"
     ]
    }
   ],
   "source": [
    "# remove perticular character from string\n",
    "\n",
    "str = input('Enter the string: ')\n",
    "target = input('What would like to remove: ')\n",
    "\n",
    "result = ''\n",
    "\n",
    "for i in str:\n",
    "    if i != target:\n",
    "        result = result + i\n",
    "\n",
    "print(result)"
   ]
  },
  {
   "cell_type": "code",
   "execution_count": 9,
   "id": "034ed44d-482b-4978-93aa-1fbe35d5c41b",
   "metadata": {},
   "outputs": [
    {
     "name": "stdin",
     "output_type": "stream",
     "text": [
      "Enter the string:  madam\n"
     ]
    },
    {
     "name": "stdout",
     "output_type": "stream",
     "text": [
      "Palindrome\n"
     ]
    }
   ],
   "source": [
    "# check string palindrome or not\n",
    "\n",
    "str = input('Enter the string: ')\n",
    "\n",
    "flag = True\n",
    "\n",
    "for i in range(0, len(str) // 2):\n",
    "    if str[i] != str[len(str) - i - 1]:\n",
    "        flag = True\n",
    "        print('Not a palindrome ')\n",
    "        break\n",
    "\n",
    "if flag:\n",
    "    print('Palindrome')"
   ]
  },
  {
   "cell_type": "code",
   "execution_count": 10,
   "id": "70f89df3-2db3-4aa5-9959-f06244e4e5e4",
   "metadata": {},
   "outputs": [
    {
     "name": "stdin",
     "output_type": "stream",
     "text": [
      "Enter the string:  hello my name is ravi\n"
     ]
    },
    {
     "name": "stdout",
     "output_type": "stream",
     "text": [
      "['hello', 'my', 'name', 'is', 'ravi']\n"
     ]
    }
   ],
   "source": [
    "# code for split() logic from scratch\n",
    "\n",
    "str = input('Enter the string: ')\n",
    "\n",
    "L = []\n",
    "\n",
    "temp = ''\n",
    "\n",
    "for i in str:\n",
    "    if i != ' ':\n",
    "        temp = temp + i\n",
    "    else:\n",
    "        L.append(temp)\n",
    "        temp = ''\n",
    "\n",
    "L.append(temp)\n",
    "\n",
    "print(L)"
   ]
  },
  {
   "cell_type": "code",
   "execution_count": 13,
   "id": "e572fefa-1ec1-4ac1-b0c3-e43fd97558ed",
   "metadata": {},
   "outputs": [
    {
     "name": "stdin",
     "output_type": "stream",
     "text": [
      "Enter the number:  hello everyone\n"
     ]
    },
    {
     "name": "stdout",
     "output_type": "stream",
     "text": [
      "Hello Everyone\n"
     ]
    }
   ],
   "source": [
    "# code for title() \n",
    "\n",
    "str = input('Enter the number: ')\n",
    "\n",
    "L = []\n",
    "\n",
    "for i in str.split():\n",
    "    L.append(i[0].upper()+i[1:].lower())\n",
    "\n",
    "str = ' '.join(L)\n",
    "\n",
    "print(str)"
   ]
  },
  {
   "cell_type": "code",
   "execution_count": 16,
   "id": "ae6756c2-7471-4e41-b35d-e7a6a2c1af3b",
   "metadata": {},
   "outputs": [
    {
     "name": "stdin",
     "output_type": "stream",
     "text": [
      "Enter the number:  123\n"
     ]
    },
    {
     "name": "stdout",
     "output_type": "stream",
     "text": [
      "123\n",
      "<class 'str'>\n"
     ]
    }
   ],
   "source": [
    "# convert num in str without str()\n",
    "\n",
    "num = int(input('Enter the number: '))\n",
    "\n",
    "digit = '0123456789'\n",
    "result = ''\n",
    "\n",
    "while num != 0:\n",
    "    result = digit[num % 10] + result\n",
    "    num = num // 10\n",
    "\n",
    "print(result)\n",
    "print(type(result))"
   ]
  },
  {
   "cell_type": "code",
   "execution_count": null,
   "id": "2cfc9b7d-8808-4965-93af-be82b3b3871d",
   "metadata": {},
   "outputs": [],
   "source": [
    "# wap to calculate product sell in 1kgs but what if customer need 30 rs how many gram give him ?\n"
   ]
  }
 ],
 "metadata": {
  "kernelspec": {
   "display_name": "Python 3 (ipykernel)",
   "language": "python",
   "name": "python3"
  },
  "language_info": {
   "codemirror_mode": {
    "name": "ipython",
    "version": 3
   },
   "file_extension": ".py",
   "mimetype": "text/x-python",
   "name": "python",
   "nbconvert_exporter": "python",
   "pygments_lexer": "ipython3",
   "version": "3.11.7"
  },
  "widgets": {
   "application/vnd.jupyter.widget-state+json": {
    "state": {},
    "version_major": 2,
    "version_minor": 0
   }
  }
 },
 "nbformat": 4,
 "nbformat_minor": 5
}
