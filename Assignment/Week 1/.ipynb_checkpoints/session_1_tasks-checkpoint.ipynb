{
 "cells": [
  {
   "cell_type": "markdown",
   "metadata": {
    "id": "A05OG15VqOPF"
   },
   "source": [
    "# Task : Session 1\n",
    "Solve these questions own your own and try to test yourself what you have learned in the session.\n",
    "\n",
    "Happy Learning!"
   ]
  },
  {
   "cell_type": "markdown",
   "metadata": {
    "id": "2doIXf8bqe9_"
   },
   "source": [
    "### Q1 :- Print the given strings as per stated format.\n",
    "\n",
    "**Given strings**:\n",
    "```\n",
    "\"Data\" \"Science\" \"Mentorship\" \"Program\"\n",
    "\"By\" \"CampusX\"\n",
    "```\n",
    "**Output**:\n",
    "```\n",
    "Data-Science-Mentorship-Program-started-By-CampusX\n",
    "```\n",
    "\n",
    "Concept- [Seperator and End]"
   ]
  },
  {
   "cell_type": "code",
   "execution_count": 5,
   "metadata": {
    "id": "-em6d3KErDtp"
   },
   "outputs": [
    {
     "name": "stdout",
     "output_type": "stream",
     "text": [
      "Data-Science-Mentorship-Program-By-CampusX\n",
      "Data-Science-Mentorship-Program-ByCampusX\n"
     ]
    }
   ],
   "source": [
    "print(\"Data\",\"Science\",\"Mentorship\",\"Program\",\"By\",\"CampusX\",sep='-')\n",
    "\n",
    "print(\"Data\",end='-')\n",
    "print(\"Science\",end='-')\n",
    "print(\"Mentorship\",end='-')\n",
    "print(\"Program\",end='-')\n",
    "print(\"By\" \"CampusX\")"
   ]
  },
  {
   "cell_type": "markdown",
   "metadata": {
    "id": "1KUpN7ZTrC3_"
   },
   "source": [
    "### Q2:- Write a program that will convert celsius value to fahrenheit."
   ]
  },
  {
   "cell_type": "code",
   "execution_count": 7,
   "metadata": {
    "id": "yxKYhYQiqWfj"
   },
   "outputs": [
    {
     "name": "stdin",
     "output_type": "stream",
     "text": [
      "Enter celsius:  45\n"
     ]
    },
    {
     "name": "stdout",
     "output_type": "stream",
     "text": [
      "celsius 45 fahrenheit 113.0\n"
     ]
    }
   ],
   "source": [
    "# take input from user or convert celsius value into fahrenheit\n",
    "celsius = int(input('Enter celsius: '))\n",
    "\n",
    "# using formula complete conversion\n",
    "fahrenheit = (celsius * 1.8) + 32\n",
    "\n",
    "print(f'celsius {celsius} fahrenheit {fahrenheit}')"
   ]
  },
  {
   "cell_type": "markdown",
   "metadata": {
    "id": "RLrOBBJurLB2"
   },
   "source": [
    "### Q3:- Take 2 numbers as input from the user.Write a program to swap the numbers without using any special python syntax."
   ]
  },
  {
   "cell_type": "code",
   "execution_count": 10,
   "metadata": {
    "id": "yPn7if0TrJ4F"
   },
   "outputs": [
    {
     "name": "stdin",
     "output_type": "stream",
     "text": [
      "Enter 1st number:  12\n",
      "Enter 2nd number:  21\n"
     ]
    },
    {
     "name": "stdout",
     "output_type": "stream",
     "text": [
      "Before swap numbers are: a = 12, b = 21\n",
      "After swap numbers are: a = 21, b = 12\n"
     ]
    }
   ],
   "source": [
    "# 2 numbers input from user\n",
    "a = int(input('Enter 1st number: '))\n",
    "b = int(input('Enter 2nd number: '))\n",
    "\n",
    "print(f'Before swap numbers are: a = {a}, b = {b}')\n",
    "\n",
    "# swap machanisum \n",
    "a = a + b\n",
    "b = a - b\n",
    "a = a - b\n",
    "\n",
    "print(f'After swap numbers are: a = {a}, b = {b}')"
   ]
  },
  {
   "cell_type": "markdown",
   "metadata": {
    "id": "waLCP1bjr7ML"
   },
   "source": [
    "### Q4:- Write a program to find the euclidean distance between two coordinates.Take both the coordinates from the user as input."
   ]
  },
  {
   "cell_type": "code",
   "execution_count": 11,
   "metadata": {
    "id": "Pl1Sv-xnrxnH"
   },
   "outputs": [
    {
     "name": "stdin",
     "output_type": "stream",
     "text": [
      "Enter x1 value:  12\n",
      "Enter y2 value:  12\n",
      "Enter x2 value:  15\n",
      "Enter y2 value:  14\n"
     ]
    },
    {
     "name": "stdout",
     "output_type": "stream",
     "text": [
      "The euclidean distance between two coordinates is:  3.605551275463989\n"
     ]
    }
   ],
   "source": [
    "# math package for calculate square root\n",
    "import math\n",
    "\n",
    "# input of co-ordinates\n",
    "x1 = float(input('Enter x1 value: '))\n",
    "y1 = float(input('Enter y2 value: '))\n",
    "x2 = float(input('Enter x2 value: '))\n",
    "y2 = float(input('Enter y2 value: '))\n",
    "\n",
    "# calculate distance using formula\n",
    "distance = math.sqrt((x2 - x1) ** 2 + (y2 - y1) ** 2)\n",
    "\n",
    "print('The euclidean distance between two coordinates is: ',distance)"
   ]
  },
  {
   "cell_type": "markdown",
   "metadata": {
    "id": "VLrhg-FRsHjR"
   },
   "source": [
    "### Q5:- Write a program to find the simple interest when the value of principle,rate of interest and time period is provided by the user.\n"
   ]
  },
  {
   "cell_type": "code",
   "execution_count": 12,
   "metadata": {
    "id": "s40DlReZsTmY"
   },
   "outputs": [
    {
     "name": "stdin",
     "output_type": "stream",
     "text": [
      "Enter principle amount:  33000\n",
      "Enter rate of interest:  5\n",
      "Enter the year:  2\n"
     ]
    },
    {
     "name": "stdout",
     "output_type": "stream",
     "text": [
      "Simple interest is:  330.07\n"
     ]
    }
   ],
   "source": [
    "# take input from user\n",
    "principle_amount = int(input('Enter principle amount: '))\n",
    "rate_interest = float(input('Enter rate of interest: '))\n",
    "time_period = int(input('Enter the year: '))\n",
    "\n",
    "# calculate simple interest\n",
    "SI = (principle_amount + rate_interest + time_period) / 100\n",
    "\n",
    "print('Simple interest is: ',SI)"
   ]
  },
  {
   "cell_type": "markdown",
   "metadata": {
    "id": "LMy0BTUktYKa"
   },
   "source": [
    "### Q6:- Write a program that will tell the number of dogs and chicken are there when the user will provide the value of total heads and legs.\n",
    "\n",
    "For example:\n",
    "Input:\n",
    "heads -> 4\n",
    "legs -> 12\n",
    "<br>\n",
    "Output:\n",
    "dogs -> 2\n",
    "chicken -> 2\n",
    "\n",
    "\n",
    "\n"
   ]
  },
  {
   "cell_type": "code",
   "execution_count": 13,
   "metadata": {
    "id": "XSBvJoA4tXaG"
   },
   "outputs": [
    {
     "name": "stdin",
     "output_type": "stream",
     "text": [
      "How many heads are ? 5\n",
      "How many legs are ?  15\n"
     ]
    },
    {
     "name": "stdout",
     "output_type": "stream",
     "text": [
      "Dogs are 2, and chicken 3\n"
     ]
    }
   ],
   "source": [
    "heads = int(input('How many heads are ?'))\n",
    "legs = int(input('How many legs are ? '))\n",
    "\n",
    "dogs = (legs - 2 * heads) // 2\n",
    "chicken = heads - dogs\n",
    "\n",
    "# calculate the headds and legs of dog and chicken\n",
    "if dogs >= 0 and chicken >= 0:\n",
    "    print(f'Dogs are {dogs}, and chicken {chicken}')\n",
    "else:\n",
    "    print('No solution exists with given heads and legs....')"
   ]
  },
  {
   "cell_type": "markdown",
   "metadata": {
    "id": "gJ7C5kZYt4BP"
   },
   "source": [
    "### Q7:- Write a program to find the sum of squares of first n natural numbers where n will be provided by the user."
   ]
  },
  {
   "cell_type": "code",
   "execution_count": 15,
   "metadata": {
    "id": "_tHsmEHzt2nX"
   },
   "outputs": [
    {
     "name": "stdin",
     "output_type": "stream",
     "text": [
      "Enter the number:  12\n"
     ]
    },
    {
     "name": "stdout",
     "output_type": "stream",
     "text": [
      "The sum of squares natural  number 12 are 650\n"
     ]
    }
   ],
   "source": [
    "num = int(input('Enter the number: '))\n",
    "\n",
    "# formula\n",
    "sum_of_squares = num * (num + 1) * (2 * num + 1) // 6\n",
    "\n",
    "print(f'The sum of squares natural  number {num} are {sum_of_squares}')"
   ]
  },
  {
   "cell_type": "markdown",
   "metadata": {
    "id": "FHrMM7g-yG1h"
   },
   "source": [
    "### Q8:- Given the first 2 terms of an Arithmetic Series.Find the Nth term of the series. Assume all inputs are provided by the user."
   ]
  },
  {
   "cell_type": "code",
   "execution_count": null,
   "metadata": {
    "id": "go4_kmZmyVSx"
   },
   "outputs": [],
   "source": [
    "# Write your code here"
   ]
  },
  {
   "cell_type": "markdown",
   "metadata": {
    "id": "QgyRX_es1oum"
   },
   "source": [
    "### Q9:- Given 2 fractions, find the sum of those 2 fractions.Take the numerator and denominator values of the fractions from the user."
   ]
  },
  {
   "cell_type": "code",
   "execution_count": 16,
   "metadata": {
    "id": "X05xqFS1yW16"
   },
   "outputs": [
    {
     "name": "stdin",
     "output_type": "stream",
     "text": [
      "Enter the numerator of the first fraction:  21\n",
      "Enter the denominator of the first fraction:  22\n",
      "Enter the numerator of the second fraction:  23\n",
      "Enter the denominator of the second fraction:  33\n"
     ]
    },
    {
     "name": "stdout",
     "output_type": "stream",
     "text": [
      "The sum of the fractions is: 109/66\n"
     ]
    }
   ],
   "source": [
    "import math\n",
    "\n",
    "numerator1 = int(input(\"Enter the numerator of the first fraction: \"))\n",
    "denominator1 = int(input(\"Enter the denominator of the first fraction: \"))\n",
    "\n",
    "numerator2 = int(input(\"Enter the numerator of the second fraction: \"))\n",
    "denominator2 = int(input(\"Enter the denominator of the second fraction: \"))\n",
    "\n",
    "# Sum of two fractions: (a/b) + (c/d) = (a*d + b*c) / (b*d)\n",
    "sum_numerator = numerator1 * denominator2 + numerator2 * denominator1\n",
    "sum_denominator = denominator1 * denominator2\n",
    "\n",
    "gcd = math.gcd(sum_numerator, sum_denominator)\n",
    "sum_numerator //= gcd\n",
    "sum_denominator //= gcd\n",
    "\n",
    "# Output the result\n",
    "print(f\"The sum of the fractions is: {sum_numerator}/{sum_denominator}\")\n"
   ]
  },
  {
   "cell_type": "markdown",
   "metadata": {
    "id": "eaql38ln13u7"
   },
   "source": [
    "### Q10:- Given the height, width and breadth of a milk tank, you have to find out how many glasses of milk can be obtained? Assume all the inputs are provided by the user.\n",
    "\n",
    "\n",
    "\n",
    "Input:<br>\n",
    "Dimensions of the milk tank<br>\n",
    "H = 20cm, L = 20cm, B = 20cm\n",
    "<br><br>\n",
    "Dimensions of the glass<br>\n",
    "h = 3cm, r = 1cm"
   ]
  },
  {
   "cell_type": "code",
   "execution_count": 17,
   "metadata": {
    "id": "FePZqno74eWv"
   },
   "outputs": [
    {
     "name": "stdin",
     "output_type": "stream",
     "text": [
      "Enter the height of the tank (in cm):  20\n",
      "Enter the length of the tank (in cm):  20\n",
      "Enter the breadth of the tank (in cm):  20\n",
      "Enter the height of the glass (in cm):  3\n",
      "Enter the radius of the glass (in cm):  1\n"
     ]
    },
    {
     "name": "stdout",
     "output_type": "stream",
     "text": [
      "The number of glasses that can be filled is: 848\n"
     ]
    }
   ],
   "source": [
    "import math\n",
    "\n",
    "\n",
    "H = int(input(\"Enter the height of the tank (in cm): \"))\n",
    "L = int(input(\"Enter the length of the tank (in cm): \"))\n",
    "B = int(input(\"Enter the breadth of the tank (in cm): \"))\n",
    "\n",
    "h = int(input(\"Enter the height of the glass (in cm): \"))\n",
    "r = int(input(\"Enter the radius of the glass (in cm): \"))\n",
    "\n",
    "tank_volume = H * L * B  # in cubic cm\n",
    "\n",
    "# Calculate the volume of one glass (cylinder)\n",
    "glass_volume = math.pi * (r ** 2) * h  # in cubic cm\n",
    "\n",
    "# Calculate the number of glasses that can be filled\n",
    "num_glasses = tank_volume // glass_volume\n",
    "\n",
    "print(f\"The number of glasses that can be filled is: {int(num_glasses)}\")\n"
   ]
  },
  {
   "cell_type": "code",
   "execution_count": null,
   "metadata": {},
   "outputs": [],
   "source": []
  }
 ],
 "metadata": {
  "colab": {
   "provenance": []
  },
  "kernelspec": {
   "display_name": "Python 3 (ipykernel)",
   "language": "python",
   "name": "python3"
  },
  "language_info": {
   "codemirror_mode": {
    "name": "ipython",
    "version": 3
   },
   "file_extension": ".py",
   "mimetype": "text/x-python",
   "name": "python",
   "nbconvert_exporter": "python",
   "pygments_lexer": "ipython3",
   "version": "3.11.7"
  },
  "widgets": {
   "application/vnd.jupyter.widget-state+json": {
    "state": {},
    "version_major": 2,
    "version_minor": 0
   }
  }
 },
 "nbformat": 4,
 "nbformat_minor": 4
}
