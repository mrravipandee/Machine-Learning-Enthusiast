{
 "cells": [
  {
   "cell_type": "markdown",
   "metadata": {
    "id": "A05OG15VqOPF"
   },
   "source": [
    "# Task : Session 1\n",
    "Solve these questions own your own and try to test yourself what you have learned in the session.\n",
    "\n",
    "Happy Learning!"
   ]
  },
  {
   "cell_type": "markdown",
   "metadata": {
    "id": "2doIXf8bqe9_"
   },
   "source": [
    "### Q1 :- Print the given strings as per stated format.\n",
    "\n",
    "**Given strings**:\n",
    "```\n",
    "\"Data\" \"Science\" \"Mentorship\" \"Program\"\n",
    "\"By\" \"CampusX\"\n",
    "```\n",
    "**Output**:\n",
    "```\n",
    "Data-Science-Mentorship-Program-started-By-CampusX\n",
    "```\n",
    "\n",
    "Concept- [Seperator and End]"
   ]
  },
  {
   "cell_type": "code",
   "execution_count": 5,
   "metadata": {
    "id": "-em6d3KErDtp"
   },
   "outputs": [
    {
     "name": "stdout",
     "output_type": "stream",
     "text": [
      "Data-Science-"
     ]
    }
   ],
   "source": [
    "# Write your code here\n",
    "print(\"Data\", end='-')\n",
    "print(\"Science\" , end='-')\n"
   ]
  },
  {
   "cell_type": "markdown",
   "metadata": {
    "id": "1KUpN7ZTrC3_"
   },
   "source": [
    "### Q2:- Write a program that will convert celsius to fahrenheit."
   ]
  },
  {
   "cell_type": "code",
   "execution_count": 9,
   "metadata": {
    "id": "yxKYhYQiqWfj"
   },
   "outputs": [
    {
     "name": "stdout",
     "output_type": "stream",
     "text": [
      "Fahrenheit  102.2\n"
     ]
    }
   ],
   "source": [
    "# Write your code here\n",
    "celsius = 39\n",
    "\n",
    "fahrenheit = (celsius * 9/5) + 32\n",
    "\n",
    "print('Fahrenheit ',fahrenheit)"
   ]
  },
  {
   "cell_type": "markdown",
   "metadata": {
    "id": "RLrOBBJurLB2"
   },
   "source": [
    "### Q3:- Take 2 numbers as input from the user.Write a program to swap the numbers without using any special python syntax."
   ]
  },
  {
   "cell_type": "code",
   "execution_count": 17,
   "metadata": {
    "id": "yPn7if0TrJ4F"
   },
   "outputs": [
    {
     "name": "stdout",
     "output_type": "stream",
     "text": [
      "Enter two numbers:\n",
      "\n"
     ]
    },
    {
     "name": "stdin",
     "output_type": "stream",
     "text": [
      "Enter a:  12\n",
      "Enter b:  15\n"
     ]
    },
    {
     "name": "stdout",
     "output_type": "stream",
     "text": [
      "Before swap value are for a: 12 and b: 15\n",
      "After swap value are for a: 15 and b: 12\n"
     ]
    }
   ],
   "source": [
    "# Write your code here\n",
    "print('Enter two numbers:\\n')\n",
    "a = int(input('Enter a: '))\n",
    "b = int(input('Enter b: '))\n",
    "\n",
    "print(f'Before swap value are for a: {a} and b: {b}')\n",
    "\n",
    "# swap numbers\n",
    "a = a + b\n",
    "b = a - b\n",
    "a = a - b\n",
    "\n",
    "print(f'After swap value are for a: {a} and b: {b}')"
   ]
  },
  {
   "cell_type": "markdown",
   "metadata": {
    "id": "waLCP1bjr7ML"
   },
   "source": [
    "### Q4:- Write a program to find the euclidean distance between two coordinates.Take both the coordinates from the user as input."
   ]
  },
  {
   "cell_type": "code",
   "execution_count": 24,
   "metadata": {
    "id": "Pl1Sv-xnrxnH"
   },
   "outputs": [
    {
     "name": "stdin",
     "output_type": "stream",
     "text": [
      "Enter x1:  1\n",
      "Enter y1:  2\n",
      "Enter x2:  4\n",
      "Enter y2:  6\n"
     ]
    },
    {
     "name": "stdout",
     "output_type": "stream",
     "text": [
      "Distance is 1.00\n"
     ]
    }
   ],
   "source": [
    "# Write your code here\n",
    "import math as m\n",
    "\n",
    "# co-ordinates input\n",
    "x1 = int(input('Enter x1: '))\n",
    "y1 = int(input('Enter y1: '))\n",
    "x2 = int(input('Enter x2: '))\n",
    "y2 = int(input('Enter y2: '))\n",
    "\n",
    "# calcu distance by using formula d = √[(x2 – x1)2 + (y2 – y1)2].\n",
    "dis = 0.2 * m.sqrt((x2 - x1)**2 + (y2 - y1)**2)\n",
    "\n",
    "print(f'Distance is {dis:.2f}')"
   ]
  },
  {
   "cell_type": "markdown",
   "metadata": {
    "id": "VLrhg-FRsHjR"
   },
   "source": [
    "### Q5:- Write a program to find the simple interest when the value of principle,rate of interest and time period is provided by the user.\n"
   ]
  },
  {
   "cell_type": "code",
   "execution_count": 26,
   "metadata": {
    "id": "s40DlReZsTmY"
   },
   "outputs": [
    {
     "name": "stdin",
     "output_type": "stream",
     "text": [
      "Enter principle amount:  55000\n",
      "Rate of interest:  7.40\n",
      "Time period in year:  2\n"
     ]
    },
    {
     "name": "stdout",
     "output_type": "stream",
     "text": [
      "Simple interest is:  8140.0\n"
     ]
    }
   ],
   "source": [
    "# Write your code here\n",
    "p = float(input('Enter principle amount: '))\n",
    "r = float(input('Rate of interest: '))\n",
    "t = int(input('Time period in year: '))\n",
    "\n",
    "# formulla for calcu simple interest\n",
    "si = (p*r*t) / 100\n",
    "\n",
    "print('Simple interest is: ',si)"
   ]
  },
  {
   "cell_type": "markdown",
   "metadata": {
    "id": "LMy0BTUktYKa"
   },
   "source": [
    "### Q6:- Write a program that will tell the number of dogs and chicken are there when the user will provide the value of total heads and legs.\n",
    "\n",
    "For example:\n",
    "Input:\n",
    "heads -> 4\n",
    "legs -> 12\n",
    "<br>\n",
    "Output:\n",
    "dogs -> 2\n",
    "chicken -> 2\n",
    "\n",
    "\n",
    "\n"
   ]
  },
  {
   "cell_type": "code",
   "execution_count": null,
   "metadata": {
    "id": "XSBvJoA4tXaG"
   },
   "outputs": [],
   "source": [
    "# Write your code here\n",
    "head = int(input('How many Heads ? '))\n",
    "legs = int(input('How many Legs ? '))\n",
    "\n"
   ]
  },
  {
   "cell_type": "markdown",
   "metadata": {
    "id": "gJ7C5kZYt4BP"
   },
   "source": [
    "### Q7:- Write a program to find the sum of squares of first n natural numbers where n will be provided by the user."
   ]
  },
  {
   "cell_type": "code",
   "execution_count": 29,
   "metadata": {
    "id": "_tHsmEHzt2nX"
   },
   "outputs": [
    {
     "name": "stdin",
     "output_type": "stream",
     "text": [
      "Enter the value of n (a positive integer):  5\n"
     ]
    },
    {
     "name": "stdout",
     "output_type": "stream",
     "text": [
      "Sum of 5 number squares are: 55\n"
     ]
    }
   ],
   "source": [
    "# Write your code here\n",
    "n = int(input('Enter the value of n (a positive integer): '))\n",
    "\n",
    "sum = 0\n",
    "\n",
    "if n > 0:\n",
    "    for i in range(1, n+1):\n",
    "        i = i ** 2\n",
    "        sum += i\n",
    "\n",
    "else:\n",
    "    print('Must be positive number...')\n",
    "\n",
    "print('Sum of {} number squares are: {}'.format(n, sum))"
   ]
  },
  {
   "cell_type": "markdown",
   "metadata": {
    "id": "FHrMM7g-yG1h"
   },
   "source": [
    "### Q8:- Given the first 2 terms of an Arithmetic Series.Find the Nth term of the series. Assume all inputs are provided by the user."
   ]
  },
  {
   "cell_type": "code",
   "execution_count": 30,
   "metadata": {
    "id": "go4_kmZmyVSx"
   },
   "outputs": [
    {
     "name": "stdin",
     "output_type": "stream",
     "text": [
      "Enter the first term (a1):  2\n",
      "Enter the second term (a2):  4\n",
      "Enter the position of the term to find (n):  3\n"
     ]
    },
    {
     "name": "stdout",
     "output_type": "stream",
     "text": [
      "The 3th term of the Arithmetic Series is: 6.0\n"
     ]
    }
   ],
   "source": [
    "# Write your code here\n",
    "\n",
    "# Function to find the nth term of an Arithmetic Series\n",
    "def find_nth_term(a1, a2, n):\n",
    "    # Common difference\n",
    "    d = a2 - a1\n",
    "    # Formula for nth term: a_n = a1 + (n-1) * d\n",
    "    nth_term = a1 + (n - 1) * d\n",
    "    return nth_term\n",
    "\n",
    "# Input from the user\n",
    "a1 = float(input(\"Enter the first term (a1): \"))\n",
    "a2 = float(input(\"Enter the second term (a2): \"))\n",
    "n = int(input(\"Enter the position of the term to find (n): \"))\n",
    "\n",
    "if n > 0:\n",
    "    # Calculate and print the nth term\n",
    "    nth_term = find_nth_term(a1, a2, n)\n",
    "    print(f\"The {n}th term of the Arithmetic Series is: {nth_term}\")\n",
    "else:\n",
    "    print(\"Please enter a positive integer for the term position.\")\n"
   ]
  },
  {
   "cell_type": "markdown",
   "metadata": {
    "id": "QgyRX_es1oum"
   },
   "source": [
    "### Q9:- Given 2 fractions, find the sum of those 2 fractions.Take the numerator and denominator values of the fractions from the user."
   ]
  },
  {
   "cell_type": "code",
   "execution_count": null,
   "metadata": {
    "id": "X05xqFS1yW16"
   },
   "outputs": [],
   "source": [
    "# Write your code here"
   ]
  },
  {
   "cell_type": "markdown",
   "metadata": {
    "id": "eaql38ln13u7"
   },
   "source": [
    "### Q10:- Given the height, width and breadth of a milk tank, you have to find out how many glasses of milk can be obtained? Assume all the inputs are provided by the user.\n",
    "\n",
    "\n",
    "\n",
    "Input:<br>\n",
    "Dimensions of the milk tank<br>\n",
    "H = 20cm, L = 20cm, B = 20cm\n",
    "<br><br>\n",
    "Dimensions of the glass<br>\n",
    "h = 3cm, r = 1cm"
   ]
  },
  {
   "cell_type": "code",
   "execution_count": null,
   "metadata": {
    "id": "FePZqno74eWv"
   },
   "outputs": [],
   "source": [
    "# Write your code here"
   ]
  }
 ],
 "metadata": {
  "colab": {
   "provenance": []
  },
  "kernelspec": {
   "display_name": "Python 3 (ipykernel)",
   "language": "python",
   "name": "python3"
  },
  "language_info": {
   "codemirror_mode": {
    "name": "ipython",
    "version": 3
   },
   "file_extension": ".py",
   "mimetype": "text/x-python",
   "name": "python",
   "nbconvert_exporter": "python",
   "pygments_lexer": "ipython3",
   "version": "3.11.7"
  },
  "widgets": {
   "application/vnd.jupyter.widget-state+json": {
    "state": {},
    "version_major": 2,
    "version_minor": 0
   }
  }
 },
 "nbformat": 4,
 "nbformat_minor": 4
}
