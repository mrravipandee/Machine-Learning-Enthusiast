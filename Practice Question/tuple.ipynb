{
 "cells": [
  {
   "cell_type": "code",
   "execution_count": 3,
   "id": "657663c4-2703-442a-83ed-0b7f2549a249",
   "metadata": {},
   "outputs": [
    {
     "data": {
      "text/plain": [
       "'hello'"
      ]
     },
     "execution_count": 3,
     "metadata": {},
     "output_type": "execute_result"
    }
   ],
   "source": [
    "# create a tuple of numbers and print one item randomly\n",
    "import random\n",
    "def rand_tup(tup):\n",
    "    return random.choice(tup)\n",
    "\n",
    "t = ('hello', True, 3, 4, 0)\n",
    "rand_tup(t)"
   ]
  },
  {
   "cell_type": "code",
   "execution_count": 5,
   "id": "54da68d1-15a5-425d-a199-147b26323392",
   "metadata": {},
   "outputs": [
    {
     "data": {
      "text/plain": [
       "tuple"
      ]
     },
     "execution_count": 5,
     "metadata": {},
     "output_type": "execute_result"
    }
   ],
   "source": [
    "#  convert a tuple to a string.\n",
    "t = (1,2,3,'hello','world',3,2,1)\n",
    "type(t)\n",
    "\n",
    "# in string\n"
   ]
  },
  {
   "cell_type": "code",
   "execution_count": null,
   "id": "8110f566-1319-49d2-9e22-d9885b5322b5",
   "metadata": {},
   "outputs": [],
   "source": []
  }
 ],
 "metadata": {
  "kernelspec": {
   "display_name": "Python 3 (ipykernel)",
   "language": "python",
   "name": "python3"
  },
  "language_info": {
   "codemirror_mode": {
    "name": "ipython",
    "version": 3
   },
   "file_extension": ".py",
   "mimetype": "text/x-python",
   "name": "python",
   "nbconvert_exporter": "python",
   "pygments_lexer": "ipython3",
   "version": "3.11.7"
  },
  "widgets": {
   "application/vnd.jupyter.widget-state+json": {
    "state": {},
    "version_major": 2,
    "version_minor": 0
   }
  }
 },
 "nbformat": 4,
 "nbformat_minor": 5
}
