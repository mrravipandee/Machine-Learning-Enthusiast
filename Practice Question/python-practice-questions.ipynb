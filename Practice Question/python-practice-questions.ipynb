{
 "cells": [
  {
   "cell_type": "code",
   "execution_count": 7,
   "id": "050a300e-c600-4465-b9f1-338c4fb3edc3",
   "metadata": {},
   "outputs": [
    {
     "name": "stdout",
     "output_type": "stream",
     "text": [
      "is not armstrong\n"
     ]
    }
   ],
   "source": [
    "# Calculating Armstrong Numbers\n",
    "num = 523\n",
    "order = len(str(num))\n",
    "\n",
    "temp = num\n",
    "sum = 0\n",
    "\n",
    "while temp > 0:\n",
    "    digit = temp % 10\n",
    "    sum += digit ** temp\n",
    "    temp //= 10\n",
    "\n",
    "if num == sum:\n",
    "    print('is armstrong number')\n",
    "else:\n",
    "    print('is not armstrong')"
   ]
  },
  {
   "cell_type": "code",
   "execution_count": null,
   "id": "a1f56b0e-784b-46d2-92d1-78aee3922df8",
   "metadata": {},
   "outputs": [],
   "source": [
    "# "
   ]
  }
 ],
 "metadata": {
  "kernelspec": {
   "display_name": "Python 3 (ipykernel)",
   "language": "python",
   "name": "python3"
  },
  "language_info": {
   "codemirror_mode": {
    "name": "ipython",
    "version": 3
   },
   "file_extension": ".py",
   "mimetype": "text/x-python",
   "name": "python",
   "nbconvert_exporter": "python",
   "pygments_lexer": "ipython3",
   "version": "3.11.7"
  },
  "widgets": {
   "application/vnd.jupyter.widget-state+json": {
    "state": {},
    "version_major": 2,
    "version_minor": 0
   }
  }
 },
 "nbformat": 4,
 "nbformat_minor": 5
}
