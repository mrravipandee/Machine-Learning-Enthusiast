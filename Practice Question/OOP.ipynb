{
 "cells": [
  {
   "cell_type": "code",
   "execution_count": 7,
   "id": "45adb05c-f3bd-4a77-ad55-13596f35774f",
   "metadata": {},
   "outputs": [],
   "source": [
    "class Car:\n",
    "    # attributes\n",
    "    def __init__(self, brand, model, year, color):\n",
    "        self.brand = brand\n",
    "        self.model = model\n",
    "        self.year = year\n",
    "        self.color = color\n",
    "\n",
    "    # methods\n",
    "    def start(self):\n",
    "        print(f'The {self.brand} {self.model} is starting...')\n",
    "\n",
    "    def stop(self):\n",
    "        print(f'The {self.brand} {self.model} is stopping...')\n"
   ]
  },
  {
   "cell_type": "code",
   "execution_count": 9,
   "id": "d57b753e-d885-4ead-bb95-a071b0f0cc00",
   "metadata": {},
   "outputs": [
    {
     "name": "stdout",
     "output_type": "stream",
     "text": [
      "The Mahindra XUV 300 is starting...\n"
     ]
    }
   ],
   "source": [
    "# object of car\n",
    "my_car = Car('Mahindra', 'XUV 300', 2020, 'White')\n",
    "\n",
    "my_car.start()"
   ]
  },
  {
   "cell_type": "code",
   "execution_count": 10,
   "id": "d5e98e55-f0d5-4165-8c77-a5fd747a7059",
   "metadata": {},
   "outputs": [
    {
     "name": "stdout",
     "output_type": "stream",
     "text": [
      "The Mahindra XUV 300 is stopping...\n"
     ]
    }
   ],
   "source": [
    "my_car.stop()"
   ]
  },
  {
   "cell_type": "markdown",
   "id": "8ed9043e-1665-4699-9de4-76031c1fa8b6",
   "metadata": {},
   "source": [
    "### Employee and Manager System (Inheritance with Method Overriding)"
   ]
  },
  {
   "cell_type": "code",
   "execution_count": 39,
   "id": "ddfac235-a95b-45da-a31e-741023de84bf",
   "metadata": {},
   "outputs": [],
   "source": [
    "class Employee:\n",
    "    def __init__(self, emp_name, emp_id, emp_salary):\n",
    "        self.emp_name = emp_name\n",
    "        self.emp_id = emp_id\n",
    "        self.emp_salary = emp_salary\n",
    "\n",
    "    def info(self):\n",
    "        print(f'Name: {self.emp_name}, Employee ID: {self.emp_id}, Salary: {self.emp_salary}')\n",
    "\n",
    "\n",
    "class Manager(Employee):  # Inherits Employee class \n",
    "    def __init__(self, name, emp_id, salary, team_size):\n",
    "        super().__init__(name, emp_id, salary)\n",
    "        self.team_size = team_size\n",
    "\n",
    "    def get_bonus(self):\n",
    "        # Bonus is 5% of salary per team member\n",
    "        return self.team_size * 0.05 * self.emp_salary\n",
    "\n",
    "    def info(self):\n",
    "        super().info()\n",
    "        print(f'Team size: {self.team_size}, Bonus: {self.get_bonus()}')\n"
   ]
  },
  {
   "cell_type": "code",
   "execution_count": 40,
   "id": "d4b6096a-f60d-4129-883f-bdc986a0f874",
   "metadata": {},
   "outputs": [],
   "source": [
    "emp1 = Employee('Aman', 2211, 40000)\n",
    "emp2 = Manager('Suraj', 2212, 50000, 12)"
   ]
  },
  {
   "cell_type": "code",
   "execution_count": 41,
   "id": "97c3e90f-7d1c-4de9-a95f-28788ca660b7",
   "metadata": {},
   "outputs": [
    {
     "name": "stdout",
     "output_type": "stream",
     "text": [
      "Name: Aman, Employee ID: 2211, Salary: 40000\n"
     ]
    }
   ],
   "source": [
    "emp1.info()"
   ]
  },
  {
   "cell_type": "code",
   "execution_count": 42,
   "id": "44704a56-67b9-48b0-bf14-01faaaba2cdd",
   "metadata": {},
   "outputs": [
    {
     "name": "stdout",
     "output_type": "stream",
     "text": [
      "Name: Suraj, Employee ID: 2212, Salary: 50000\n",
      "Team size: 12, Bonus: 30000.000000000004\n"
     ]
    }
   ],
   "source": [
    "emp2.info()"
   ]
  },
  {
   "cell_type": "code",
   "execution_count": null,
   "id": "b714cc0f-ccbe-402b-92f8-dc327bef7813",
   "metadata": {},
   "outputs": [],
   "source": []
  }
 ],
 "metadata": {
  "kernelspec": {
   "display_name": "Python 3 (ipykernel)",
   "language": "python",
   "name": "python3"
  },
  "language_info": {
   "codemirror_mode": {
    "name": "ipython",
    "version": 3
   },
   "file_extension": ".py",
   "mimetype": "text/x-python",
   "name": "python",
   "nbconvert_exporter": "python",
   "pygments_lexer": "ipython3",
   "version": "3.11.7"
  },
  "widgets": {
   "application/vnd.jupyter.widget-state+json": {
    "state": {},
    "version_major": 2,
    "version_minor": 0
   }
  }
 },
 "nbformat": 4,
 "nbformat_minor": 5
}
