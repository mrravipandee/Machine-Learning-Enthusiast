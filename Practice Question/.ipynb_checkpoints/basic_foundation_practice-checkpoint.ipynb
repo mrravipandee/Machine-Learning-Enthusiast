{
 "cells": [
  {
   "cell_type": "markdown",
   "id": "ee896226-a542-41de-a02a-5459db286af9",
   "metadata": {},
   "source": [
    "### Print the given strings as per stated format. \n",
    "#### Ravi-Pandey-21-2004"
   ]
  },
  {
   "cell_type": "code",
   "execution_count": 4,
   "id": "ee70e502-e3d8-44c8-a61a-a0a8aacfd860",
   "metadata": {},
   "outputs": [
    {
     "name": "stdout",
     "output_type": "stream",
     "text": [
      "Ravi-Pandey\n"
     ]
    }
   ],
   "source": [
    "print('Ravi', 'Pandey',sep='-')"
   ]
  },
  {
   "cell_type": "markdown",
   "id": "8b900597-6d74-4f07-a1db-d4c891e11422",
   "metadata": {},
   "source": [
    "### Take 2 numbers as input from the user.Write a program to swap the numbers without using any special python syntax."
   ]
  },
  {
   "cell_type": "code",
   "execution_count": 6,
   "id": "0499b4e0-e1c7-403f-ad4e-5eea8da28212",
   "metadata": {},
   "outputs": [
    {
     "name": "stdin",
     "output_type": "stream",
     "text": [
      "enter 1st number:  20\n",
      "enter 2nd number:  10\n"
     ]
    },
    {
     "name": "stdout",
     "output_type": "stream",
     "text": [
      "Before swaping.................\n",
      "a = 20 or b = 10\n",
      "After swaping.................\n",
      "a = 10 or b = 20\n"
     ]
    }
   ],
   "source": [
    "a = int(input('enter 1st number: '))\n",
    "b = int(input('enter 2nd number: '))\n",
    "\n",
    "print('Before swaping.................')\n",
    "print(f'a = {a} or b = {b}')\n",
    "\n",
    "# swap logic\n",
    "a = a + b\n",
    "b = a - b\n",
    "a = a - b\n",
    "\n",
    "print('After swaping.................')\n",
    "print(f'a = {a} or b = {b}')"
   ]
  },
  {
   "cell_type": "markdown",
   "id": "ea68aaad-8c2b-4bbd-ae3d-b540119da975",
   "metadata": {},
   "source": [
    "### Write a program to find the euclidean distance between two coordinates.Take both the coordinates from the user as input."
   ]
  },
  {
   "cell_type": "code",
   "execution_count": 10,
   "id": "4bceb404-5713-4923-989d-285e56440ed5",
   "metadata": {},
   "outputs": [
    {
     "name": "stdout",
     "output_type": "stream",
     "text": [
      "Point 1\n"
     ]
    },
    {
     "name": "stdin",
     "output_type": "stream",
     "text": [
      "enter x1 value:  3\n",
      "enter y1 value:  4\n"
     ]
    },
    {
     "name": "stdout",
     "output_type": "stream",
     "text": [
      "\n",
      "Point 2\n"
     ]
    },
    {
     "name": "stdin",
     "output_type": "stream",
     "text": [
      "enter x2 value:  7\n",
      "enter y2 value:  1\n"
     ]
    },
    {
     "name": "stdout",
     "output_type": "stream",
     "text": [
      "distance is 5.0\n"
     ]
    }
   ],
   "source": [
    "# take input co-ordubates from user\n",
    "print('Point 1')\n",
    "x1 = int(input('enter x1 value: '))\n",
    "y1 = int(input('enter y1 value: '))\n",
    "\n",
    "print('\\nPoint 2')\n",
    "x2 = int(input('enter x2 value: '))\n",
    "y2 = int(input('enter y2 value: '))\n",
    "\n",
    "# formula for calculate distance of two co-ordinates\n",
    "distance = ((x2 - x1)**2 + (y2 - y1)**2)**0.5  # Using **0.5 for square root\n",
    "\n",
    "print(f'distance is {distance}')"
   ]
  },
  {
   "cell_type": "markdown",
   "id": "c6ec2bcf-43fd-409c-a130-a3371f22048e",
   "metadata": {},
   "source": [
    "### Q6:- Write a program that will tell the number of dogs and chicken are there when the user will provide the value of total heads and legs.\n",
    "\n",
    "For example:\n",
    "Input:\n",
    "heads -> 4\n",
    "legs -> 12\n",
    "<br>\n",
    "Output:\n",
    "dogs -> 2\n",
    "chicken -> 2"
   ]
  },
  {
   "cell_type": "code",
   "execution_count": 1,
   "id": "353f4468-5378-43bd-aa5b-7dde3c98b319",
   "metadata": {},
   "outputs": [
    {
     "name": "stdin",
     "output_type": "stream",
     "text": [
      "how many heads are ?  4\n",
      "how many legs are ?  12\n"
     ]
    },
    {
     "name": "stdout",
     "output_type": "stream",
     "text": [
      "Dogs are 2 and Chicken 2\n"
     ]
    }
   ],
   "source": [
    "heads = int(input('how many heads are ? '))\n",
    "legs = int(input('how many legs are ? '))\n",
    "\n",
    "# Calculate the number of dogs and chickens\n",
    "dogs = (legs - 2 * heads) // 2  # Integer division to get the count of dogs\n",
    "chickens = heads - dogs  # Remaining heads are chickens\n",
    "\n",
    "print(f'Dogs are {dogs} and Chicken {chickens}')"
   ]
  },
  {
   "cell_type": "markdown",
   "id": "a8e33272-84e0-44d4-a607-25e2250fe0da",
   "metadata": {},
   "source": [
    "### `Problem 3`: Write a program that will take user input of cost price and selling price and determines whether its a loss or a profit."
   ]
  },
  {
   "cell_type": "code",
   "execution_count": 4,
   "id": "3ceeab88-1835-40cd-a4f6-361efc93170f",
   "metadata": {},
   "outputs": [
    {
     "name": "stdin",
     "output_type": "stream",
     "text": [
      "Enter cost price:  12\n",
      "Enter selling price:  14\n"
     ]
    },
    {
     "name": "stdout",
     "output_type": "stream",
     "text": [
      "in profit\n"
     ]
    }
   ],
   "source": [
    "cost = int(input('Enter cost price: '))\n",
    "sell = int(input('Enter selling price: '))\n",
    "\n",
    "if sell > cost:\n",
    "    print('in profit')\n",
    "else:\n",
    "    print('in loss')"
   ]
  },
  {
   "cell_type": "code",
   "execution_count": 6,
   "id": "d38db54b-4175-49c8-a468-b0eb318afd36",
   "metadata": {},
   "outputs": [
    {
     "name": "stdin",
     "output_type": "stream",
     "text": [
      "Enter the number:  123\n"
     ]
    },
    {
     "name": "stdout",
     "output_type": "stream",
     "text": [
      "Reverse number is:  321\n"
     ]
    }
   ],
   "source": [
    "# Reverse a given integer number.\n",
    "num = int(input('Enter the number: '))\n",
    "\n",
    "reverse_num = 0\n",
    "while num != 0:\n",
    "    digit = num % 10\n",
    "    reverse_num = (reverse_num * 10) + digit\n",
    "    num = num // 10\n",
    "\n",
    "print('Reverse number is: ',reverse_num)"
   ]
  },
  {
   "cell_type": "markdown",
   "id": "d382da22-4d0e-4e92-8ed5-8dd31b598c3f",
   "metadata": {},
   "source": [
    "### Write a program that keeps on accepting a number from the user until the user enters Zero. Display the sum and average of all the numbers."
   ]
  },
  {
   "cell_type": "code",
   "execution_count": 13,
   "id": "74e14fcd-6a57-4829-b78f-cdb9b961b255",
   "metadata": {},
   "outputs": [
    {
     "name": "stdin",
     "output_type": "stream",
     "text": [
      "Enter the number 12\n",
      "Enter the number 22\n",
      "Enter the number 30\n",
      "Enter the number 0\n"
     ]
    },
    {
     "name": "stdout",
     "output_type": "stream",
     "text": [
      "sum of numbers:  64\n",
      "Average is:  16.0\n"
     ]
    }
   ],
   "source": [
    "# global variables\n",
    "sum = 0\n",
    "count = 1\n",
    "\n",
    "while True: # invinate loop\n",
    "    num = int(input('Enter the number'))\n",
    "    if num == 0: # when user can enter zero then come outoff the loop or terminated state\n",
    "        break\n",
    "    else:\n",
    "        sum += num # sum of numbers\n",
    "        count += 1 # increase count \n",
    "        \n",
    "print('sum of numbers: ',sum)\n",
    "print('Average is: ', (sum / count))"
   ]
  },
  {
   "cell_type": "markdown",
   "id": "cd65f4d9-5ed1-4eb6-b187-418b89ad1399",
   "metadata": {},
   "source": [
    "### `Problem 11`: A robot moves in a plane starting from the original point (0,0). The robot can move toward UP, DOWN, LEFT and RIGHT with a given steps. \n",
    "The trace of robot movement is shown as the following:\n",
    "```\n",
    "UP 5\n",
    "DOWN 3\n",
    "LEFT 3\n",
    "RIGHT 2\n",
    "!\n",
    "```\n",
    "> The numbers after the direction are steps. \n",
    "\n",
    "> `!` means robot stop there.\n",
    "\n",
    "** Please write a program to compute the distance from current position after a sequence of movement and original point. ** \n",
    "\n",
    "* If the distance is a float, then just print the nearest integer. *\n",
    "\n",
    "Example:\n",
    "\n",
    "`Input`:\n",
    "```\n",
    "UP 5\n",
    "DOWN 3\n",
    "LEFT 3\n",
    "RIGHT 2\n",
    "!\n",
    "```\n",
    "`Output`:\n",
    "```\n",
    "2\n",
    "```"
   ]
  },
  {
   "cell_type": "code",
   "execution_count": 14,
   "id": "2b1584c3-12cb-4cfb-afd7-7f41ab64532a",
   "metadata": {},
   "outputs": [
    {
     "name": "stdout",
     "output_type": "stream",
     "text": [
      "Enter movements (e.g., 'UP 5'). Enter '!' to stop:\n"
     ]
    },
    {
     "name": "stdin",
     "output_type": "stream",
     "text": [
      " UP 4\n",
      " DOWN 1\n",
      " LEFT 2\n",
      " !\n"
     ]
    },
    {
     "name": "stdout",
     "output_type": "stream",
     "text": [
      "4\n"
     ]
    }
   ],
   "source": [
    "import math\n",
    "\n",
    "# Initialize starting position\n",
    "x, y = 0, 0\n",
    "\n",
    "print(\"Enter movements (e.g., 'UP 5'). Enter '!' to stop:\")\n",
    "\n",
    "while True:\n",
    "    movement = input().strip()\n",
    "    if movement == '!':  # Stop condition\n",
    "        break\n",
    "    \n",
    "    direction, steps = movement.split()  # Split direction and steps\n",
    "    steps = int(steps)  # Convert steps to integer\n",
    "    \n",
    "    # Update position based on direction\n",
    "    if direction == 'UP':\n",
    "        y += steps\n",
    "    elif direction == 'DOWN':\n",
    "        y -= steps\n",
    "    elif direction == 'LEFT':\n",
    "        x -= steps\n",
    "    elif direction == 'RIGHT':\n",
    "        x += steps\n",
    "\n",
    "# Calculate Euclidean distance from (0, 0) to (x, y)\n",
    "distance = math.sqrt(x**2 + y**2)\n",
    "\n",
    "# Print the nearest integer distance\n",
    "print(round(distance))\n"
   ]
  },
  {
   "cell_type": "code",
   "execution_count": null,
   "id": "71977321-fdd4-4b51-b52c-ac6118c2ebb3",
   "metadata": {},
   "outputs": [],
   "source": [
    "# "
   ]
  }
 ],
 "metadata": {
  "kernelspec": {
   "display_name": "Python 3 (ipykernel)",
   "language": "python",
   "name": "python3"
  },
  "language_info": {
   "codemirror_mode": {
    "name": "ipython",
    "version": 3
   },
   "file_extension": ".py",
   "mimetype": "text/x-python",
   "name": "python",
   "nbconvert_exporter": "python",
   "pygments_lexer": "ipython3",
   "version": "3.11.7"
  },
  "widgets": {
   "application/vnd.jupyter.widget-state+json": {
    "state": {},
    "version_major": 2,
    "version_minor": 0
   }
  }
 },
 "nbformat": 4,
 "nbformat_minor": 5
}
