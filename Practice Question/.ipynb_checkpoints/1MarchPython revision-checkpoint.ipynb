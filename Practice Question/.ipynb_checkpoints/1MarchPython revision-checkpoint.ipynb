{
 "cells": [
  {
   "cell_type": "code",
   "execution_count": 8,
   "id": "4f929c6f-a8c7-420e-a469-50dd60918de8",
   "metadata": {},
   "outputs": [
    {
     "name": "stdout",
     "output_type": "stream",
     "text": [
      "r\n",
      "a\n",
      "v\n",
      "i\n",
      " \n",
      "p\n",
      "a\n",
      "n\n",
      "d\n",
      "e\n",
      "y\n"
     ]
    }
   ],
   "source": [
    "name = 'ravi pandey'\n",
    "for i in name:\n",
    "    print(i[::-1])"
   ]
  },
  {
   "cell_type": "markdown",
   "id": "dccb51e0-0014-49ab-a778-784b3e8ddf33",
   "metadata": {},
   "source": [
    "### arrays "
   ]
  },
  {
   "cell_type": "code",
   "execution_count": 9,
   "id": "c1e67a69-3629-41cb-b28e-4fcfb24e1c43",
   "metadata": {},
   "outputs": [
    {
     "data": {
      "text/plain": [
       "[1, 2, 3, 4]"
      ]
     },
     "execution_count": 9,
     "metadata": {},
     "output_type": "execute_result"
    }
   ],
   "source": [
    "a1d = [1,2,3,4]\n",
    "a1d"
   ]
  },
  {
   "cell_type": "code",
   "execution_count": 14,
   "id": "5eb3576b-5e7d-4fca-a6ab-92586e72e938",
   "metadata": {},
   "outputs": [
    {
     "data": {
      "text/plain": [
       "[[1, 3, 4], [2, 3, 4]]"
      ]
     },
     "execution_count": 14,
     "metadata": {},
     "output_type": "execute_result"
    }
   ],
   "source": [
    "a2d = [[1,3,4],[2,3,4]]\n",
    "a2d"
   ]
  },
  {
   "cell_type": "code",
   "execution_count": 17,
   "id": "9359ee2d-bea1-463c-9d7b-104e6708318b",
   "metadata": {},
   "outputs": [
    {
     "data": {
      "text/plain": [
       "[2]"
      ]
     },
     "execution_count": 17,
     "metadata": {},
     "output_type": "execute_result"
    }
   ],
   "source": [
    "# slicking \n",
    "l = [1,2,3,4,5,6]\n",
    "l[1:2]"
   ]
  },
  {
   "cell_type": "code",
   "execution_count": 19,
   "id": "72b3a258-0ecd-4ab6-b2b7-0da5a648dcc9",
   "metadata": {},
   "outputs": [
    {
     "data": {
      "text/plain": [
       "[2, 4]"
      ]
     },
     "execution_count": 19,
     "metadata": {},
     "output_type": "execute_result"
    }
   ],
   "source": [
    "l[1:5:2] #jump"
   ]
  },
  {
   "cell_type": "code",
   "execution_count": 20,
   "id": "0b0def77-2606-4142-816d-03ec051c8938",
   "metadata": {},
   "outputs": [
    {
     "data": {
      "text/plain": [
       "[1, 2, 3, 4, 5, 6, 7]"
      ]
     },
     "execution_count": 20,
     "metadata": {},
     "output_type": "execute_result"
    }
   ],
   "source": [
    "# adding\n",
    "\n",
    "l.append(7)\n",
    "l"
   ]
  },
  {
   "cell_type": "code",
   "execution_count": 21,
   "id": "f9aa12a5-0313-4113-8352-0122ee929258",
   "metadata": {},
   "outputs": [
    {
     "data": {
      "text/plain": [
       "[1, 2, 3, 4, 5, 6, 7, 8, 9, 10, 11, 12, 13, 14, 15]"
      ]
     },
     "execution_count": 21,
     "metadata": {},
     "output_type": "execute_result"
    }
   ],
   "source": [
    "l.extend([8,9,10,11,12,13,14,15])\n",
    "l"
   ]
  },
  {
   "cell_type": "code",
   "execution_count": 22,
   "id": "d8485dc1-144a-41de-b3a2-6d1623f8122f",
   "metadata": {},
   "outputs": [
    {
     "data": {
      "text/plain": [
       "[100, 2, 3, 4, 5, 6, 7, 8, 9, 10, 11, 12, 13, 14, 15]"
      ]
     },
     "execution_count": 22,
     "metadata": {},
     "output_type": "execute_result"
    }
   ],
   "source": [
    "l[0] = 100\n",
    "l"
   ]
  },
  {
   "cell_type": "code",
   "execution_count": 23,
   "id": "c5587a51-4e28-433a-b8db-5a4051d2ffe2",
   "metadata": {},
   "outputs": [
    {
     "data": {
      "text/plain": [
       "[100, 2, 3, 4, 5, 6, 7, 8, 9, 10, 11, 12, 13, 14]"
      ]
     },
     "execution_count": 23,
     "metadata": {},
     "output_type": "execute_result"
    }
   ],
   "source": [
    "del l[-1]\n",
    "l"
   ]
  },
  {
   "cell_type": "code",
   "execution_count": 25,
   "id": "956d94e4-64d1-404d-800d-8d534f25dad6",
   "metadata": {},
   "outputs": [
    {
     "data": {
      "text/plain": [
       "[3, 4, 5, 6, 7, 8, 9, 10, 11, 12, 13, 14]"
      ]
     },
     "execution_count": 25,
     "metadata": {},
     "output_type": "execute_result"
    }
   ],
   "source": [
    "l.pop(0)\n",
    "l"
   ]
  },
  {
   "cell_type": "code",
   "execution_count": 26,
   "id": "56c0fa6b-857c-4aeb-9fae-650922b42c9f",
   "metadata": {},
   "outputs": [],
   "source": [
    "l.clear()"
   ]
  },
  {
   "cell_type": "code",
   "execution_count": 27,
   "id": "8bcc21a4-2f76-40ac-afa5-043a9437ccc6",
   "metadata": {},
   "outputs": [
    {
     "data": {
      "text/plain": [
       "[]"
      ]
     },
     "execution_count": 27,
     "metadata": {},
     "output_type": "execute_result"
    }
   ],
   "source": [
    "l"
   ]
  },
  {
   "cell_type": "code",
   "execution_count": 28,
   "id": "ff304b72-2801-4ce8-a5db-75b1ec3e0a5b",
   "metadata": {},
   "outputs": [
    {
     "data": {
      "text/plain": [
       "[1, 2, 3, 4, 5, 6, 7, 8, 9, 0]"
      ]
     },
     "execution_count": 28,
     "metadata": {},
     "output_type": "execute_result"
    }
   ],
   "source": [
    "l1 = [1,2,3,4,5]\n",
    "l2 = [6,7,8,9,0]\n",
    "\n",
    "l3 = l1 + l2\n",
    "l3"
   ]
  },
  {
   "cell_type": "code",
   "execution_count": 29,
   "id": "979fcc49-3582-4ba8-a905-4acc8d86f8b9",
   "metadata": {},
   "outputs": [],
   "source": [
    "l3.sort()"
   ]
  },
  {
   "cell_type": "code",
   "execution_count": 30,
   "id": "8d67848c-083c-4bed-bf03-368c5845af29",
   "metadata": {},
   "outputs": [
    {
     "data": {
      "text/plain": [
       "[0, 1, 2, 3, 4, 5, 6, 7, 8, 9]"
      ]
     },
     "execution_count": 30,
     "metadata": {},
     "output_type": "execute_result"
    }
   ],
   "source": [
    "l3"
   ]
  },
  {
   "cell_type": "code",
   "execution_count": 33,
   "id": "cd50bf19-847f-4fe1-8e55-11772de5a965",
   "metadata": {},
   "outputs": [
    {
     "data": {
      "text/plain": [
       "[0,\n",
       " 1,\n",
       " 2,\n",
       " 3,\n",
       " 4,\n",
       " 5,\n",
       " 6,\n",
       " 7,\n",
       " 8,\n",
       " 9,\n",
       " 0,\n",
       " 1,\n",
       " 2,\n",
       " 3,\n",
       " 4,\n",
       " 5,\n",
       " 6,\n",
       " 7,\n",
       " 8,\n",
       " 9,\n",
       " 0,\n",
       " 1,\n",
       " 2,\n",
       " 3,\n",
       " 4,\n",
       " 5,\n",
       " 6,\n",
       " 7,\n",
       " 8,\n",
       " 9,\n",
       " 0,\n",
       " 1,\n",
       " 2,\n",
       " 3,\n",
       " 4,\n",
       " 5,\n",
       " 6,\n",
       " 7,\n",
       " 8,\n",
       " 9,\n",
       " 0,\n",
       " 1,\n",
       " 2,\n",
       " 3,\n",
       " 4,\n",
       " 5,\n",
       " 6,\n",
       " 7,\n",
       " 8,\n",
       " 9,\n",
       " 0,\n",
       " 1,\n",
       " 2,\n",
       " 3,\n",
       " 4,\n",
       " 5,\n",
       " 6,\n",
       " 7,\n",
       " 8,\n",
       " 9,\n",
       " 0,\n",
       " 1,\n",
       " 2,\n",
       " 3,\n",
       " 4,\n",
       " 5,\n",
       " 6,\n",
       " 7,\n",
       " 8,\n",
       " 9,\n",
       " 0,\n",
       " 1,\n",
       " 2,\n",
       " 3,\n",
       " 4,\n",
       " 5,\n",
       " 6,\n",
       " 7,\n",
       " 8,\n",
       " 9,\n",
       " 0,\n",
       " 1,\n",
       " 2,\n",
       " 3,\n",
       " 4,\n",
       " 5,\n",
       " 6,\n",
       " 7,\n",
       " 8,\n",
       " 9,\n",
       " 0,\n",
       " 1,\n",
       " 2,\n",
       " 3,\n",
       " 4,\n",
       " 5,\n",
       " 6,\n",
       " 7,\n",
       " 8,\n",
       " 9]"
      ]
     },
     "execution_count": 33,
     "metadata": {},
     "output_type": "execute_result"
    }
   ],
   "source": [
    "l3 = l3*10\n",
    "l3"
   ]
  },
  {
   "cell_type": "code",
   "execution_count": 34,
   "id": "ef92d257-dcfb-418f-bcc1-9c71d646ffcd",
   "metadata": {},
   "outputs": [
    {
     "data": {
      "text/plain": [
       "False"
      ]
     },
     "execution_count": 34,
     "metadata": {},
     "output_type": "execute_result"
    }
   ],
   "source": [
    "3 not in l3"
   ]
  },
  {
   "cell_type": "code",
   "execution_count": 35,
   "id": "bd2d198b-18ae-4361-bc00-003ff3f6218a",
   "metadata": {},
   "outputs": [
    {
     "data": {
      "text/plain": [
       "[1, 2, 3, 4, 5, 6, 7, 8, 9, 10, 11, 12, 13, 14, 15, 16, 17, 18, 19]"
      ]
     },
     "execution_count": 35,
     "metadata": {},
     "output_type": "execute_result"
    }
   ],
   "source": [
    "# comprehension \n",
    "l = [ i for i in range(1, 20)]\n",
    "l"
   ]
  },
  {
   "cell_type": "code",
   "execution_count": 36,
   "id": "97614199-b030-4ea5-8cae-d7dfa571d815",
   "metadata": {},
   "outputs": [
    {
     "data": {
      "text/plain": [
       "{1, 2, 3, 4}"
      ]
     },
     "execution_count": 36,
     "metadata": {},
     "output_type": "execute_result"
    }
   ],
   "source": [
    "s = {1,1,2,3,3,4}\n",
    "s"
   ]
  },
  {
   "cell_type": "markdown",
   "id": "c1b22ff3-4495-43df-bd09-a6df94cd81da",
   "metadata": {},
   "source": [
    "### Write a program to swap two numbers without using a third variable"
   ]
  },
  {
   "cell_type": "code",
   "execution_count": 38,
   "id": "64024dbc-fddf-4ddb-9a92-17129c39c183",
   "metadata": {},
   "outputs": [
    {
     "name": "stdout",
     "output_type": "stream",
     "text": [
      "10 20\n"
     ]
    }
   ],
   "source": [
    "a, b = 10, 20\n",
    "print(a, b)"
   ]
  },
  {
   "cell_type": "code",
   "execution_count": 50,
   "id": "0f318279-79e5-4a9d-b333-860dc4675c9a",
   "metadata": {},
   "outputs": [
    {
     "name": "stdout",
     "output_type": "stream",
     "text": [
      "-10 40\n"
     ]
    }
   ],
   "source": [
    "a = a + b # 10 + 20 = 30\n",
    "b = a - b # 30 - 20 = 10\n",
    "a = a - b # 30 - 10 = 20\n",
    "\n",
    "print(a, b)"
   ]
  },
  {
   "cell_type": "code",
   "execution_count": 51,
   "id": "8757994c-42b8-4237-bf38-9bdbfdab1d09",
   "metadata": {},
   "outputs": [
    {
     "name": "stdout",
     "output_type": "stream",
     "text": [
      "40 -10\n"
     ]
    }
   ],
   "source": [
    "a, b = b, a\n",
    "print(a, b)"
   ]
  },
  {
   "cell_type": "markdown",
   "id": "3e729146-eaf1-47ee-a016-abea382d9e6c",
   "metadata": {},
   "source": [
    "### Check if a number is Prime or Not"
   ]
  },
  {
   "cell_type": "code",
   "execution_count": null,
   "id": "434af49c-efc1-4c54-a381-9a148016c663",
   "metadata": {},
   "outputs": [],
   "source": []
  },
  {
   "cell_type": "markdown",
   "id": "b7126257-0bb3-4151-a2f7-7e6348758302",
   "metadata": {},
   "source": [
    "### Reverse the string without slicking "
   ]
  },
  {
   "cell_type": "code",
   "execution_count": null,
   "id": "e0580b44-8321-4757-bcec-2aae0b65b534",
   "metadata": {},
   "outputs": [],
   "source": []
  },
  {
   "cell_type": "markdown",
   "id": "f1f13803-71a0-4bd7-b911-7b4608208c78",
   "metadata": {},
   "source": [
    "### Count the frequency of characters in a string"
   ]
  },
  {
   "cell_type": "code",
   "execution_count": 53,
   "id": "eb4f413a-f2a2-4e31-ad70-abf59509aee4",
   "metadata": {},
   "outputs": [
    {
     "data": {
      "text/plain": [
       "4"
      ]
     },
     "execution_count": 53,
     "metadata": {},
     "output_type": "execute_result"
    }
   ],
   "source": [
    "str = 'Ravi'\n",
    "count = 0\n",
    "\n",
    "for _ in str:\n",
    "    count += 1\n",
    "\n",
    "count"
   ]
  },
  {
   "cell_type": "markdown",
   "id": "68f19dfe-abff-4a29-8cc5-3aa2ad8a0c67",
   "metadata": {},
   "source": [
    "### Remove Duplicate Elements from a List\n"
   ]
  },
  {
   "cell_type": "code",
   "execution_count": 54,
   "id": "3521701d-01dd-4c90-b89a-6ab63ddf07b6",
   "metadata": {},
   "outputs": [
    {
     "data": {
      "text/plain": [
       "[1, 2, 3, 4, 5]"
      ]
     },
     "execution_count": 54,
     "metadata": {},
     "output_type": "execute_result"
    }
   ],
   "source": [
    "l1 = [1,2,2,3,4,5,4,]\n",
    "l = []\n",
    "for i in l1:\n",
    "    if i not in l:\n",
    "        l.append(i)\n",
    "\n",
    "l"
   ]
  },
  {
   "cell_type": "code",
   "execution_count": 58,
   "id": "1b063fea-ced2-4ba1-93fe-4a1036de032e",
   "metadata": {},
   "outputs": [
    {
     "data": {
      "text/plain": [
       "[1, 2, 3, 4, 5, 6, 7, 8, 9]"
      ]
     },
     "execution_count": 58,
     "metadata": {},
     "output_type": "execute_result"
    }
   ],
   "source": [
    "l1 = [1,2,3,4,5,2,5,6,7,9,8,2]\n",
    "l = set(l1)\n",
    "l = list(l)\n",
    "l"
   ]
  },
  {
   "cell_type": "markdown",
   "id": "327aff93-6674-476a-ae8e-9eaf10cb4ab6",
   "metadata": {},
   "source": [
    "### Find Factorial using Recursion\n",
    "- eg. !5 = 120"
   ]
  },
  {
   "cell_type": "code",
   "execution_count": 61,
   "id": "968f1acb-3e64-42c4-8438-5bd52c14fc3f",
   "metadata": {},
   "outputs": [
    {
     "data": {
      "text/plain": [
       "120"
      ]
     },
     "execution_count": 61,
     "metadata": {},
     "output_type": "execute_result"
    }
   ],
   "source": [
    "def factorial(n):\n",
    "    if n == 1:\n",
    "        return n\n",
    "    else:\n",
    "        return n * factorial(n-1)\n",
    "\n",
    "\n",
    "factorial(5)"
   ]
  },
  {
   "cell_type": "markdown",
   "id": "c4823b89-0ba8-466e-9b79-a6eec7be745d",
   "metadata": {},
   "source": [
    "### Fibonacci Series using Loops\n"
   ]
  },
  {
   "cell_type": "markdown",
   "id": "d34cbf52-e11a-4b40-9442-b368953b788d",
   "metadata": {},
   "source": [
    "a = 1\n",
    "b = 0\n",
    "for term in range(10):\n",
    "    print(f\"Term {term} and number is {a}\")\n",
    "    c = a + b\n",
    "    a = b\n",
    "    b = c"
   ]
  },
  {
   "cell_type": "markdown",
   "id": "1bab4ee9-fb50-4daa-b64c-a52a7176b44e",
   "metadata": {},
   "source": [
    "### Find Largest & Smallest Number in List"
   ]
  },
  {
   "cell_type": "code",
   "execution_count": 64,
   "id": "c1a5e8fd-583e-42e7-a321-bf9d821e37bf",
   "metadata": {},
   "outputs": [
    {
     "name": "stdout",
     "output_type": "stream",
     "text": [
      "Smallest number is: 0 & largest number is: 20\n"
     ]
    }
   ],
   "source": [
    "l = [1,2,3,4,0,5,3,2, 3,10, 15,20]\n",
    "l.sort()\n",
    "small = l[0]\n",
    "large = l[-1]\n",
    "print(f'Smallest number is: {small} & largest number is: {large}')"
   ]
  },
  {
   "cell_type": "markdown",
   "id": "4b82da5b-5767-41f5-bf26-30e91c5ebba3",
   "metadata": {},
   "source": [
    "### Print Pattern Triangle"
   ]
  },
  {
   "cell_type": "code",
   "execution_count": 67,
   "id": "6cab2e07-9540-46ad-9a4d-31dfaa5f2553",
   "metadata": {},
   "outputs": [
    {
     "name": "stdout",
     "output_type": "stream",
     "text": [
      "\n",
      "* \n",
      "* * \n",
      "* * * \n",
      "* * * * \n",
      "* * * * * \n"
     ]
    }
   ],
   "source": [
    "def triangle(n):\n",
    "    for i in range(n+1):\n",
    "        for j in range(i):\n",
    "            print('* ',end=\"\")\n",
    "        print()\n",
    "\n",
    "triangle(5)"
   ]
  },
  {
   "cell_type": "code",
   "execution_count": null,
   "id": "a7a0d176-1e3c-41fc-9f52-e6943bd8d7bf",
   "metadata": {},
   "outputs": [],
   "source": []
  }
 ],
 "metadata": {
  "kernelspec": {
   "display_name": "Python 3 (ipykernel)",
   "language": "python",
   "name": "python3"
  },
  "language_info": {
   "codemirror_mode": {
    "name": "ipython",
    "version": 3
   },
   "file_extension": ".py",
   "mimetype": "text/x-python",
   "name": "python",
   "nbconvert_exporter": "python",
   "pygments_lexer": "ipython3",
   "version": "3.11.7"
  },
  "widgets": {
   "application/vnd.jupyter.widget-state+json": {
    "state": {},
    "version_major": 2,
    "version_minor": 0
   }
  }
 },
 "nbformat": 4,
 "nbformat_minor": 5
}
