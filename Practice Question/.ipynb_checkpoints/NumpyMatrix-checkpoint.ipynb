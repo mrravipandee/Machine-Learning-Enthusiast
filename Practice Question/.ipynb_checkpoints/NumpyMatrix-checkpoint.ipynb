{
 "cells": [
  {
   "cell_type": "code",
   "execution_count": 20,
   "id": "28862a65-834e-44f0-bce5-76c7119be04e",
   "metadata": {},
   "outputs": [],
   "source": [
    "import numpy as np\n",
    "\n",
    "class Matrix:\n",
    "    def __init__(self, data):\n",
    "        \"\"\"\n",
    "        Initializes the matrix using a NumPy array.\n",
    "        :param data: List of lists or NumPy array\n",
    "        \"\"\"\n",
    "        self.data = np.array(data)\n",
    "\n",
    "    def __str__(self):\n",
    "        return str(self.data)\n",
    "\n",
    "    def add(self, other):\n",
    "        \"\"\"Returns the sum of two matrices\"\"\"\n",
    "        if self.data.shape != other.data.shape:\n",
    "            raise ValueError('Matrix dimensions must match for addition.')\n",
    "        return Matrix(self.data + other.data)\n",
    "\n",
    "    def sub(self, other):\n",
    "        \"\"\"Returns the subtraction of two matrices\"\"\"\n",
    "        if self.data.shape != other.data.shape:\n",
    "            raise ValueError('Matrix dimensions must match for subtraction.')\n",
    "        return Matrix(self.data - other.data)\n",
    "\n",
    "    def multi(self, other):\n",
    "        \"\"\"Returns the multiplication of two matrices\"\"\"\n",
    "        if self.data.shape[1] != other.data.shape[0]:\n",
    "            raise ValueError('Invalid matrix dimensions for multiplication.')\n",
    "        return Matrix(np.dot(self.data, other.data))\n",
    "\n",
    "    def transpose(self):\n",
    "        \"\"\"Returns the transpose of the matrix\"\"\"\n",
    "        return Matrix(self.data.T)\n",
    "\n",
    "\n",
    "class SquareMatrix(Matrix):\n",
    "    def __init__(self, data):\n",
    "        \"\"\"Ensures the matrix is square\"\"\"\n",
    "        super().__init__(data)\n",
    "        if self.data.shape[0] != self.data.shape[1]:\n",
    "            raise ValueError(\"SquareMatrix must have equal number of rows and columns\")\n",
    "\n",
    "    def determinant(self):\n",
    "        \"\"\"Returns the determinant of the matrix.\"\"\"\n",
    "        return np.linalg.det(self.data)\n",
    "\n",
    "    def is_symmetric(self):\n",
    "        \"\"\"Checks if the matrix is symmetric (A == A.T).\"\"\"\n",
    "        return np.array_equal(self.data, self.data.T)\n"
   ]
  },
  {
   "cell_type": "code",
   "execution_count": 21,
   "id": "fb5d0608-6171-4903-9663-683335ba016b",
   "metadata": {},
   "outputs": [],
   "source": [
    "# Example Usage\n",
    "A = SquareMatrix([[2, -1, 0], [-1, 2, -1], [0, -1, 2]])\n",
    "B = SquareMatrix([[1, 2, 3], [4, 5, 6], [7, 8, 9]])"
   ]
  },
  {
   "cell_type": "code",
   "execution_count": 5,
   "id": "fc527c9f-d876-4f1f-9d9b-7ee87cecec99",
   "metadata": {},
   "outputs": [
    {
     "name": "stdout",
     "output_type": "stream",
     "text": [
      "[[ 2 -1  0]\n",
      " [-1  2 -1]\n",
      " [ 0 -1  2]]\n"
     ]
    }
   ],
   "source": [
    "print(A)"
   ]
  },
  {
   "cell_type": "code",
   "execution_count": 6,
   "id": "e04b3dcf-ef02-48e6-919f-a7e466fe0cda",
   "metadata": {},
   "outputs": [
    {
     "name": "stdout",
     "output_type": "stream",
     "text": [
      "[[1 2 3]\n",
      " [4 5 6]\n",
      " [7 8 9]]\n"
     ]
    }
   ],
   "source": [
    "print(B)"
   ]
  },
  {
   "cell_type": "code",
   "execution_count": 24,
   "id": "b520e9a0-1058-4254-b8d8-514ea0edde9f",
   "metadata": {},
   "outputs": [
    {
     "name": "stdout",
     "output_type": "stream",
     "text": [
      "\n",
      "Addition of A and B:\n",
      " [[ 3  1  3]\n",
      " [ 3  7  5]\n",
      " [ 7  7 11]]\n",
      "\n",
      "Subtraction of A and B:\n",
      " [[ 1 -3 -3]\n",
      " [-5 -3 -7]\n",
      " [-7 -9 -7]]\n",
      "\n",
      "Multiplication of A and B:\n",
      " [[-2 -1  0]\n",
      " [ 0  0  0]\n",
      " [10 11 12]]\n",
      "\n",
      "Transpose of A:\n",
      " [[ 2 -1  0]\n",
      " [-1  2 -1]\n",
      " [ 0 -1  2]]\n"
     ]
    }
   ],
   "source": [
    "# Matrix Operations\n",
    "print(\"\\nAddition of A and B:\\n\", A.add(B))\n",
    "print(\"\\nSubtraction of A and B:\\n\", A.sub(B))\n",
    "print(\"\\nMultiplication of A and B:\\n\", A.multi(B))\n",
    "print(\"\\nTranspose of A:\\n\", A.transpose())"
   ]
  },
  {
   "cell_type": "code",
   "execution_count": null,
   "id": "ef960192-9081-4bbb-aae9-88113afcf39e",
   "metadata": {},
   "outputs": [],
   "source": []
  }
 ],
 "metadata": {
  "kernelspec": {
   "display_name": "Python 3 (ipykernel)",
   "language": "python",
   "name": "python3"
  },
  "language_info": {
   "codemirror_mode": {
    "name": "ipython",
    "version": 3
   },
   "file_extension": ".py",
   "mimetype": "text/x-python",
   "name": "python",
   "nbconvert_exporter": "python",
   "pygments_lexer": "ipython3",
   "version": "3.11.7"
  },
  "widgets": {
   "application/vnd.jupyter.widget-state+json": {
    "state": {},
    "version_major": 2,
    "version_minor": 0
   }
  }
 },
 "nbformat": 4,
 "nbformat_minor": 5
}
