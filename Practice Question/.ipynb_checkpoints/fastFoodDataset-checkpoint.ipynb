{
 "cells": [
  {
   "cell_type": "code",
   "execution_count": 1,
   "id": "2fc43690-d8bc-4fb5-9514-d75bb8b213c8",
   "metadata": {},
   "outputs": [],
   "source": [
    "import pandas as pd\n",
    "import numpy as np \n",
    "import matplotlib.pyplot as plt"
   ]
  },
  {
   "cell_type": "markdown",
   "id": "d426f3d9-44b7-4b87-be8f-c60b565863c5",
   "metadata": {},
   "source": [
    "### Data cleaning and preprosessing"
   ]
  },
  {
   "cell_type": "code",
   "execution_count": 3,
   "id": "d88f3551-7835-4ef6-bbeb-59aa88f4405f",
   "metadata": {},
   "outputs": [],
   "source": [
    "df = pd.read_csv('FastFoodRestaurants.csv')"
   ]
  },
  {
   "cell_type": "code",
   "execution_count": 4,
   "id": "0f4a9e52-7c03-4811-afba-b5366173dfff",
   "metadata": {},
   "outputs": [
    {
     "data": {
      "text/html": [
       "<div>\n",
       "<style scoped>\n",
       "    .dataframe tbody tr th:only-of-type {\n",
       "        vertical-align: middle;\n",
       "    }\n",
       "\n",
       "    .dataframe tbody tr th {\n",
       "        vertical-align: top;\n",
       "    }\n",
       "\n",
       "    .dataframe thead th {\n",
       "        text-align: right;\n",
       "    }\n",
       "</style>\n",
       "<table border=\"1\" class=\"dataframe\">\n",
       "  <thead>\n",
       "    <tr style=\"text-align: right;\">\n",
       "      <th></th>\n",
       "      <th>address</th>\n",
       "      <th>city</th>\n",
       "      <th>country</th>\n",
       "      <th>keys</th>\n",
       "      <th>latitude</th>\n",
       "      <th>longitude</th>\n",
       "      <th>name</th>\n",
       "      <th>postalCode</th>\n",
       "      <th>province</th>\n",
       "      <th>websites</th>\n",
       "    </tr>\n",
       "  </thead>\n",
       "  <tbody>\n",
       "    <tr>\n",
       "      <th>0</th>\n",
       "      <td>324 Main St</td>\n",
       "      <td>Massena</td>\n",
       "      <td>US</td>\n",
       "      <td>us/ny/massena/324mainst/-1161002137</td>\n",
       "      <td>44.92130</td>\n",
       "      <td>-74.89021</td>\n",
       "      <td>McDonald's</td>\n",
       "      <td>13662</td>\n",
       "      <td>NY</td>\n",
       "      <td>http://mcdonalds.com,http://www.mcdonalds.com/...</td>\n",
       "    </tr>\n",
       "    <tr>\n",
       "      <th>1</th>\n",
       "      <td>530 Clinton Ave</td>\n",
       "      <td>Washington Court House</td>\n",
       "      <td>US</td>\n",
       "      <td>us/oh/washingtoncourthouse/530clintonave/-7914...</td>\n",
       "      <td>39.53255</td>\n",
       "      <td>-83.44526</td>\n",
       "      <td>Wendy's</td>\n",
       "      <td>43160</td>\n",
       "      <td>OH</td>\n",
       "      <td>http://www.wendys.com</td>\n",
       "    </tr>\n",
       "    <tr>\n",
       "      <th>2</th>\n",
       "      <td>408 Market Square Dr</td>\n",
       "      <td>Maysville</td>\n",
       "      <td>US</td>\n",
       "      <td>us/ky/maysville/408marketsquaredr/1051460804</td>\n",
       "      <td>38.62736</td>\n",
       "      <td>-83.79141</td>\n",
       "      <td>Frisch's Big Boy</td>\n",
       "      <td>41056</td>\n",
       "      <td>KY</td>\n",
       "      <td>http://www.frischs.com,https://www.frischs.com...</td>\n",
       "    </tr>\n",
       "    <tr>\n",
       "      <th>3</th>\n",
       "      <td>6098 State Highway 37</td>\n",
       "      <td>Massena</td>\n",
       "      <td>US</td>\n",
       "      <td>us/ny/massena/6098statehighway37/-1161002137</td>\n",
       "      <td>44.95008</td>\n",
       "      <td>-74.84553</td>\n",
       "      <td>McDonald's</td>\n",
       "      <td>13662</td>\n",
       "      <td>NY</td>\n",
       "      <td>http://mcdonalds.com,http://www.mcdonalds.com/...</td>\n",
       "    </tr>\n",
       "    <tr>\n",
       "      <th>4</th>\n",
       "      <td>139 Columbus Rd</td>\n",
       "      <td>Athens</td>\n",
       "      <td>US</td>\n",
       "      <td>us/oh/athens/139columbusrd/990890980</td>\n",
       "      <td>39.35155</td>\n",
       "      <td>-82.09728</td>\n",
       "      <td>OMG! Rotisserie</td>\n",
       "      <td>45701</td>\n",
       "      <td>OH</td>\n",
       "      <td>http://www.omgrotisserie.com,http://omgrotisse...</td>\n",
       "    </tr>\n",
       "  </tbody>\n",
       "</table>\n",
       "</div>"
      ],
      "text/plain": [
       "                 address                    city country  \\\n",
       "0            324 Main St                 Massena      US   \n",
       "1        530 Clinton Ave  Washington Court House      US   \n",
       "2   408 Market Square Dr               Maysville      US   \n",
       "3  6098 State Highway 37                 Massena      US   \n",
       "4        139 Columbus Rd                  Athens      US   \n",
       "\n",
       "                                                keys  latitude  longitude  \\\n",
       "0                us/ny/massena/324mainst/-1161002137  44.92130  -74.89021   \n",
       "1  us/oh/washingtoncourthouse/530clintonave/-7914...  39.53255  -83.44526   \n",
       "2       us/ky/maysville/408marketsquaredr/1051460804  38.62736  -83.79141   \n",
       "3       us/ny/massena/6098statehighway37/-1161002137  44.95008  -74.84553   \n",
       "4               us/oh/athens/139columbusrd/990890980  39.35155  -82.09728   \n",
       "\n",
       "               name postalCode province  \\\n",
       "0        McDonald's      13662       NY   \n",
       "1           Wendy's      43160       OH   \n",
       "2  Frisch's Big Boy      41056       KY   \n",
       "3        McDonald's      13662       NY   \n",
       "4   OMG! Rotisserie      45701       OH   \n",
       "\n",
       "                                            websites  \n",
       "0  http://mcdonalds.com,http://www.mcdonalds.com/...  \n",
       "1                              http://www.wendys.com  \n",
       "2  http://www.frischs.com,https://www.frischs.com...  \n",
       "3  http://mcdonalds.com,http://www.mcdonalds.com/...  \n",
       "4  http://www.omgrotisserie.com,http://omgrotisse...  "
      ]
     },
     "execution_count": 4,
     "metadata": {},
     "output_type": "execute_result"
    }
   ],
   "source": [
    "df.head()"
   ]
  },
  {
   "cell_type": "code",
   "execution_count": 6,
   "id": "78f5dbce-6405-4ea7-abcb-7294c0b7ce96",
   "metadata": {},
   "outputs": [
    {
     "data": {
      "text/plain": [
       "Index(['address', 'city', 'country', 'keys', 'latitude', 'longitude', 'name',\n",
       "       'postalCode', 'province', 'websites'],\n",
       "      dtype='object')"
      ]
     },
     "execution_count": 6,
     "metadata": {},
     "output_type": "execute_result"
    }
   ],
   "source": [
    "df.columns"
   ]
  },
  {
   "cell_type": "code",
   "execution_count": 7,
   "id": "f22a9b02-3d9c-49da-99c1-3cb6b190d34f",
   "metadata": {},
   "outputs": [
    {
     "name": "stdout",
     "output_type": "stream",
     "text": [
      "<class 'pandas.core.frame.DataFrame'>\n",
      "RangeIndex: 10000 entries, 0 to 9999\n",
      "Data columns (total 10 columns):\n",
      " #   Column      Non-Null Count  Dtype  \n",
      "---  ------      --------------  -----  \n",
      " 0   address     10000 non-null  object \n",
      " 1   city        10000 non-null  object \n",
      " 2   country     10000 non-null  object \n",
      " 3   keys        10000 non-null  object \n",
      " 4   latitude    10000 non-null  float64\n",
      " 5   longitude   10000 non-null  float64\n",
      " 6   name        10000 non-null  object \n",
      " 7   postalCode  10000 non-null  object \n",
      " 8   province    10000 non-null  object \n",
      " 9   websites    9535 non-null   object \n",
      "dtypes: float64(2), object(8)\n",
      "memory usage: 781.4+ KB\n"
     ]
    }
   ],
   "source": [
    "df.info()"
   ]
  },
  {
   "cell_type": "code",
   "execution_count": 8,
   "id": "0c185827-62ad-4641-a583-8c90cebd9e42",
   "metadata": {},
   "outputs": [
    {
     "data": {
      "text/plain": [
       "address         0\n",
       "city            0\n",
       "country         0\n",
       "keys            0\n",
       "latitude        0\n",
       "longitude       0\n",
       "name            0\n",
       "postalCode      0\n",
       "province        0\n",
       "websites      465\n",
       "dtype: int64"
      ]
     },
     "execution_count": 8,
     "metadata": {},
     "output_type": "execute_result"
    }
   ],
   "source": [
    "# check null values\n",
    "df.isnull().sum()"
   ]
  },
  {
   "cell_type": "code",
   "execution_count": 9,
   "id": "5d1391b3-9edf-48c1-b80c-385652d7322f",
   "metadata": {},
   "outputs": [],
   "source": [
    "df.dropna(inplace=True) "
   ]
  },
  {
   "cell_type": "code",
   "execution_count": 10,
   "id": "449ce2ab-8d85-4b83-92e5-be4e9114ad6a",
   "metadata": {},
   "outputs": [
    {
     "data": {
      "text/plain": [
       "address       0\n",
       "city          0\n",
       "country       0\n",
       "keys          0\n",
       "latitude      0\n",
       "longitude     0\n",
       "name          0\n",
       "postalCode    0\n",
       "province      0\n",
       "websites      0\n",
       "dtype: int64"
      ]
     },
     "execution_count": 10,
     "metadata": {},
     "output_type": "execute_result"
    }
   ],
   "source": [
    "df.isnull().sum()"
   ]
  },
  {
   "cell_type": "code",
   "execution_count": 13,
   "id": "ffd77651-5a39-4bd4-8a24-72b8ed049960",
   "metadata": {},
   "outputs": [
    {
     "data": {
      "text/html": [
       "<div>\n",
       "<style scoped>\n",
       "    .dataframe tbody tr th:only-of-type {\n",
       "        vertical-align: middle;\n",
       "    }\n",
       "\n",
       "    .dataframe tbody tr th {\n",
       "        vertical-align: top;\n",
       "    }\n",
       "\n",
       "    .dataframe thead th {\n",
       "        text-align: right;\n",
       "    }\n",
       "</style>\n",
       "<table border=\"1\" class=\"dataframe\">\n",
       "  <thead>\n",
       "    <tr style=\"text-align: right;\">\n",
       "      <th></th>\n",
       "      <th>address</th>\n",
       "      <th>city</th>\n",
       "      <th>country</th>\n",
       "      <th>keys</th>\n",
       "      <th>latitude</th>\n",
       "      <th>longitude</th>\n",
       "      <th>name</th>\n",
       "      <th>postalCode</th>\n",
       "      <th>province</th>\n",
       "      <th>websites</th>\n",
       "    </tr>\n",
       "  </thead>\n",
       "  <tbody>\n",
       "    <tr>\n",
       "      <th>961</th>\n",
       "      <td>7337 Wooster Pike</td>\n",
       "      <td>Cincinnati</td>\n",
       "      <td>US</td>\n",
       "      <td>us/oh/cincinnati/7337woosterpike/-1161002137</td>\n",
       "      <td>39.142877</td>\n",
       "      <td>-84.362845</td>\n",
       "      <td>McDonald's</td>\n",
       "      <td>45227</td>\n",
       "      <td>OH</td>\n",
       "      <td>http://mcdonalds.com,http://www.mcdonalds.com/...</td>\n",
       "    </tr>\n",
       "    <tr>\n",
       "      <th>6404</th>\n",
       "      <td>1701 E Markland Ave</td>\n",
       "      <td>Kokomo</td>\n",
       "      <td>US</td>\n",
       "      <td>us/in/kokomo/1701emarklandave/93075755</td>\n",
       "      <td>40.476590</td>\n",
       "      <td>-86.110750</td>\n",
       "      <td>Arby's</td>\n",
       "      <td>46901</td>\n",
       "      <td>IN</td>\n",
       "      <td>https://locations.arbys.com/us/in/kokomo/1701-...</td>\n",
       "    </tr>\n",
       "    <tr>\n",
       "      <th>4137</th>\n",
       "      <td>1500 N US Highway 285</td>\n",
       "      <td>Fort Stockton</td>\n",
       "      <td>US</td>\n",
       "      <td>us/tx/fortstockton/1500nushighway285/-1161002137</td>\n",
       "      <td>30.898260</td>\n",
       "      <td>-102.904580</td>\n",
       "      <td>McDonald's</td>\n",
       "      <td>79735</td>\n",
       "      <td>TX</td>\n",
       "      <td>http://mcdonalds.com,http://www.mcdonalds.com/...</td>\n",
       "    </tr>\n",
       "    <tr>\n",
       "      <th>7209</th>\n",
       "      <td>2207 W Oak St</td>\n",
       "      <td>Palestine</td>\n",
       "      <td>US</td>\n",
       "      <td>us/tx/palestine/2207woakst/-230519289</td>\n",
       "      <td>31.745545</td>\n",
       "      <td>-95.655101</td>\n",
       "      <td>Jack in the Box</td>\n",
       "      <td>75801</td>\n",
       "      <td>TX</td>\n",
       "      <td>http://www.jackinthebox.com,https://www.jackin...</td>\n",
       "    </tr>\n",
       "    <tr>\n",
       "      <th>5369</th>\n",
       "      <td>2751 Queensgate Dr</td>\n",
       "      <td>Richland</td>\n",
       "      <td>US</td>\n",
       "      <td>us/wa/richland/2751queensgatedr/-1161002137</td>\n",
       "      <td>46.259080</td>\n",
       "      <td>-119.310500</td>\n",
       "      <td>McDonald's</td>\n",
       "      <td>99352</td>\n",
       "      <td>WA</td>\n",
       "      <td>http://mcdonalds.com,http://www.mcdonalds.com/...</td>\n",
       "    </tr>\n",
       "  </tbody>\n",
       "</table>\n",
       "</div>"
      ],
      "text/plain": [
       "                    address           city country  \\\n",
       "961       7337 Wooster Pike     Cincinnati      US   \n",
       "6404    1701 E Markland Ave         Kokomo      US   \n",
       "4137  1500 N US Highway 285  Fort Stockton      US   \n",
       "7209          2207 W Oak St      Palestine      US   \n",
       "5369     2751 Queensgate Dr       Richland      US   \n",
       "\n",
       "                                                  keys   latitude   longitude  \\\n",
       "961       us/oh/cincinnati/7337woosterpike/-1161002137  39.142877  -84.362845   \n",
       "6404            us/in/kokomo/1701emarklandave/93075755  40.476590  -86.110750   \n",
       "4137  us/tx/fortstockton/1500nushighway285/-1161002137  30.898260 -102.904580   \n",
       "7209             us/tx/palestine/2207woakst/-230519289  31.745545  -95.655101   \n",
       "5369       us/wa/richland/2751queensgatedr/-1161002137  46.259080 -119.310500   \n",
       "\n",
       "                 name postalCode province  \\\n",
       "961        McDonald's      45227       OH   \n",
       "6404           Arby's      46901       IN   \n",
       "4137       McDonald's      79735       TX   \n",
       "7209  Jack in the Box      75801       TX   \n",
       "5369       McDonald's      99352       WA   \n",
       "\n",
       "                                               websites  \n",
       "961   http://mcdonalds.com,http://www.mcdonalds.com/...  \n",
       "6404  https://locations.arbys.com/us/in/kokomo/1701-...  \n",
       "4137  http://mcdonalds.com,http://www.mcdonalds.com/...  \n",
       "7209  http://www.jackinthebox.com,https://www.jackin...  \n",
       "5369  http://mcdonalds.com,http://www.mcdonalds.com/...  "
      ]
     },
     "execution_count": 13,
     "metadata": {},
     "output_type": "execute_result"
    }
   ],
   "source": [
    "df.sample(5)"
   ]
  },
  {
   "cell_type": "code",
   "execution_count": 14,
   "id": "82b49a2d-7e70-4e97-b327-39134f724133",
   "metadata": {},
   "outputs": [],
   "source": [
    "df = df[[\"address\", \"keys\", \"city\", \"country\", \"name\"]]"
   ]
  },
  {
   "cell_type": "code",
   "execution_count": 15,
   "id": "4d2c2b59-c3f3-4ed2-b109-fbcfb90adc0a",
   "metadata": {},
   "outputs": [
    {
     "data": {
      "text/html": [
       "<div>\n",
       "<style scoped>\n",
       "    .dataframe tbody tr th:only-of-type {\n",
       "        vertical-align: middle;\n",
       "    }\n",
       "\n",
       "    .dataframe tbody tr th {\n",
       "        vertical-align: top;\n",
       "    }\n",
       "\n",
       "    .dataframe thead th {\n",
       "        text-align: right;\n",
       "    }\n",
       "</style>\n",
       "<table border=\"1\" class=\"dataframe\">\n",
       "  <thead>\n",
       "    <tr style=\"text-align: right;\">\n",
       "      <th></th>\n",
       "      <th>address</th>\n",
       "      <th>keys</th>\n",
       "      <th>city</th>\n",
       "      <th>country</th>\n",
       "      <th>name</th>\n",
       "    </tr>\n",
       "  </thead>\n",
       "  <tbody>\n",
       "    <tr>\n",
       "      <th>0</th>\n",
       "      <td>324 Main St</td>\n",
       "      <td>us/ny/massena/324mainst/-1161002137</td>\n",
       "      <td>Massena</td>\n",
       "      <td>US</td>\n",
       "      <td>McDonald's</td>\n",
       "    </tr>\n",
       "    <tr>\n",
       "      <th>1</th>\n",
       "      <td>530 Clinton Ave</td>\n",
       "      <td>us/oh/washingtoncourthouse/530clintonave/-7914...</td>\n",
       "      <td>Washington Court House</td>\n",
       "      <td>US</td>\n",
       "      <td>Wendy's</td>\n",
       "    </tr>\n",
       "    <tr>\n",
       "      <th>2</th>\n",
       "      <td>408 Market Square Dr</td>\n",
       "      <td>us/ky/maysville/408marketsquaredr/1051460804</td>\n",
       "      <td>Maysville</td>\n",
       "      <td>US</td>\n",
       "      <td>Frisch's Big Boy</td>\n",
       "    </tr>\n",
       "    <tr>\n",
       "      <th>3</th>\n",
       "      <td>6098 State Highway 37</td>\n",
       "      <td>us/ny/massena/6098statehighway37/-1161002137</td>\n",
       "      <td>Massena</td>\n",
       "      <td>US</td>\n",
       "      <td>McDonald's</td>\n",
       "    </tr>\n",
       "    <tr>\n",
       "      <th>4</th>\n",
       "      <td>139 Columbus Rd</td>\n",
       "      <td>us/oh/athens/139columbusrd/990890980</td>\n",
       "      <td>Athens</td>\n",
       "      <td>US</td>\n",
       "      <td>OMG! Rotisserie</td>\n",
       "    </tr>\n",
       "  </tbody>\n",
       "</table>\n",
       "</div>"
      ],
      "text/plain": [
       "                 address                                               keys  \\\n",
       "0            324 Main St                us/ny/massena/324mainst/-1161002137   \n",
       "1        530 Clinton Ave  us/oh/washingtoncourthouse/530clintonave/-7914...   \n",
       "2   408 Market Square Dr       us/ky/maysville/408marketsquaredr/1051460804   \n",
       "3  6098 State Highway 37       us/ny/massena/6098statehighway37/-1161002137   \n",
       "4        139 Columbus Rd               us/oh/athens/139columbusrd/990890980   \n",
       "\n",
       "                     city country              name  \n",
       "0                 Massena      US        McDonald's  \n",
       "1  Washington Court House      US           Wendy's  \n",
       "2               Maysville      US  Frisch's Big Boy  \n",
       "3                 Massena      US        McDonald's  \n",
       "4                  Athens      US   OMG! Rotisserie  "
      ]
     },
     "execution_count": 15,
     "metadata": {},
     "output_type": "execute_result"
    }
   ],
   "source": [
    "df.head()"
   ]
  },
  {
   "cell_type": "code",
   "execution_count": 16,
   "id": "3dc85d93-614f-4c15-87b0-540f85990486",
   "metadata": {},
   "outputs": [],
   "source": [
    "import seaborn as sns\n",
    "import matplotlib.pyplot as plt\n"
   ]
  },
  {
   "cell_type": "markdown",
   "id": "4c8f978b-d9a7-4c1b-bb33-af207598617e",
   "metadata": {},
   "source": [
    "### Data Visualization (Exploratory Data Analysis)"
   ]
  },
  {
   "cell_type": "code",
   "execution_count": 17,
   "id": "3923cd00-f016-4383-96b5-b75e82460f20",
   "metadata": {},
   "outputs": [
    {
     "name": "stdout",
     "output_type": "stream",
     "text": [
      "<class 'pandas.core.frame.DataFrame'>\n",
      "Index: 9535 entries, 0 to 9999\n",
      "Data columns (total 5 columns):\n",
      " #   Column   Non-Null Count  Dtype \n",
      "---  ------   --------------  ----- \n",
      " 0   address  9535 non-null   object\n",
      " 1   keys     9535 non-null   object\n",
      " 2   city     9535 non-null   object\n",
      " 3   country  9535 non-null   object\n",
      " 4   name     9535 non-null   object\n",
      "dtypes: object(5)\n",
      "memory usage: 447.0+ KB\n"
     ]
    }
   ],
   "source": [
    "df.info()"
   ]
  },
  {
   "cell_type": "code",
   "execution_count": 18,
   "id": "912fb3bb-59cc-4daf-96fe-8a37e187c64c",
   "metadata": {},
   "outputs": [
    {
     "data": {
      "text/html": [
       "<div>\n",
       "<style scoped>\n",
       "    .dataframe tbody tr th:only-of-type {\n",
       "        vertical-align: middle;\n",
       "    }\n",
       "\n",
       "    .dataframe tbody tr th {\n",
       "        vertical-align: top;\n",
       "    }\n",
       "\n",
       "    .dataframe thead th {\n",
       "        text-align: right;\n",
       "    }\n",
       "</style>\n",
       "<table border=\"1\" class=\"dataframe\">\n",
       "  <thead>\n",
       "    <tr style=\"text-align: right;\">\n",
       "      <th></th>\n",
       "      <th>address</th>\n",
       "      <th>keys</th>\n",
       "      <th>city</th>\n",
       "      <th>country</th>\n",
       "      <th>name</th>\n",
       "    </tr>\n",
       "  </thead>\n",
       "  <tbody>\n",
       "    <tr>\n",
       "      <th>count</th>\n",
       "      <td>9535</td>\n",
       "      <td>9535</td>\n",
       "      <td>9535</td>\n",
       "      <td>9535</td>\n",
       "      <td>9535</td>\n",
       "    </tr>\n",
       "    <tr>\n",
       "      <th>unique</th>\n",
       "      <td>9472</td>\n",
       "      <td>9535</td>\n",
       "      <td>2697</td>\n",
       "      <td>1</td>\n",
       "      <td>433</td>\n",
       "    </tr>\n",
       "    <tr>\n",
       "      <th>top</th>\n",
       "      <td>3900 Las Vegas Blvd S</td>\n",
       "      <td>us/ny/massena/324mainst/-1161002137</td>\n",
       "      <td>Cincinnati</td>\n",
       "      <td>US</td>\n",
       "      <td>McDonald's</td>\n",
       "    </tr>\n",
       "    <tr>\n",
       "      <th>freq</th>\n",
       "      <td>3</td>\n",
       "      <td>1</td>\n",
       "      <td>116</td>\n",
       "      <td>9535</td>\n",
       "      <td>1865</td>\n",
       "    </tr>\n",
       "  </tbody>\n",
       "</table>\n",
       "</div>"
      ],
      "text/plain": [
       "                      address                                 keys  \\\n",
       "count                    9535                                 9535   \n",
       "unique                   9472                                 9535   \n",
       "top     3900 Las Vegas Blvd S  us/ny/massena/324mainst/-1161002137   \n",
       "freq                        3                                    1   \n",
       "\n",
       "              city country        name  \n",
       "count         9535    9535        9535  \n",
       "unique        2697       1         433  \n",
       "top     Cincinnati      US  McDonald's  \n",
       "freq           116    9535        1865  "
      ]
     },
     "execution_count": 18,
     "metadata": {},
     "output_type": "execute_result"
    }
   ],
   "source": [
    "df.describe()"
   ]
  },
  {
   "cell_type": "code",
   "execution_count": null,
   "id": "f80be54e-fa15-47c2-b75d-e99d21968770",
   "metadata": {},
   "outputs": [],
   "source": [
    "plt.figure(figsize=(10, 12))\n",
    "sns.countplot(y=df['name'], order=df['name'].value_counts().index[:10])\n",
    "plt.title('Top 10 ')"
   ]
  }
 ],
 "metadata": {
  "kernelspec": {
   "display_name": "Python 3 (ipykernel)",
   "language": "python",
   "name": "python3"
  },
  "language_info": {
   "codemirror_mode": {
    "name": "ipython",
    "version": 3
   },
   "file_extension": ".py",
   "mimetype": "text/x-python",
   "name": "python",
   "nbconvert_exporter": "python",
   "pygments_lexer": "ipython3",
   "version": "3.11.7"
  },
  "widgets": {
   "application/vnd.jupyter.widget-state+json": {
    "state": {},
    "version_major": 2,
    "version_minor": 0
   }
  }
 },
 "nbformat": 4,
 "nbformat_minor": 5
}
