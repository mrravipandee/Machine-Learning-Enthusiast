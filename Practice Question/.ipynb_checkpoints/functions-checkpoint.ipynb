{
 "cells": [
  {
   "cell_type": "code",
   "execution_count": 4,
   "id": "c0422c66-cb45-4037-b58b-eff711a6ffc3",
   "metadata": {},
   "outputs": [
    {
     "name": "stdout",
     "output_type": "stream",
     "text": [
      "1 is Not Prime\n",
      "2 is Prime\n",
      "3 is Prime\n",
      "4 is Not Prime\n",
      "5 is Prime\n",
      "6 is Not Prime\n",
      "7 is Prime\n",
      "8 is Not Prime\n",
      "9 is Not Prime\n"
     ]
    }
   ],
   "source": [
    "def is_prime(num):\n",
    "    if num < 2:  \n",
    "        return False\n",
    "    if num == 2:  \n",
    "        return True\n",
    "    if num % 2 == 0:  \n",
    "        return False\n",
    "    \n",
    "    for i in range(3, num // 2 + 1, 2):\n",
    "        if num % i == 0:\n",
    "            return False\n",
    "    return True\n",
    "\n",
    "# Loop for range\n",
    "for i in range(1, 10):\n",
    "    if is_prime(i):\n",
    "        print(f\"{i} is Prime\")\n",
    "    else:\n",
    "        print(f\"{i} is Not Prime\")"
   ]
  },
  {
   "cell_type": "code",
   "execution_count": 6,
   "id": "2f7e4859-01ed-43de-976a-fe92a5328e44",
   "metadata": {},
   "outputs": [
    {
     "data": {
      "text/plain": [
       "{10: 100,\n",
       " 11: 121,\n",
       " 12: 144,\n",
       " 13: 169,\n",
       " 14: 196,\n",
       " 15: 225,\n",
       " 16: 256,\n",
       " 17: 289,\n",
       " 18: 324,\n",
       " 19: 361,\n",
       " 20: 400}"
      ]
     },
     "execution_count": 6,
     "metadata": {},
     "output_type": "execute_result"
    }
   ],
   "source": [
    "# 1 to 10 primt square using dictionary {1:1, 2:4, 3:9, etc...}\n",
    "def dict_squares(start = 1, end = 10):\n",
    "    # use dic comprehention\n",
    "    dict = {num: num ** 2 for num in range(start, end+1)}\n",
    "    return dict\n",
    "\n",
    "\n",
    "dict_squares(10,20)"
   ]
  },
  {
   "cell_type": "code",
   "execution_count": null,
   "id": "c3ab11f3-ee9b-40de-b8fd-739246349563",
   "metadata": {},
   "outputs": [],
   "source": []
  }
 ],
 "metadata": {
  "kernelspec": {
   "display_name": "Python 3 (ipykernel)",
   "language": "python",
   "name": "python3"
  },
  "language_info": {
   "codemirror_mode": {
    "name": "ipython",
    "version": 3
   },
   "file_extension": ".py",
   "mimetype": "text/x-python",
   "name": "python",
   "nbconvert_exporter": "python",
   "pygments_lexer": "ipython3",
   "version": "3.11.7"
  },
  "widgets": {
   "application/vnd.jupyter.widget-state+json": {
    "state": {},
    "version_major": 2,
    "version_minor": 0
   }
  }
 },
 "nbformat": 4,
 "nbformat_minor": 5
}
