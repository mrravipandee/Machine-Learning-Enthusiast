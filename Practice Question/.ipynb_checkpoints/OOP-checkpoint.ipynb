{
 "cells": [
  {
   "cell_type": "code",
   "execution_count": 7,
   "id": "45adb05c-f3bd-4a77-ad55-13596f35774f",
   "metadata": {},
   "outputs": [],
   "source": [
    "class Car:\n",
    "    # attributes\n",
    "    def __init__(self, brand, model, year, color):\n",
    "        self.brand = brand\n",
    "        self.model = model\n",
    "        self.year = year\n",
    "        self.color = color\n",
    "\n",
    "    # methods\n",
    "    def start(self):\n",
    "        print(f'The {self.brand} {self.model} is starting...')\n",
    "\n",
    "    def stop(self):\n",
    "        print(f'The {self.brand} {self.model} is stopping...')\n"
   ]
  },
  {
   "cell_type": "code",
   "execution_count": 9,
   "id": "d57b753e-d885-4ead-bb95-a071b0f0cc00",
   "metadata": {},
   "outputs": [
    {
     "name": "stdout",
     "output_type": "stream",
     "text": [
      "The Mahindra XUV 300 is starting...\n"
     ]
    }
   ],
   "source": [
    "# object of car\n",
    "my_car = Car('Mahindra', 'XUV 300', 2020, 'White')\n",
    "\n",
    "my_car.start()"
   ]
  },
  {
   "cell_type": "code",
   "execution_count": 10,
   "id": "d5e98e55-f0d5-4165-8c77-a5fd747a7059",
   "metadata": {},
   "outputs": [
    {
     "name": "stdout",
     "output_type": "stream",
     "text": [
      "The Mahindra XUV 300 is stopping...\n"
     ]
    }
   ],
   "source": [
    "my_car.stop()"
   ]
  },
  {
   "cell_type": "markdown",
   "id": "8ed9043e-1665-4699-9de4-76031c1fa8b6",
   "metadata": {},
   "source": [
    "### Employee and Manager System (Inheritance with Method Overriding)"
   ]
  },
  {
   "cell_type": "code",
   "execution_count": 16,
   "id": "ddfac235-a95b-45da-a31e-741023de84bf",
   "metadata": {},
   "outputs": [],
   "source": [
    "class Employee:\n",
    "    def __init__(self, emp_name, emp_id, emp_salary):\n",
    "        self.emp_name = emp_name\n",
    "        self.emp_id = emp_id\n",
    "        self.emp_salary = emp_salary\n",
    "\n",
    "    def info(self):\n",
    "        print(f'Name: {emp_name}, Employee ID: {emp_id}, Salar: {emp_salary}')\n",
    "\n",
    "\n",
    "class Manager(Employee): # inherit employee class \n",
    "    def __init__(self, name, emp_id, salary, team_size):\n",
    "        super().__init__(name, emp_id, salary)\n",
    "        self.team_size = team_size\n",
    "\n",
    "    def get_bonus(self):\n",
    "        # bonus is 5% of salary of team members\n",
    "        return self.team_size * 0.05 * self.salary\n",
    "\n",
    "    def info(self):\n",
    "        super().info()\n",
    "        print(f'Team size {self.team_size} and Bonus is {self.bonus}')"
   ]
  },
  {
   "cell_type": "code",
   "execution_count": 17,
   "id": "d4b6096a-f60d-4129-883f-bdc986a0f874",
   "metadata": {},
   "outputs": [],
   "source": [
    "emp1 = Employee('Aman', 2211, 40000)\n",
    "emp2 = Manager('Suraj', 2212, 50000, 12)"
   ]
  },
  {
   "cell_type": "code",
   "execution_count": 18,
   "id": "97c3e90f-7d1c-4de9-a95f-28788ca660b7",
   "metadata": {},
   "outputs": [
    {
     "ename": "NameError",
     "evalue": "name 'emp_name' is not defined",
     "output_type": "error",
     "traceback": [
      "\u001b[0;31m---------------------------------------------------------------------------\u001b[0m",
      "\u001b[0;31mNameError\u001b[0m                                 Traceback (most recent call last)",
      "Cell \u001b[0;32mIn[18], line 1\u001b[0m\n\u001b[0;32m----> 1\u001b[0m emp1\u001b[38;5;241m.\u001b[39minfo()\n",
      "Cell \u001b[0;32mIn[16], line 8\u001b[0m, in \u001b[0;36mEmployee.info\u001b[0;34m(self)\u001b[0m\n\u001b[1;32m      7\u001b[0m \u001b[38;5;28;01mdef\u001b[39;00m \u001b[38;5;21minfo\u001b[39m(\u001b[38;5;28mself\u001b[39m):\n\u001b[0;32m----> 8\u001b[0m     \u001b[38;5;28mprint\u001b[39m(\u001b[38;5;124mf\u001b[39m\u001b[38;5;124m'\u001b[39m\u001b[38;5;124mName: \u001b[39m\u001b[38;5;132;01m{\u001b[39;00memp_name\u001b[38;5;132;01m}\u001b[39;00m\u001b[38;5;124m, Employee ID: \u001b[39m\u001b[38;5;132;01m{\u001b[39;00memp_id\u001b[38;5;132;01m}\u001b[39;00m\u001b[38;5;124m, Salar: \u001b[39m\u001b[38;5;132;01m{\u001b[39;00memp_salary\u001b[38;5;132;01m}\u001b[39;00m\u001b[38;5;124m'\u001b[39m)\n",
      "\u001b[0;31mNameError\u001b[0m: name 'emp_name' is not defined"
     ]
    }
   ],
   "source": [
    "emp1.info()"
   ]
  },
  {
   "cell_type": "code",
   "execution_count": null,
   "id": "44704a56-67b9-48b0-bf14-01faaaba2cdd",
   "metadata": {},
   "outputs": [],
   "source": []
  }
 ],
 "metadata": {
  "kernelspec": {
   "display_name": "Python 3 (ipykernel)",
   "language": "python",
   "name": "python3"
  },
  "language_info": {
   "codemirror_mode": {
    "name": "ipython",
    "version": 3
   },
   "file_extension": ".py",
   "mimetype": "text/x-python",
   "name": "python",
   "nbconvert_exporter": "python",
   "pygments_lexer": "ipython3",
   "version": "3.11.7"
  },
  "widgets": {
   "application/vnd.jupyter.widget-state+json": {
    "state": {},
    "version_major": 2,
    "version_minor": 0
   }
  }
 },
 "nbformat": 4,
 "nbformat_minor": 5
}
