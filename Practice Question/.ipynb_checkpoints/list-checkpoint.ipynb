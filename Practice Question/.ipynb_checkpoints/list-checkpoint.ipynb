{
 "cells": [
  {
   "cell_type": "code",
   "execution_count": 1,
   "id": "dedf7c15-1881-4318-9e16-7ac627acac07",
   "metadata": {},
   "outputs": [
    {
     "name": "stdout",
     "output_type": "stream",
     "text": [
      "[1, 2, 3, 4, 5]\n"
     ]
    }
   ],
   "source": [
    "# Create and Print a List\n",
    "l = [1,2,3,4,5]\n",
    "print(l)"
   ]
  },
  {
   "cell_type": "code",
   "execution_count": 3,
   "id": "953df5f6-cc31-432f-b45e-2a5507e5077e",
   "metadata": {},
   "outputs": [
    {
     "name": "stdout",
     "output_type": "stream",
     "text": [
      "length of [1, 2, 3, 4, 5] is: 5\n"
     ]
    }
   ],
   "source": [
    "# List Length\n",
    "counter = 0\n",
    "for i in l:\n",
    "    counter += 1\n",
    "\n",
    "print(f'length of {l} is: {counter}')"
   ]
  },
  {
   "cell_type": "code",
   "execution_count": 4,
   "id": "acef629e-f4f5-4cd0-810b-c227816b5586",
   "metadata": {},
   "outputs": [
    {
     "name": "stdout",
     "output_type": "stream",
     "text": [
      "first item  1\n",
      "last item 5\n"
     ]
    }
   ],
   "source": [
    "# Accessing Elements\n",
    "# Create a list of strings and print the first and last elements.\n",
    "print('first item ',l[0])\n",
    "print('last item',l[-1])\n"
   ]
  },
  {
   "cell_type": "code",
   "execution_count": 5,
   "id": "3c82ef10-77ad-4b36-aae3-022598d93f3a",
   "metadata": {},
   "outputs": [
    {
     "name": "stdout",
     "output_type": "stream",
     "text": [
      "sum  15\n"
     ]
    }
   ],
   "source": [
    "# Write a program that takes a list of numbers and returns the sum of all elements in the list.\n",
    "\n",
    "sum = 0\n",
    "for i in l:\n",
    "    sum += i\n",
    "\n",
    "print('sum ',sum)"
   ]
  },
  {
   "cell_type": "code",
   "execution_count": 7,
   "id": "4f752794-6e41-4d9c-b0c1-85648d959cf8",
   "metadata": {},
   "outputs": [
    {
     "data": {
      "text/plain": [
       "1"
      ]
     },
     "execution_count": 7,
     "metadata": {},
     "output_type": "execute_result"
    }
   ],
   "source": [
    "# Write a program that finds the largest and smallest numbers in a list.\n",
    "max(l)\n",
    "min(l)"
   ]
  },
  {
   "cell_type": "code",
   "execution_count": 21,
   "id": "976dda41-b7af-4cfb-82dd-00e26db19efe",
   "metadata": {},
   "outputs": [
    {
     "name": "stdout",
     "output_type": "stream",
     "text": [
      "largest  9\n",
      "smallest  1\n"
     ]
    }
   ],
   "source": [
    "l = [5, 2, 9, 1, 7]\n",
    "\n",
    "large = l[0]\n",
    "small = l[0]\n",
    "\n",
    "for i in l:\n",
    "    if i > large:\n",
    "        large = i\n",
    "    elif i < small:\n",
    "        small = i\n",
    "\n",
    "print('largest ',large)\n",
    "print('smallest ',small)"
   ]
  },
  {
   "cell_type": "code",
   "execution_count": 22,
   "id": "d7cc47d0-768e-4bc6-8269-1764d732daaa",
   "metadata": {},
   "outputs": [
    {
     "name": "stdout",
     "output_type": "stream",
     "text": [
      "[1, 2, 3, 4, 5, 6, 7, 8, 10, 9]\n"
     ]
    }
   ],
   "source": [
    "# Removing Duplicates from list\n",
    "test = [1,2,3,3,4,5,6,7,5,8,10,4,4,9]\n",
    "res = []\n",
    "\n",
    "for i in test:\n",
    "    if i not in res:\n",
    "        res.append(i)\n",
    "\n",
    "print(res)"
   ]
  },
  {
   "cell_type": "code",
   "execution_count": 23,
   "id": "d99f2d43-c78b-4fbc-957d-0c01b4c16f84",
   "metadata": {},
   "outputs": [],
   "source": [
    "# List Reversal\n"
   ]
  },
  {
   "cell_type": "code",
   "execution_count": 24,
   "id": "35146c75-c1c4-40b9-bbf9-38ac1bf32e91",
   "metadata": {},
   "outputs": [
    {
     "data": {
      "text/plain": [
       "True"
      ]
     },
     "execution_count": 24,
     "metadata": {},
     "output_type": "execute_result"
    }
   ],
   "source": [
    "# Check if List is Empty\n",
    "def is_empty(lst):\n",
    "    return len(lst) == 0\n",
    "\n",
    "l = []\n",
    "is_empty(l)"
   ]
  },
  {
   "cell_type": "code",
   "execution_count": 27,
   "id": "2f3449cf-2bba-41bf-96e2-33ff6ac657c8",
   "metadata": {},
   "outputs": [
    {
     "data": {
      "text/plain": [
       "[4, 16, 36, 64, 100]"
      ]
     },
     "execution_count": 27,
     "metadata": {},
     "output_type": "execute_result"
    }
   ],
   "source": [
    "# Write a program to create a new list with the squares of even numbers.\n",
    "l = [1,2,3,4,5,6,7,8,9,10]\n",
    "\n",
    "[i**2 for i in l if i % 2 == 0]"
   ]
  },
  {
   "cell_type": "code",
   "execution_count": 28,
   "id": "16d3d863-c0c1-49ac-9708-bd1827c0d517",
   "metadata": {},
   "outputs": [
    {
     "name": "stdout",
     "output_type": "stream",
     "text": [
      "[4, 16, 36, 64, 100]\n"
     ]
    }
   ],
   "source": [
    "res = []\n",
    "for i in l:\n",
    "    if i % 2 == 0:\n",
    "        res.append(i**2)\n",
    "\n",
    "print(res)"
   ]
  },
  {
   "cell_type": "code",
   "execution_count": 32,
   "id": "fd729d81-a215-4f0b-b33e-5f67435a2d52",
   "metadata": {},
   "outputs": [
    {
     "data": {
      "text/plain": [
       "[2, 4]"
      ]
     },
     "execution_count": 32,
     "metadata": {},
     "output_type": "execute_result"
    }
   ],
   "source": [
    "# Common Elements Between Two Lists\n",
    "l1 = [1,2,3,4,5]\n",
    "l2 = [7,8,6,2,4]\n",
    "\n",
    "res = []\n",
    "\n",
    "# logic for using those list which are common items make new list\n",
    "[i for i in l1 if i in l2]"
   ]
  },
  {
   "cell_type": "code",
   "execution_count": null,
   "id": "a5ac89d1-4239-4352-8df6-1c4c5581d776",
   "metadata": {},
   "outputs": [],
   "source": [
    "# "
   ]
  }
 ],
 "metadata": {
  "kernelspec": {
   "display_name": "Python 3 (ipykernel)",
   "language": "python",
   "name": "python3"
  },
  "language_info": {
   "codemirror_mode": {
    "name": "ipython",
    "version": 3
   },
   "file_extension": ".py",
   "mimetype": "text/x-python",
   "name": "python",
   "nbconvert_exporter": "python",
   "pygments_lexer": "ipython3",
   "version": "3.11.7"
  },
  "widgets": {
   "application/vnd.jupyter.widget-state+json": {
    "state": {},
    "version_major": 2,
    "version_minor": 0
   }
  }
 },
 "nbformat": 4,
 "nbformat_minor": 5
}
