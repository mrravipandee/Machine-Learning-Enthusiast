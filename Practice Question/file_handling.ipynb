{
 "cells": [
  {
   "cell_type": "markdown",
   "id": "90e2fc98-9848-4b20-936b-9e6bd0e9117b",
   "metadata": {},
   "source": [
    "### `Q1` Write a Python program to open a file named `example.txt`, read its content, and print it."
   ]
  },
  {
   "cell_type": "code",
   "execution_count": 5,
   "id": "bede8077-716e-4e8e-9d2f-569729825a66",
   "metadata": {},
   "outputs": [],
   "source": [
    "with open('example.txt', 'w') as f: # creating a file or store some text\n",
    "    f.write('hello my name is Ravi Pandey...')\n"
   ]
  },
  {
   "cell_type": "code",
   "execution_count": 6,
   "id": "94008860-0dfc-4102-bb94-e107b85a6d20",
   "metadata": {},
   "outputs": [
    {
     "name": "stdout",
     "output_type": "stream",
     "text": [
      "hello my name is Ravi Pandey...\n"
     ]
    }
   ],
   "source": [
    "with open('example.txt', 'r') as f: # reading a context of file\n",
    "    print(f.read())"
   ]
  },
  {
   "cell_type": "markdown",
   "id": "97012911-20b2-4c09-a227-dd99ceac4fe9",
   "metadata": {},
   "source": [
    "### `Q2` Write a program to count the number of lines in a file."
   ]
  },
  {
   "cell_type": "code",
   "execution_count": 8,
   "id": "d64d8550-210a-48ac-a34b-b7518e8af0c5",
   "metadata": {},
   "outputs": [
    {
     "data": {
      "text/plain": [
       "1"
      ]
     },
     "execution_count": 8,
     "metadata": {},
     "output_type": "execute_result"
    }
   ],
   "source": [
    "count = 0\n",
    "\n",
    "for lines in open('example.txt'):\n",
    "    count += 1\n",
    "\n",
    "count"
   ]
  },
  {
   "cell_type": "markdown",
   "id": "75cd55fe-ef56-4373-807a-d5bdb3eb35ec",
   "metadata": {},
   "source": [
    "### `Q3` Write a Python script to count the number of words in `example.txt`"
   ]
  },
  {
   "cell_type": "code",
   "execution_count": 9,
   "id": "d2427945-1555-4e21-8f9e-846c1f0fea3a",
   "metadata": {},
   "outputs": [
    {
     "data": {
      "text/plain": [
       "6"
      ]
     },
     "execution_count": 9,
     "metadata": {},
     "output_type": "execute_result"
    }
   ],
   "source": [
    "words_count = 0\n",
    "\n",
    "for lines in open('example.txt'):\n",
    "    words_count += len(lines.split())\n",
    "\n",
    "words_count"
   ]
  },
  {
   "cell_type": "markdown",
   "id": "800ded01-aad9-4bfa-901d-37da5b91f3c9",
   "metadata": {},
   "source": [
    "### `Q4` Append the text `\"This is an appended line.\"` to an existing file."
   ]
  },
  {
   "cell_type": "code",
   "execution_count": 21,
   "id": "a1592f0c-ea54-4cfe-975a-3cb0cc1995bc",
   "metadata": {},
   "outputs": [
    {
     "name": "stdout",
     "output_type": "stream",
     "text": [
      "hello my name is Ravi Pandey...\n",
      "this is practice question 2 test\n",
      "would you like to go movieThis is an appended line.\n"
     ]
    }
   ],
   "source": [
    "append_line = \"This is an appended line.\"\n",
    "\n",
    "with open('example.txt', 'a') as f:\n",
    "    f.write(append_line)\n",
    "\n",
    "\n",
    "with open('example.txt', 'r') as f:\n",
    "    print(f.read())"
   ]
  },
  {
   "cell_type": "markdown",
   "id": "36b3aa90-1f05-41cf-8d05-169a27bff811",
   "metadata": {},
   "source": [
    "### `Q5` Create a new file named `output.txt` and write the string `\"Hello, File Handling!\"` into it."
   ]
  },
  {
   "cell_type": "code",
   "execution_count": 22,
   "id": "c14cc222-efdc-4318-a164-e4ced110050b",
   "metadata": {},
   "outputs": [],
   "source": [
    "f = open('output.txt', 'w')\n",
    "f.write('Hello, File Handling')\n",
    "f.close()"
   ]
  },
  {
   "cell_type": "markdown",
   "id": "4709fef1-3df5-4bf0-ad40-47a01ae9c8b4",
   "metadata": {},
   "source": [
    "### `Q6` Write a Python program to copy the content of `source.txt` to `destination.txt`."
   ]
  },
  {
   "cell_type": "code",
   "execution_count": null,
   "id": "e405dfcd-ec69-4605-b904-8284be8d9560",
   "metadata": {},
   "outputs": [],
   "source": []
  }
 ],
 "metadata": {
  "kernelspec": {
   "display_name": "Python 3 (ipykernel)",
   "language": "python",
   "name": "python3"
  },
  "language_info": {
   "codemirror_mode": {
    "name": "ipython",
    "version": 3
   },
   "file_extension": ".py",
   "mimetype": "text/x-python",
   "name": "python",
   "nbconvert_exporter": "python",
   "pygments_lexer": "ipython3",
   "version": "3.11.7"
  },
  "widgets": {
   "application/vnd.jupyter.widget-state+json": {
    "state": {},
    "version_major": 2,
    "version_minor": 0
   }
  }
 },
 "nbformat": 4,
 "nbformat_minor": 5
}
