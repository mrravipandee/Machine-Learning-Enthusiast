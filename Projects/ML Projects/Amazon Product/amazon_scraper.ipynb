{
 "cells": [
  {
   "cell_type": "code",
   "execution_count": 4,
   "id": "99d036bd-e6a3-4f6b-9d6b-2fd6ad83ff5d",
   "metadata": {},
   "outputs": [
    {
     "name": "stdout",
     "output_type": "stream",
     "text": [
      "Data saved to product_data.csv\n"
     ]
    }
   ],
   "source": [
    "import requests\n",
    "from bs4 import BeautifulSoup\n",
    "import pandas as pd\n",
    "\n",
    "def extract_product_details(soup):\n",
    "    product_name = soup.find(\"span\", {\"id\": \"productTitle\"})\n",
    "    product_name = product_name.get_text(strip=True) if product_name else \"No product name available\"\n",
    "    \n",
    "    price = soup.find(\"span\", {\"class\": \"a-price-whole\"})\n",
    "    price = price.get_text(strip=True) if price else \"Not Available\"\n",
    "    \n",
    "    img = soup.find(\"img\", {\"id\": \"landingImage\"})\n",
    "    img_url = img['src'] if img else \"No image found\"\n",
    "    \n",
    "    description = soup.find(\"div\", {\"id\": \"feature-bullets\"})\n",
    "    description = description.get_text(strip=True) if description else \"No description available\"\n",
    "    \n",
    "    rating = soup.find(\"span\", {\"class\": \"a-icon-alt\"})\n",
    "    rating = rating.get_text(strip=True) if rating else \"No rating\"\n",
    "\n",
    "    return {\n",
    "        \"Product Name\": product_name,\n",
    "        \"Price\": price,\n",
    "        \"Image URL\": img_url,\n",
    "        \"Description\": description,\n",
    "        \"Overall Rating\": rating,\n",
    "    }\n",
    "\n",
    "def extract_reviews(soup):\n",
    "    reviews = []\n",
    "    review_elements = soup.find_all(\"li\", {\"data-hook\": \"review\"})\n",
    "    for review in review_elements:\n",
    "        review_text = review.find(\"span\", {\"data-hook\": \"review-body\"})\n",
    "        if review_text:\n",
    "            reviews.append(review_text.get_text(strip=True))\n",
    "    return reviews\n",
    "\n",
    "def scrape_amazon_product(url):\n",
    "    headers = {\n",
    "        \"User-Agent\": \"Mozilla/5.0 (Windows NT 10.0; Win64; x64) AppleWebKit/537.36 (KHTML, like Gecko) Chrome/91.0.4472.124 Safari/537.36\"\n",
    "    }\n",
    "    response = requests.get(url, headers=headers)\n",
    "\n",
    "    if response.status_code != 200:\n",
    "        print(f\"Failed to retrieve the webpage. Status code: {response.status_code}\")\n",
    "        return None\n",
    "\n",
    "    soup = BeautifulSoup(response.content, \"html.parser\")\n",
    "    product_details = extract_product_details(soup)\n",
    "    reviews = extract_reviews(soup)\n",
    "    \n",
    "    product_details[\"Reviews\"] = reviews\n",
    "    return product_details\n",
    "\n",
    "def save_to_csv(product_data):\n",
    "    if product_data:\n",
    "        reviews = product_data.pop(\"Reviews\", [])\n",
    "        product_df = pd.DataFrame([product_data])\n",
    "        review_df = pd.DataFrame(reviews, columns=[\"Review Text\"])\n",
    "        combined_df = pd.concat([product_df, review_df], axis=1)\n",
    "        \n",
    "        filename = \"product_data.csv\"\n",
    "        combined_df.to_csv(filename, index=False)\n",
    "        print(f\"Data saved to {filename}\")\n",
    "\n",
    "if __name__ == \"__main__\":\n",
    "    product_url = \"https://amzn.in/d/eVKIxwZ\"\n",
    "    product_data = scrape_amazon_product(product_url)\n",
    "\n",
    "    if product_data:\n",
    "        save_to_csv(product_data)\n",
    "    else:\n",
    "        print(\"No data to save.\")"
   ]
  },
  {
   "cell_type": "code",
   "execution_count": null,
   "id": "883b12d3-1412-473e-aa4a-6ee98d2c96d1",
   "metadata": {},
   "outputs": [],
   "source": []
  }
 ],
 "metadata": {
  "kernelspec": {
   "display_name": "Python 3 (ipykernel)",
   "language": "python",
   "name": "python3"
  },
  "language_info": {
   "codemirror_mode": {
    "name": "ipython",
    "version": 3
   },
   "file_extension": ".py",
   "mimetype": "text/x-python",
   "name": "python",
   "nbconvert_exporter": "python",
   "pygments_lexer": "ipython3",
   "version": "3.11.7"
  },
  "widgets": {
   "application/vnd.jupyter.widget-state+json": {
    "state": {},
    "version_major": 2,
    "version_minor": 0
   }
  }
 },
 "nbformat": 4,
 "nbformat_minor": 5
}
