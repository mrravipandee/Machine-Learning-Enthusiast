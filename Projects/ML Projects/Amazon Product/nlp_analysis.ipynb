{
 "cells": [
  {
   "cell_type": "code",
   "execution_count": 6,
   "id": "3851492d-c819-46ad-b078-2815770f3851",
   "metadata": {},
   "outputs": [
    {
     "name": "stdout",
     "output_type": "stream",
     "text": [
      "Positive Review Percentage: 87.50%\n",
      "Overall Rating: 3.7\n",
      "Recommendation: No sufficient data to determine a recommendation.\n"
     ]
    },
    {
     "name": "stderr",
     "output_type": "stream",
     "text": [
      "[nltk_data] Downloading package vader_lexicon to\n",
      "[nltk_data]     /Users/ravipandey/nltk_data...\n",
      "[nltk_data]   Package vader_lexicon is already up-to-date!\n"
     ]
    }
   ],
   "source": [
    "import pandas as pd\n",
    "from nltk.sentiment import SentimentIntensityAnalyzer\n",
    "import nltk\n",
    "\n",
    "# Download necessary data for nltk\n",
    "nltk.download('vader_lexicon')\n",
    "\n",
    "def analyze_sentiments(reviews):\n",
    "    sia = SentimentIntensityAnalyzer()\n",
    "    positive_count = 0\n",
    "    total_reviews = len(reviews)\n",
    "\n",
    "    for review in reviews:\n",
    "        score = sia.polarity_scores(review)\n",
    "        if score['compound'] > 0.05:  # Compound score > 0.05 indicates positive sentiment\n",
    "            positive_count += 1\n",
    "    \n",
    "    positive_percentage = (positive_count / total_reviews) * 100 if total_reviews > 0 else 0\n",
    "    return positive_percentage\n",
    "\n",
    "def recommend_product(csv_file):\n",
    "    data = pd.read_csv(csv_file)\n",
    "    reviews = data[\"Review Text\"].dropna().tolist()\n",
    "    overall_rating = data[\"Overall Rating\"][0] if \"Overall Rating\" in data.columns else \"0.0\"\n",
    "    overall_rating = float(overall_rating.split()[0]) if overall_rating != \"0.0\" else 0.0\n",
    "    \n",
    "    positive_percentage = analyze_sentiments(reviews)\n",
    "\n",
    "    # Updated conditions\n",
    "    if positive_percentage > 70 and overall_rating >= 4.0:\n",
    "        recommendation = \"Highly recommended product for purchase.\"\n",
    "    elif 50 <= positive_percentage <= 70:\n",
    "        recommendation = (\n",
    "            \"The product has mixed reviews. Consider reading specific reviews before purchasing.\"\n",
    "        )\n",
    "    elif positive_percentage < 50:\n",
    "        recommendation = \"Not recommended due to low positive feedback.\"\n",
    "    else:\n",
    "        recommendation = \"No sufficient data to determine a recommendation.\"\n",
    "    \n",
    "    print(f\"Positive Review Percentage: {positive_percentage:.2f}%\")\n",
    "    print(f\"Overall Rating: {overall_rating}\")\n",
    "    print(f\"Recommendation: {recommendation}\")\n",
    "\n",
    "\n",
    "if __name__ == \"__main__\":\n",
    "    csv_file = \"product_data.csv\"\n",
    "    recommend_product(csv_file)\n"
   ]
  },
  {
   "cell_type": "code",
   "execution_count": null,
   "id": "cb04bd27-c145-41b5-a8cc-9cc971ad0452",
   "metadata": {},
   "outputs": [],
   "source": []
  }
 ],
 "metadata": {
  "kernelspec": {
   "display_name": "Python 3 (ipykernel)",
   "language": "python",
   "name": "python3"
  },
  "language_info": {
   "codemirror_mode": {
    "name": "ipython",
    "version": 3
   },
   "file_extension": ".py",
   "mimetype": "text/x-python",
   "name": "python",
   "nbconvert_exporter": "python",
   "pygments_lexer": "ipython3",
   "version": "3.11.7"
  },
  "widgets": {
   "application/vnd.jupyter.widget-state+json": {
    "state": {},
    "version_major": 2,
    "version_minor": 0
   }
  }
 },
 "nbformat": 4,
 "nbformat_minor": 5
}
