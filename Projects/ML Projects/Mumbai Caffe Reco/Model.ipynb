{
 "cells": [
  {
   "cell_type": "code",
   "execution_count": 1,
   "id": "c882c40a-26d3-4b48-b3ec-b99b44244653",
   "metadata": {},
   "outputs": [],
   "source": [
    "import pandas as pd\n",
    "import numpy as np\n",
    "import matplotlib.pyplot as plt\n",
    "import seaborn as sns\n",
    "from sklearn.linear_model import LinearRegression"
   ]
  },
  {
   "cell_type": "code",
   "execution_count": 2,
   "id": "2633ee77-a5e7-495c-b612-5cbc19df3f8d",
   "metadata": {},
   "outputs": [
    {
     "data": {
      "text/html": [
       "<div>\n",
       "<style scoped>\n",
       "    .dataframe tbody tr th:only-of-type {\n",
       "        vertical-align: middle;\n",
       "    }\n",
       "\n",
       "    .dataframe tbody tr th {\n",
       "        vertical-align: top;\n",
       "    }\n",
       "\n",
       "    .dataframe thead th {\n",
       "        text-align: right;\n",
       "    }\n",
       "</style>\n",
       "<table border=\"1\" class=\"dataframe\">\n",
       "  <thead>\n",
       "    <tr style=\"text-align: right;\">\n",
       "      <th></th>\n",
       "      <th>Area</th>\n",
       "      <th>Name</th>\n",
       "      <th>Rating</th>\n",
       "      <th>Total Ratings</th>\n",
       "      <th>Address</th>\n",
       "      <th>Latitude</th>\n",
       "      <th>Longitude</th>\n",
       "    </tr>\n",
       "  </thead>\n",
       "  <tbody>\n",
       "    <tr>\n",
       "      <th>299</th>\n",
       "      <td>Bandra</td>\n",
       "      <td>Madras Diaries</td>\n",
       "      <td>3.9</td>\n",
       "      <td>3179</td>\n",
       "      <td>Shop No. 7, Ground Floor, Muzaffar Manor, 28th...</td>\n",
       "      <td>19.059939</td>\n",
       "      <td>72.833992</td>\n",
       "    </tr>\n",
       "    <tr>\n",
       "      <th>1002</th>\n",
       "      <td>Powai</td>\n",
       "      <td>Third Wave Coffee</td>\n",
       "      <td>4.8</td>\n",
       "      <td>786</td>\n",
       "      <td>R City Mall, G 73A, Lal Bahadur Shastri Marg, ...</td>\n",
       "      <td>19.099698</td>\n",
       "      <td>72.916669</td>\n",
       "    </tr>\n",
       "    <tr>\n",
       "      <th>846</th>\n",
       "      <td>Kharghar</td>\n",
       "      <td>Hugs And Mugs</td>\n",
       "      <td>4.1</td>\n",
       "      <td>1273</td>\n",
       "      <td>Bhoomi Tower, Simran Residency Service Road, S...</td>\n",
       "      <td>19.033795</td>\n",
       "      <td>73.063767</td>\n",
       "    </tr>\n",
       "    <tr>\n",
       "      <th>35</th>\n",
       "      <td>Colaba</td>\n",
       "      <td>Koyla - Ethnic Cuisine</td>\n",
       "      <td>3.9</td>\n",
       "      <td>4866</td>\n",
       "      <td>Kamal Mansion, 3/23, N.A. Azmi Road, next to R...</td>\n",
       "      <td>18.918294</td>\n",
       "      <td>72.830874</td>\n",
       "    </tr>\n",
       "    <tr>\n",
       "      <th>730</th>\n",
       "      <td>Nerul</td>\n",
       "      <td>EIGHTEEN PLUS CAFE</td>\n",
       "      <td>4.6</td>\n",
       "      <td>124</td>\n",
       "      <td>91, Jagatguru Aadi Shankracharya Marg, Nerul E...</td>\n",
       "      <td>19.024753</td>\n",
       "      <td>73.022224</td>\n",
       "    </tr>\n",
       "  </tbody>\n",
       "</table>\n",
       "</div>"
      ],
      "text/plain": [
       "          Area                    Name  Rating  Total Ratings  \\\n",
       "299     Bandra          Madras Diaries     3.9           3179   \n",
       "1002     Powai       Third Wave Coffee     4.8            786   \n",
       "846   Kharghar           Hugs And Mugs     4.1           1273   \n",
       "35      Colaba  Koyla - Ethnic Cuisine     3.9           4866   \n",
       "730      Nerul      EIGHTEEN PLUS CAFE     4.6            124   \n",
       "\n",
       "                                                Address   Latitude  Longitude  \n",
       "299   Shop No. 7, Ground Floor, Muzaffar Manor, 28th...  19.059939  72.833992  \n",
       "1002  R City Mall, G 73A, Lal Bahadur Shastri Marg, ...  19.099698  72.916669  \n",
       "846   Bhoomi Tower, Simran Residency Service Road, S...  19.033795  73.063767  \n",
       "35    Kamal Mansion, 3/23, N.A. Azmi Road, next to R...  18.918294  72.830874  \n",
       "730   91, Jagatguru Aadi Shankracharya Marg, Nerul E...  19.024753  73.022224  "
      ]
     },
     "execution_count": 2,
     "metadata": {},
     "output_type": "execute_result"
    }
   ],
   "source": [
    "df = pd.read_csv('mumbai_all_cafes.csv')\n",
    "df.sample(5)"
   ]
  },
  {
   "cell_type": "markdown",
   "id": "a7fb7c50-bcc9-40f0-9f39-d7003580c3e2",
   "metadata": {},
   "source": [
    "### Data Cleaning & Preprocessing"
   ]
  },
  {
   "cell_type": "code",
   "execution_count": 4,
   "id": "ac8c22d0-d99d-4ab0-82ad-e48405798f4a",
   "metadata": {},
   "outputs": [
    {
     "data": {
      "text/plain": [
       "Area             0\n",
       "Name             0\n",
       "Rating           0\n",
       "Total Ratings    0\n",
       "Address          0\n",
       "Latitude         0\n",
       "Longitude        0\n",
       "dtype: int64"
      ]
     },
     "execution_count": 4,
     "metadata": {},
     "output_type": "execute_result"
    }
   ],
   "source": [
    "# missing values\n",
    "df.isnull().sum()"
   ]
  },
  {
   "cell_type": "code",
   "execution_count": 5,
   "id": "98d40190-0273-48f8-b413-f7c8f02fed52",
   "metadata": {},
   "outputs": [
    {
     "name": "stdout",
     "output_type": "stream",
     "text": [
      "<class 'pandas.core.frame.DataFrame'>\n",
      "RangeIndex: 1200 entries, 0 to 1199\n",
      "Data columns (total 7 columns):\n",
      " #   Column         Non-Null Count  Dtype  \n",
      "---  ------         --------------  -----  \n",
      " 0   Area           1200 non-null   object \n",
      " 1   Name           1200 non-null   object \n",
      " 2   Rating         1200 non-null   float64\n",
      " 3   Total Ratings  1200 non-null   int64  \n",
      " 4   Address        1200 non-null   object \n",
      " 5   Latitude       1200 non-null   float64\n",
      " 6   Longitude      1200 non-null   float64\n",
      "dtypes: float64(3), int64(1), object(3)\n",
      "memory usage: 65.8+ KB\n"
     ]
    }
   ],
   "source": [
    "df.info()"
   ]
  },
  {
   "cell_type": "code",
   "execution_count": 6,
   "id": "9f93006b-ff6e-493d-82e6-229415cad960",
   "metadata": {},
   "outputs": [
    {
     "data": {
      "text/plain": [
       "0       False\n",
       "1       False\n",
       "2       False\n",
       "3       False\n",
       "4       False\n",
       "        ...  \n",
       "1195    False\n",
       "1196    False\n",
       "1197    False\n",
       "1198    False\n",
       "1199    False\n",
       "Length: 1200, dtype: bool"
      ]
     },
     "execution_count": 6,
     "metadata": {},
     "output_type": "execute_result"
    }
   ],
   "source": [
    "df.duplicated()"
   ]
  },
  {
   "cell_type": "code",
   "execution_count": 7,
   "id": "da086f6c-5ebd-4099-b331-afc549b217ec",
   "metadata": {},
   "outputs": [
    {
     "data": {
      "text/plain": [
       "array(['Colaba', 'Churchgate', 'Dadar', 'Worli', 'Bandra', 'Andheri',\n",
       "       'Goregaon', 'Borivali', 'Kurla', 'Ghatkopar', 'Mulund', 'Vashi',\n",
       "       'Nerul', 'Panvel', 'Kharghar', 'Dharavi', 'Powai', 'Chembur',\n",
       "       'Sion', 'Thane'], dtype=object)"
      ]
     },
     "execution_count": 7,
     "metadata": {},
     "output_type": "execute_result"
    }
   ],
   "source": [
    "df['Area'].unique()"
   ]
  },
  {
   "cell_type": "code",
   "execution_count": 15,
   "id": "1ffaef63-9db0-4a5c-8784-2d3dc82a0d7d",
   "metadata": {},
   "outputs": [
    {
     "data": {
      "text/plain": [
       "0       1\n",
       "1       2\n",
       "2       2\n",
       "3       2\n",
       "4       1\n",
       "       ..\n",
       "1195    1\n",
       "1196    1\n",
       "1197    1\n",
       "1198    1\n",
       "1199    1\n",
       "Name: Address, Length: 1200, dtype: int64"
      ]
     },
     "execution_count": 15,
     "metadata": {},
     "output_type": "execute_result"
    }
   ],
   "source": [
    "df['Address'].map(df['Address'].value_counts())"
   ]
  },
  {
   "cell_type": "markdown",
   "id": "9f15a6da-9cd9-4530-997e-f582a0cb4944",
   "metadata": {},
   "source": [
    "### Content-Based Filtering (Cosine Similarity)"
   ]
  },
  {
   "cell_type": "code",
   "execution_count": 16,
   "id": "2b8de8f0-1963-4c90-bc43-a405acc225e9",
   "metadata": {},
   "outputs": [
    {
     "name": "stdout",
     "output_type": "stream",
     "text": [
      "✅ Features vectorized!\n"
     ]
    }
   ],
   "source": [
    "from sklearn.feature_extraction.text import TfidfVectorizer\n",
    "from sklearn.metrics.pairwise import cosine_similarity\n",
    "\n",
    "# Create a combined feature (Address + Rating + Total Ratings)\n",
    "df[\"features\"] = df[\"Address\"] + \" \" + df[\"Rating\"].astype(str) + \" \" + df[\"Total Ratings\"].astype(str)\n",
    "\n",
    "# Convert text data into numerical feature vectors\n",
    "vectorizer = TfidfVectorizer(stop_words=\"english\")\n",
    "feature_matrix = vectorizer.fit_transform(df[\"features\"])\n",
    "\n",
    "print(\"✅ Features vectorized!\")"
   ]
  },
  {
   "cell_type": "code",
   "execution_count": 17,
   "id": "49659fdf-405a-48cb-96db-beaaca32fbf2",
   "metadata": {},
   "outputs": [
    {
     "name": "stdout",
     "output_type": "stream",
     "text": [
      "                                 Name  Rating  Total Ratings  \\\n",
      "62                          Starbucks     4.5            937   \n",
      "78            Earth Cafe @ Churchgate     4.3             29   \n",
      "106  Relish International Veg Cuisine     4.4           5385   \n",
      "73                              The J     4.2           4235   \n",
      "75                      The Beer Café     3.9           1897   \n",
      "\n",
      "                                               Address  \n",
      "62   Block No 1, Ram Mahal, Building No 8, Ground F...  \n",
      "78   Ground Floor, Ram Mahal, Dinshaw Vacha Rd, nea...  \n",
      "106  1, Dinshaw Vacha Rd, Churchgate, Mumbai, Mahar...  \n",
      "73   Shop 3, Ground Floor, Vaswani Mansion, Dinshaw...  \n",
      "75   Shop No 6,7, Ground Floor, Cambata Building, C...  \n"
     ]
    }
   ],
   "source": [
    "# Create a function to recommend similar cafes:\n",
    "def recommend_similar_cafes(cafe_name, top_n=5):\n",
    "    if cafe_name not in df[\"Name\"].values:\n",
    "        return \"❌ Cafe not found in the dataset!\"\n",
    "\n",
    "    # Find the index of the cafe\n",
    "    index = df[df[\"Name\"] == cafe_name].index[0]\n",
    "    \n",
    "    # Compute cosine similarity\n",
    "    cosine_sim = cosine_similarity(feature_matrix, feature_matrix)\n",
    "    \n",
    "    # Get similar cafes\n",
    "    similar_cafes = list(enumerate(cosine_sim[index]))\n",
    "    similar_cafes = sorted(similar_cafes, key=lambda x: x[1], reverse=True)[1:top_n+1]\n",
    "    \n",
    "    # Get cafe names\n",
    "    cafe_indices = [i[0] for i in similar_cafes]\n",
    "    return df.iloc[cafe_indices][[\"Name\", \"Rating\", \"Total Ratings\", \"Address\"]]\n",
    "\n",
    "# Example usage\n",
    "print(recommend_similar_cafes(\"Starbucks\"))"
   ]
  },
  {
   "cell_type": "markdown",
   "id": "4a09112d-99a2-4c2a-89ad-f99e122f3d8e",
   "metadata": {},
   "source": [
    "###  Collaborative Filtering (KNN Model)"
   ]
  },
  {
   "cell_type": "code",
   "execution_count": 20,
   "id": "49fc975a-83cb-435b-82b7-e8c7c41baaa6",
   "metadata": {},
   "outputs": [
    {
     "name": "stderr",
     "output_type": "stream",
     "text": [
      "/var/folders/5f/0hb_qs091gb66mrrdykchhyw0000gn/T/ipykernel_77434/3429934885.py:6: FutureWarning: The provided callable <function mean at 0x105c28540> is currently using DataFrameGroupBy.mean. In a future version of pandas, the provided callable will be used directly. To keep current behavior pass the string \"mean\" instead.\n",
      "  cafe_matrix = df.pivot_table(index=\"Name\", values=\"Rating\", aggfunc=np.mean).fillna(0)\n"
     ]
    }
   ],
   "source": [
    "# Convert the data into a user-cafe matrix:\n",
    "import numpy as np\n",
    "from sklearn.neighbors import NearestNeighbors\n",
    "\n",
    "# Create a pivot table (User x Cafe rating matrix)\n",
    "cafe_matrix = df.pivot_table(index=\"Name\", values=\"Rating\", aggfunc=np.mean).fillna(0)\n",
    "\n",
    "# Convert to NumPy array\n",
    "cafe_matrix_array = cafe_matrix.values"
   ]
  },
  {
   "cell_type": "code",
   "execution_count": 21,
   "id": "66f8f96a-8954-45d0-86e5-a79e8d9d8ef1",
   "metadata": {},
   "outputs": [
    {
     "name": "stdout",
     "output_type": "stream",
     "text": [
      "✅ KNN model trained!\n"
     ]
    }
   ],
   "source": [
    "# Train a KNN model\n",
    "knn = NearestNeighbors(metric=\"cosine\", algorithm=\"brute\")\n",
    "knn.fit(cafe_matrix_array)\n",
    "\n",
    "print(\"✅ KNN model trained!\")"
   ]
  },
  {
   "cell_type": "code",
   "execution_count": 22,
   "id": "7e657e88-925b-467c-b279-fa18dfb5603f",
   "metadata": {},
   "outputs": [
    {
     "name": "stdout",
     "output_type": "stream",
     "text": [
      "                               Name  Rating  Total Ratings  \\\n",
      "326                 Ohh My Dog Pefe     4.6           3035   \n",
      "726   OCD-Obsessive Coffee Disorder     4.8            237   \n",
      "815                    Offline Cafe     4.6             38   \n",
      "853                   Odós Kaffeina     4.7            112   \n",
      "1115                      Oh My Tea     4.9             20   \n",
      "\n",
      "                                                Address  \n",
      "326   Pratisthan Bunglow,Yamuna Nagar, Back Road, op...  \n",
      "726   Shop No.1, Sahara CHS, Plot 17, Seawoods West,...  \n",
      "815   Pratik Harmony CHS Shop no. 6, Plot no 35 Sec ...  \n",
      "853   Shop No. 32, GROWMORE TOWER, Sector 2, Khargha...  \n",
      "1115  Shop No. 12, Rameshwar Bhavan, Mahatma Gandhi ...  \n"
     ]
    }
   ],
   "source": [
    "# Create a function to recommend cafes using KNN:\n",
    "def recommend_cafes_knn(cafe_name, top_n=5):\n",
    "    if cafe_name not in cafe_matrix.index:\n",
    "        return \"❌ Cafe not found in the dataset!\"\n",
    "\n",
    "    # Find the index of the cafe\n",
    "    index = cafe_matrix.index.get_loc(cafe_name)\n",
    "\n",
    "    # Find nearest cafes\n",
    "    distances, indices = knn.kneighbors(cafe_matrix_array[index].reshape(1, -1), n_neighbors=top_n+1)\n",
    "\n",
    "    # Get cafe names\n",
    "    cafe_names = cafe_matrix.index[indices.flatten()][1:]\n",
    "    return df[df[\"Name\"].isin(cafe_names)][[\"Name\", \"Rating\", \"Total Ratings\", \"Address\"]]\n",
    "\n",
    "# Example usage\n",
    "print(recommend_cafes_knn(\"Starbucks\"))"
   ]
  },
  {
   "cell_type": "code",
   "execution_count": null,
   "id": "5d747050-d2f3-4ea8-8426-2beaa14f219a",
   "metadata": {},
   "outputs": [],
   "source": []
  }
 ],
 "metadata": {
  "kernelspec": {
   "display_name": "Python 3 (ipykernel)",
   "language": "python",
   "name": "python3"
  },
  "language_info": {
   "codemirror_mode": {
    "name": "ipython",
    "version": 3
   },
   "file_extension": ".py",
   "mimetype": "text/x-python",
   "name": "python",
   "nbconvert_exporter": "python",
   "pygments_lexer": "ipython3",
   "version": "3.11.7"
  },
  "widgets": {
   "application/vnd.jupyter.widget-state+json": {
    "state": {},
    "version_major": 2,
    "version_minor": 0
   }
  }
 },
 "nbformat": 4,
 "nbformat_minor": 5
}
