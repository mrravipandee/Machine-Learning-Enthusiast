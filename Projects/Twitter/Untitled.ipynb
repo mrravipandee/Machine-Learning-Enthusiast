{
 "cells": [
  {
   "cell_type": "code",
   "execution_count": 4,
   "id": "efd5d392-134d-45e7-a871-368558a8fa6b",
   "metadata": {},
   "outputs": [
    {
     "name": "stdout",
     "output_type": "stream",
     "text": [
      "Requirement already satisfied: snscrape in /Library/Frameworks/Python.framework/Versions/3.12/lib/python3.12/site-packages (0.7.0.20230622)\n",
      "Requirement already satisfied: requests[socks] in /Library/Frameworks/Python.framework/Versions/3.12/lib/python3.12/site-packages (from snscrape) (2.32.3)\n",
      "Requirement already satisfied: lxml in /Library/Frameworks/Python.framework/Versions/3.12/lib/python3.12/site-packages (from snscrape) (5.3.0)\n",
      "Requirement already satisfied: beautifulsoup4 in /Library/Frameworks/Python.framework/Versions/3.12/lib/python3.12/site-packages (from snscrape) (4.11.1)\n",
      "Requirement already satisfied: filelock in /Library/Frameworks/Python.framework/Versions/3.12/lib/python3.12/site-packages (from snscrape) (3.16.1)\n",
      "Requirement already satisfied: soupsieve>1.2 in /Library/Frameworks/Python.framework/Versions/3.12/lib/python3.12/site-packages (from beautifulsoup4->snscrape) (2.6)\n",
      "Requirement already satisfied: charset-normalizer<4,>=2 in /Library/Frameworks/Python.framework/Versions/3.12/lib/python3.12/site-packages (from requests[socks]->snscrape) (2.0.12)\n",
      "Requirement already satisfied: idna<4,>=2.5 in /Library/Frameworks/Python.framework/Versions/3.12/lib/python3.12/site-packages (from requests[socks]->snscrape) (3.10)\n",
      "Requirement already satisfied: urllib3<3,>=1.21.1 in /Library/Frameworks/Python.framework/Versions/3.12/lib/python3.12/site-packages (from requests[socks]->snscrape) (1.26.20)\n",
      "Requirement already satisfied: certifi>=2017.4.17 in /Library/Frameworks/Python.framework/Versions/3.12/lib/python3.12/site-packages (from requests[socks]->snscrape) (2024.12.14)\n",
      "Requirement already satisfied: PySocks!=1.5.7,>=1.5.6 in /Library/Frameworks/Python.framework/Versions/3.12/lib/python3.12/site-packages (from requests[socks]->snscrape) (1.7.1)\n"
     ]
    }
   ],
   "source": [
    "!pip install snscrape"
   ]
  },
  {
   "cell_type": "code",
   "execution_count": 8,
   "id": "ae4b04dd-62a6-4a8c-ba4d-62f0ee257107",
   "metadata": {},
   "outputs": [
    {
     "ename": "ModuleNotFoundError",
     "evalue": "No module named 'snscrape'",
     "output_type": "error",
     "traceback": [
      "\u001b[0;31m---------------------------------------------------------------------------\u001b[0m",
      "\u001b[0;31mModuleNotFoundError\u001b[0m                       Traceback (most recent call last)",
      "Cell \u001b[0;32mIn[8], line 1\u001b[0m\n\u001b[0;32m----> 1\u001b[0m \u001b[38;5;28;01mimport\u001b[39;00m \u001b[38;5;21;01msnscrape\u001b[39;00m\u001b[38;5;21;01m.\u001b[39;00m\u001b[38;5;21;01mmodules\u001b[39;00m\u001b[38;5;21;01m.\u001b[39;00m\u001b[38;5;21;01mtwitter\u001b[39;00m \u001b[38;5;28;01mas\u001b[39;00m \u001b[38;5;21;01msntwitter\u001b[39;00m\n\u001b[1;32m      2\u001b[0m \u001b[38;5;28;01mimport\u001b[39;00m \u001b[38;5;21;01mpandas\u001b[39;00m \u001b[38;5;28;01mas\u001b[39;00m \u001b[38;5;21;01mpd\u001b[39;00m\n\u001b[1;32m      3\u001b[0m \u001b[38;5;28;01mfrom\u001b[39;00m \u001b[38;5;21;01msklearn\u001b[39;00m\u001b[38;5;21;01m.\u001b[39;00m\u001b[38;5;21;01mfeature_extraction\u001b[39;00m\u001b[38;5;21;01m.\u001b[39;00m\u001b[38;5;21;01mtext\u001b[39;00m \u001b[38;5;28;01mimport\u001b[39;00m CountVectorizer\n",
      "\u001b[0;31mModuleNotFoundError\u001b[0m: No module named 'snscrape'"
     ]
    }
   ],
   "source": [
    "import snscrape.modules.twitter as sntwitter\n",
    "import pandas as pd\n",
    "from sklearn.feature_extraction.text import CountVectorizer\n",
    "from sklearn.naive_bayes import MultinomialNB\n",
    "from sklearn.pipeline import Pipeline\n",
    "\n",
    "# Keywords for diploma students\n",
    "keywords = ['diploma final year', 'final year project', 'engineering project', 'final project', 'college project']\n",
    "\n",
    "# Scrape Twitter data\n",
    "def scrape_tweets(hashtag, count):\n",
    "    tweets = []\n",
    "    for tweet in sntwitter.TwitterSearchScraper(f'#{hashtag} since:2024-01-01').get_items():\n",
    "        if len(tweets) == count:\n",
    "            break\n",
    "        tweets.append([tweet.user.username, tweet.content])\n",
    "    return pd.DataFrame(tweets, columns=['Username', 'Tweet'])\n",
    "\n",
    "# Dataset\n",
    "data = {\n",
    "    'text': ['I am working on my diploma final year project',\n",
    "             'Looking for project ideas',\n",
    "             'Final year project submission next week',\n",
    "             'I need help in engineering project',\n",
    "             'Today was a great day',\n",
    "             'Going for a trip this weekend'],\n",
    "    'label': [1, 1, 1, 1, 0, 0]  # 1 = Relevant, 0 = Not Relevant\n",
    "}\n",
    "\n",
    "df = pd.DataFrame(data)\n",
    "\n",
    "# Machine Learning Pipeline\n",
    "pipeline = Pipeline([\n",
    "    ('vectorizer', CountVectorizer()),\n",
    "    ('classifier', MultinomialNB())\n",
    "])\n",
    "\n",
    "pipeline.fit(df['text'], df['label'])\n",
    "\n",
    "# Scrape tweets\n",
    "tweets_df = scrape_tweets('diploma', 20)\n",
    "\n",
    "# Prediction\n",
    "tweets_df['Relevant'] = pipeline.predict(tweets_df['Tweet'])\n",
    "\n",
    "# Filter Relevant Users\n",
    "relevant_users = tweets_df[tweets_df['Relevant'] == 1]\n",
    "print(relevant_users[['Username', 'Tweet']])\n",
    "\n",
    "# Save to CSV\n",
    "relevant_users.to_csv('final_year_students.csv', index=False) \n",
    "print(\"CSV Exported\")"
   ]
  },
  {
   "cell_type": "code",
   "execution_count": 11,
   "id": "f30d6998-7433-471c-baa8-a0a550f04403",
   "metadata": {},
   "outputs": [
    {
     "ename": "ModuleNotFoundError",
     "evalue": "No module named 'instaloader'",
     "output_type": "error",
     "traceback": [
      "\u001b[0;31m---------------------------------------------------------------------------\u001b[0m",
      "\u001b[0;31mModuleNotFoundError\u001b[0m                       Traceback (most recent call last)",
      "Cell \u001b[0;32mIn[11], line 1\u001b[0m\n\u001b[0;32m----> 1\u001b[0m \u001b[38;5;28;01mimport\u001b[39;00m \u001b[38;5;21;01minstaloader\u001b[39;00m\n\u001b[1;32m      2\u001b[0m \u001b[38;5;28;01mimport\u001b[39;00m \u001b[38;5;21;01mre\u001b[39;00m\n\u001b[1;32m      3\u001b[0m \u001b[38;5;28;01mimport\u001b[39;00m \u001b[38;5;21;01mpandas\u001b[39;00m \u001b[38;5;28;01mas\u001b[39;00m \u001b[38;5;21;01mpd\u001b[39;00m\n",
      "\u001b[0;31mModuleNotFoundError\u001b[0m: No module named 'instaloader'"
     ]
    }
   ],
   "source": [
    "import instaloader\n",
    "import re\n",
    "import pandas as pd\n",
    "\n",
    "# Initialize Instaloader\n",
    "bot = instaloader.Instaloader()\n",
    "\n",
    "# Common Keywords for CSE Students\n",
    "keywords = ['computer science', 'final year', 'diploma', 'CS student', 'engineering']\n",
    "\n",
    "# Function to Fetch Profiles\n",
    "def search_users(username_list):\n",
    "    data = []\n",
    "    for username in username_list:\n",
    "        try:\n",
    "            profile = instaloader.Profile.from_username(bot.context, username)\n",
    "            bio = profile.biography.lower()\n",
    "            followers = profile.followers\n",
    "\n",
    "            # If Bio Contains Keywords and Followers < 2000 (to target students)\n",
    "            if any(keyword in bio for keyword in keywords) and followers < 2000:\n",
    "                data.append({\n",
    "                    'Username': username,\n",
    "                    'Bio': bio,\n",
    "                    'Followers': followers\n",
    "                })\n",
    "                print(f\"[+] Found: {username}\")\n",
    "        except Exception as e:\n",
    "            print(f\"[-] Skipped: {username} - {e}\")\n",
    "    \n",
    "    return pd.DataFrame(data)\n",
    "\n",
    "# Add some random usernames to test\n",
    "usernames = ['tech_student', 'cse_finalyear', 'project_guru']\n",
    "result = search_users(usernames)\n",
    "\n",
    "# Save to CSV\n",
    "result.to_csv('instagram_students.csv', index=False)\n",
    "print(\"Data Exported\")\n"
   ]
  },
  {
   "cell_type": "code",
   "execution_count": 13,
   "id": "76e0c1fb-cd8c-4a5c-ba3c-5fcae93c710b",
   "metadata": {},
   "outputs": [
    {
     "name": "stdout",
     "output_type": "stream",
     "text": [
      "Requirement already satisfied: instaloader in /Library/Frameworks/Python.framework/Versions/3.12/lib/python3.12/site-packages (4.14.1)\n",
      "Requirement already satisfied: requests>=2.25 in /Library/Frameworks/Python.framework/Versions/3.12/lib/python3.12/site-packages (from instaloader) (2.32.3)\n",
      "Requirement already satisfied: charset-normalizer<4,>=2 in /Library/Frameworks/Python.framework/Versions/3.12/lib/python3.12/site-packages (from requests>=2.25->instaloader) (2.0.12)\n",
      "Requirement already satisfied: idna<4,>=2.5 in /Library/Frameworks/Python.framework/Versions/3.12/lib/python3.12/site-packages (from requests>=2.25->instaloader) (3.10)\n",
      "Requirement already satisfied: urllib3<3,>=1.21.1 in /Library/Frameworks/Python.framework/Versions/3.12/lib/python3.12/site-packages (from requests>=2.25->instaloader) (1.26.20)\n",
      "Requirement already satisfied: certifi>=2017.4.17 in /Library/Frameworks/Python.framework/Versions/3.12/lib/python3.12/site-packages (from requests>=2.25->instaloader) (2024.12.14)\n"
     ]
    }
   ],
   "source": [
    "!pip3 install instaloader"
   ]
  },
  {
   "cell_type": "code",
   "execution_count": 14,
   "id": "b0809253-7fce-4ac3-8e89-c09cb3a9d661",
   "metadata": {},
   "outputs": [
    {
     "ename": "ModuleNotFoundError",
     "evalue": "No module named 'instaloader'",
     "output_type": "error",
     "traceback": [
      "\u001b[0;31m---------------------------------------------------------------------------\u001b[0m",
      "\u001b[0;31mModuleNotFoundError\u001b[0m                       Traceback (most recent call last)",
      "Cell \u001b[0;32mIn[14], line 1\u001b[0m\n\u001b[0;32m----> 1\u001b[0m \u001b[38;5;28;01mimport\u001b[39;00m \u001b[38;5;21;01minstaloader\u001b[39;00m\n\u001b[1;32m      2\u001b[0m \u001b[38;5;28;01mimport\u001b[39;00m \u001b[38;5;21;01mre\u001b[39;00m\n\u001b[1;32m      3\u001b[0m \u001b[38;5;28;01mimport\u001b[39;00m \u001b[38;5;21;01mpandas\u001b[39;00m \u001b[38;5;28;01mas\u001b[39;00m \u001b[38;5;21;01mpd\u001b[39;00m\n",
      "\u001b[0;31mModuleNotFoundError\u001b[0m: No module named 'instaloader'"
     ]
    }
   ],
   "source": [
    "import instaloader\n",
    "import re\n",
    "import pandas as pd\n",
    "\n",
    "# Initialize Instaloader\n",
    "bot = instaloader.Instaloader()\n",
    "\n",
    "# Common Keywords for CSE Students\n",
    "keywords = ['computer science', 'final year', 'diploma', 'CS student', 'engineering']\n",
    "\n",
    "# Function to Fetch Profiles\n",
    "def search_users(username_list):\n",
    "    data = []\n",
    "    for username in username_list:\n",
    "        try:\n",
    "            profile = instaloader.Profile.from_username(bot.context, username)\n",
    "            bio = profile.biography.lower()\n",
    "            followers = profile.followers\n",
    "\n",
    "            # If Bio Contains Keywords and Followers < 2000 (to target students)\n",
    "            if any(keyword in bio for keyword in keywords) and followers < 2000:\n",
    "                data.append({\n",
    "                    'Username': username,\n",
    "                    'Bio': bio,\n",
    "                    'Followers': followers\n",
    "                })\n",
    "                print(f\"[+] Found: {username}\")\n",
    "        except Exception as e:\n",
    "            print(f\"[-] Skipped: {username} - {e}\")\n",
    "    \n",
    "    return pd.DataFrame(data)\n",
    "\n",
    "# Add some random usernames to test\n",
    "usernames = ['tech_student', 'cse_finalyear', 'project_guru']\n",
    "result = search_users(usernames)\n",
    "\n",
    "# Save to CSV\n",
    "result.to_csv('instagram_students.csv', index=False)\n",
    "print(\"Data Exported\")\n"
   ]
  },
  {
   "cell_type": "code",
   "execution_count": null,
   "id": "86ece79b-ce98-4e8c-a177-56fae5642985",
   "metadata": {},
   "outputs": [],
   "source": []
  }
 ],
 "metadata": {
  "kernelspec": {
   "display_name": "Python 3 (ipykernel)",
   "language": "python",
   "name": "python3"
  },
  "language_info": {
   "codemirror_mode": {
    "name": "ipython",
    "version": 3
   },
   "file_extension": ".py",
   "mimetype": "text/x-python",
   "name": "python",
   "nbconvert_exporter": "python",
   "pygments_lexer": "ipython3",
   "version": "3.11.7"
  },
  "widgets": {
   "application/vnd.jupyter.widget-state+json": {
    "state": {},
    "version_major": 2,
    "version_minor": 0
   }
  }
 },
 "nbformat": 4,
 "nbformat_minor": 5
}
