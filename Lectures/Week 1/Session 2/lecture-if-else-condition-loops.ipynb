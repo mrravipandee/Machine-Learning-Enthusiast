{
 "cells": [
  {
   "cell_type": "code",
   "execution_count": 1,
   "id": "1a738d0c-7b9f-4d55-aa96-541c1e932d5b",
   "metadata": {},
   "outputs": [
    {
     "name": "stdout",
     "output_type": "stream",
     "text": [
      "7\n"
     ]
    }
   ],
   "source": [
    "# sum of 3 digit numbers\n",
    "\n",
    "num = 124\n",
    "\n",
    "a = num % 10\n",
    "\n",
    "num = num // 10\n",
    "\n",
    "b = num % 10\n",
    "\n",
    "num = num // 10\n",
    "\n",
    "c = num % 10\n",
    "\n",
    "print(a+b+c)"
   ]
  },
  {
   "cell_type": "code",
   "execution_count": 2,
   "id": "4d233973-f318-4235-b65e-2fcf8fe02531",
   "metadata": {},
   "outputs": [
    {
     "name": "stdout",
     "output_type": "stream",
     "text": [
      "c is smallest one 2\n"
     ]
    }
   ],
   "source": [
    "# find smallest number among on 3 numbers\n",
    "\n",
    "a, b, c = 10, 15, 2\n",
    "\n",
    "# condition for determinde smallest number\n",
    "if a < b and a < c:\n",
    "    print('a is smallest one',a)\n",
    "elif b < c:\n",
    "    print('b is smallest one',b)\n",
    "else :\n",
    "    print('c is smallest one',c)\n",
    "    "
   ]
  },
  {
   "cell_type": "code",
   "execution_count": 4,
   "id": "7a60c31a-d2a7-4f2a-8fd3-8a18d8d6860a",
   "metadata": {},
   "outputs": [
    {
     "name": "stdout",
     "output_type": "stream",
     "text": [
      "d is smallest one 2\n"
     ]
    }
   ],
   "source": [
    "# find smallest number among on 4 numbers\n",
    "\n",
    "a, b, c, d = 10, 15, 2, 2\n",
    "\n",
    "# condition for determinde smallest number\n",
    "if a < b and a < c and a < d:\n",
    "    print('a is smallest one',a)\n",
    "elif b < c and c < d:\n",
    "    print('b is smallest one',b)\n",
    "elif c < d:\n",
    "    print('c is smallest one',c)\n",
    "else :\n",
    "    print('d is smallest one',d)\n",
    "    "
   ]
  },
  {
   "cell_type": "code",
   "execution_count": 6,
   "id": "d9500c91-cd6e-4a92-ae72-a12e9519cb83",
   "metadata": {},
   "outputs": [
    {
     "name": "stdin",
     "output_type": "stream",
     "text": [
      "Enter the email address: ravi@gmail.com\n",
      "Enter the password: 123@vi\n"
     ]
    },
    {
     "name": "stdout",
     "output_type": "stream",
     "text": [
      "Sucessfully Login....\n"
     ]
    }
   ],
   "source": [
    "# login system using nested if else condition\n",
    "\n",
    "db_email = 'ravi@gmail.com'\n",
    "db_pass = '123@vi'\n",
    "\n",
    "# logic for login credentials\n",
    "user_email = input('Enter the email address:')\n",
    "user_pass = input('Enter the password:')\n",
    "\n",
    "if user_email == db_email and user_pass == db_pass:\n",
    "    print('Sucessfully Login....')\n",
    "elif user_email == db_email:\n",
    "    user_pass = input('Enter the password:')\n",
    "    if user_pass == db_pass:\n",
    "        print('Sucessfully Login.....')\n",
    "    else:\n",
    "        print('Please try again after some time...')\n",
    "else:\n",
    "    print('Invalid credentials')"
   ]
  },
  {
   "cell_type": "code",
   "execution_count": 7,
   "id": "3c119aaa-69b8-4bd2-8f4b-bee9109c5933",
   "metadata": {},
   "outputs": [
    {
     "name": "stdin",
     "output_type": "stream",
     "text": [
      "Enter the number:  2\n"
     ]
    },
    {
     "name": "stdout",
     "output_type": "stream",
     "text": [
      "2  x  1  =  2\n",
      "2  x  2  =  4\n",
      "2  x  3  =  6\n",
      "2  x  4  =  8\n",
      "2  x  5  =  10\n",
      "2  x  6  =  12\n",
      "2  x  7  =  14\n",
      "2  x  8  =  16\n",
      "2  x  9  =  18\n",
      "2  x  10  =  20\n"
     ]
    }
   ],
   "source": [
    "# table using while loop\n",
    "\n",
    "num_table = int(input('Enter the number: '))\n",
    "\n",
    "i = 1\n",
    "while i < 11:\n",
    "    print(num_table,' x ', i, ' = ', (num_table * i))\n",
    "    i += 1"
   ]
  },
  {
   "cell_type": "code",
   "execution_count": 11,
   "id": "c298d56f-65bc-44b7-8508-278a4748b1e5",
   "metadata": {},
   "outputs": [
    {
     "name": "stdin",
     "output_type": "stream",
     "text": [
      "Enter the number:  12\n"
     ]
    },
    {
     "name": "stdout",
     "output_type": "stream",
     "text": [
      "Guess higher\n"
     ]
    },
    {
     "name": "stdin",
     "output_type": "stream",
     "text": [
      "Enter the number:  30\n"
     ]
    },
    {
     "name": "stdout",
     "output_type": "stream",
     "text": [
      "Guess higher\n"
     ]
    },
    {
     "name": "stdin",
     "output_type": "stream",
     "text": [
      "Enter the number:  50\n"
     ]
    },
    {
     "name": "stdout",
     "output_type": "stream",
     "text": [
      "Guess higher\n"
     ]
    },
    {
     "name": "stdin",
     "output_type": "stream",
     "text": [
      "Enter the number:  70\n"
     ]
    },
    {
     "name": "stdout",
     "output_type": "stream",
     "text": [
      "Guess higher\n"
     ]
    },
    {
     "name": "stdin",
     "output_type": "stream",
     "text": [
      "Enter the number:  90\n"
     ]
    },
    {
     "name": "stdout",
     "output_type": "stream",
     "text": [
      "Guess lower\n"
     ]
    },
    {
     "name": "stdin",
     "output_type": "stream",
     "text": [
      "Enter the number:  88\n"
     ]
    },
    {
     "name": "stdout",
     "output_type": "stream",
     "text": [
      "Guess lower\n"
     ]
    },
    {
     "name": "stdin",
     "output_type": "stream",
     "text": [
      "Enter the number:  85\n"
     ]
    },
    {
     "name": "stdout",
     "output_type": "stream",
     "text": [
      "Guess correct\n",
      "Total attempts: 7\n"
     ]
    }
   ],
   "source": [
    "import random\n",
    "\n",
    "# Generate a random number between 1 and 99\n",
    "num = random.randint(1, 99)\n",
    "count = 0  # Initialize count outside the loop\n",
    "\n",
    "while True:\n",
    "    # Input from the user\n",
    "    user = int(input('Enter the number: '))\n",
    "    count += 1  # Increment count for each attempt\n",
    "\n",
    "    if user == num:\n",
    "        print('Guess correct')\n",
    "        print('Total attempts:', count)\n",
    "        break\n",
    "    elif user < num:\n",
    "        print('Guess higher')\n",
    "    else:\n",
    "        print('Guess lower')\n"
   ]
  },
  {
   "cell_type": "code",
   "execution_count": 14,
   "id": "ee4ad69a-5ce3-4080-a826-921173c7d6b6",
   "metadata": {},
   "outputs": [
    {
     "name": "stdout",
     "output_type": "stream",
     "text": [
      "10\n",
      "9\n",
      "8\n",
      "7\n",
      "6\n",
      "5\n",
      "4\n",
      "3\n",
      "2\n",
      "1\n"
     ]
    }
   ],
   "source": [
    "# loops reverse numbers\n",
    "for i in range(10,0,-1):\n",
    "    print(i)"
   ]
  },
  {
   "cell_type": "code",
   "execution_count": null,
   "id": "c4553787-0c1c-42be-b8ed-ae28e195184f",
   "metadata": {},
   "outputs": [],
   "source": []
  }
 ],
 "metadata": {
  "kernelspec": {
   "display_name": "Python 3 (ipykernel)",
   "language": "python",
   "name": "python3"
  },
  "language_info": {
   "codemirror_mode": {
    "name": "ipython",
    "version": 3
   },
   "file_extension": ".py",
   "mimetype": "text/x-python",
   "name": "python",
   "nbconvert_exporter": "python",
   "pygments_lexer": "ipython3",
   "version": "3.11.7"
  },
  "widgets": {
   "application/vnd.jupyter.widget-state+json": {
    "state": {},
    "version_major": 2,
    "version_minor": 0
   }
  }
 },
 "nbformat": 4,
 "nbformat_minor": 5
}
