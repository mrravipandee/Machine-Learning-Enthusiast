{
 "cells": [
  {
   "cell_type": "code",
   "execution_count": 2,
   "id": "11b42ecb-d5ad-4169-927b-4746446e1a48",
   "metadata": {},
   "outputs": [
    {
     "name": "stdin",
     "output_type": "stream",
     "text": [
      "Enter 1st nummber:  1\n",
      "Enter 2nd number:  23\n"
     ]
    },
    {
     "name": "stdout",
     "output_type": "stream",
     "text": [
      "Sum of  24\n"
     ]
    }
   ],
   "source": [
    "# sum of 2 num\n",
    "num1 = int(input('Enter 1st nummber: '))\n",
    "num2 = int(input('Enter 2nd number: '))\n",
    "\n",
    "sum = num1 + num2\n",
    "\n",
    "print('Sum of ',sum)"
   ]
  },
  {
   "cell_type": "code",
   "execution_count": null,
   "id": "b3137771-6db2-416e-9285-ac1b51c2a95b",
   "metadata": {},
   "outputs": [],
   "source": []
  }
 ],
 "metadata": {
  "kernelspec": {
   "display_name": "Python 3 (ipykernel)",
   "language": "python",
   "name": "python3"
  },
  "language_info": {
   "codemirror_mode": {
    "name": "ipython",
    "version": 3
   },
   "file_extension": ".py",
   "mimetype": "text/x-python",
   "name": "python",
   "nbconvert_exporter": "python",
   "pygments_lexer": "ipython3",
   "version": "3.11.7"
  },
  "widgets": {
   "application/vnd.jupyter.widget-state+json": {
    "state": {},
    "version_major": 2,
    "version_minor": 0
   }
  }
 },
 "nbformat": 4,
 "nbformat_minor": 5
}
