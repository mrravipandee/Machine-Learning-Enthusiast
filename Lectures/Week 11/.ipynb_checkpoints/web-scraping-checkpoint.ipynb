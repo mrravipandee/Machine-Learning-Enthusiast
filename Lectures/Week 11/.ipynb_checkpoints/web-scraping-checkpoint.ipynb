{
 "cells": [
  {
   "cell_type": "code",
   "execution_count": 2,
   "id": "01b7928f-f18a-4fca-aa6e-b07db2d17e19",
   "metadata": {},
   "outputs": [],
   "source": [
    "import pandas as pd\n",
    "import requests\n",
    "from bs4 import BeautifulSoup"
   ]
  },
  {
   "cell_type": "code",
   "execution_count": 4,
   "id": "703f0707-16b4-4309-ba65-4dfa1a4f0d1a",
   "metadata": {},
   "outputs": [
    {
     "data": {
      "text/plain": [
       "'<HTML><HEAD>\\n<TITLE>Access Denied</TITLE>\\n</HEAD><BODY>\\n<H1>Access Denied</H1>\\n \\nYou don\\'t have permission to access \"http&#58;&#47;&#47;www&#46;ambitionbox&#46;com&#47;list&#45;of&#45;companies&#63;\" on this server.<P>\\nReference&#32;&#35;18&#46;13092017&#46;1735459230&#46;21413a0a\\n<P>https&#58;&#47;&#47;errors&#46;edgesuite&#46;net&#47;18&#46;13092017&#46;1735459230&#46;21413a0a</P>\\n</BODY>\\n</HTML>\\n'"
      ]
     },
     "execution_count": 4,
     "metadata": {},
     "output_type": "execute_result"
    }
   ],
   "source": [
    "# code for web scraping\n",
    "requests.get('https://www.ambitionbox.com/list-of-companies?campaign=desktop_nav&page=1').text"
   ]
  },
  {
   "cell_type": "code",
   "execution_count": null,
   "id": "68bf385e-2904-4aa7-a016-9b562b40edc4",
   "metadata": {},
   "outputs": [],
   "source": [
    "# Define URL and headers\n",
    "url = \"https://www.ambitionbox.com/list-of-companies?campaign=desktop_nav&page=1\"\n",
    "headers = {\n",
    "    \"User-Agent\": (\n",
    "        \"Mozilla/5.0 (Windows NT 6.3; Win64; x64) AppleWebKit/537.36 \"\n",
    "        \"(KHTML, like Gecko) Chrome/80.0.3987.162 Safari/537.36\"\n",
    "    )\n",
    "}\n",
    "\n",
    "requests.get(url, headers=headers).text"
   ]
  },
  {
   "cell_type": "code",
   "execution_count": null,
   "id": "ae7797a1-891b-480e-93a6-dcc6f335211b",
   "metadata": {},
   "outputs": [],
   "source": []
  }
 ],
 "metadata": {
  "kernelspec": {
   "display_name": "Python 3 (ipykernel)",
   "language": "python",
   "name": "python3"
  },
  "language_info": {
   "codemirror_mode": {
    "name": "ipython",
    "version": 3
   },
   "file_extension": ".py",
   "mimetype": "text/x-python",
   "name": "python",
   "nbconvert_exporter": "python",
   "pygments_lexer": "ipython3",
   "version": "3.11.7"
  },
  "widgets": {
   "application/vnd.jupyter.widget-state+json": {
    "state": {},
    "version_major": 2,
    "version_minor": 0
   }
  }
 },
 "nbformat": 4,
 "nbformat_minor": 5
}
