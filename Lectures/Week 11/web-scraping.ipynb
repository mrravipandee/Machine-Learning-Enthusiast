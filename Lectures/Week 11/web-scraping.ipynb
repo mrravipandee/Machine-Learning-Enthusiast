{
 "cells": [
  {
   "cell_type": "code",
   "execution_count": 2,
   "id": "01b7928f-f18a-4fca-aa6e-b07db2d17e19",
   "metadata": {},
   "outputs": [],
   "source": [
    "import pandas as pd\n",
    "import requests\n",
    "from bs4 import BeautifulSoup"
   ]
  },
  {
   "cell_type": "code",
   "execution_count": 4,
   "id": "703f0707-16b4-4309-ba65-4dfa1a4f0d1a",
   "metadata": {},
   "outputs": [
    {
     "data": {
      "text/plain": [
       "'<HTML><HEAD>\\n<TITLE>Access Denied</TITLE>\\n</HEAD><BODY>\\n<H1>Access Denied</H1>\\n \\nYou don\\'t have permission to access \"http&#58;&#47;&#47;www&#46;ambitionbox&#46;com&#47;list&#45;of&#45;companies&#63;\" on this server.<P>\\nReference&#32;&#35;18&#46;13092017&#46;1735459230&#46;21413a0a\\n<P>https&#58;&#47;&#47;errors&#46;edgesuite&#46;net&#47;18&#46;13092017&#46;1735459230&#46;21413a0a</P>\\n</BODY>\\n</HTML>\\n'"
      ]
     },
     "execution_count": 4,
     "metadata": {},
     "output_type": "execute_result"
    }
   ],
   "source": [
    "# code for web scraping\n",
    "requests.get('https://www.ambitionbox.com/list-of-companies?campaign=desktop_nav&page=1').text"
   ]
  },
  {
   "cell_type": "code",
   "execution_count": null,
   "id": "68bf385e-2904-4aa7-a016-9b562b40edc4",
   "metadata": {},
   "outputs": [],
   "source": [
    "import requests\n",
    "\n",
    "# Define URL\n",
    "url = \"https://www.ambitionbox.com/list-of-companies?campaign=desktop_nav&page=1\"\n",
    "\n",
    "# Set headers to mimic a real browser request\n",
    "headers = {\n",
    "    \"User-Agent\": \"Mozilla/5.0 (Windows NT 6.3; Win64; x64) AppleWebKit/537.36 (KHTML, like Gecko) Chrome/80.0.3987.162 Safari/537.36\",\n",
    "    \"Accept-Language\": \"en-US,en;q=0.9\",\n",
    "    \"Accept-Encoding\": \"gzip, deflate, br\",\n",
    "    \"Connection\": \"keep-alive\",\n",
    "    \"Referer\": \"https://www.ambitionbox.com/\",\n",
    "    \"Upgrade-Insecure-Requests\": \"1\"\n",
    "}\n",
    "\n",
    "# Create a session object to persist cookies across requests\n",
    "with requests.Session() as session:\n",
    "    session.headers.update(headers)  # Add headers to session\n",
    "    \n",
    "    try:\n",
    "        response = session.get(url)\n",
    "        # Check if the response is successful\n",
    "        if response.status_code == 200:\n",
    "            print(\"Request successful.\")\n",
    "            print(response.text[:500])  # Preview the content\n",
    "        else:\n",
    "            print(f\"Request failed with status code: {response.status_code}\")\n",
    "    except requests.RequestException as e:\n",
    "        print(f\"An error occurred: {e}\")\n"
   ]
  },
  {
   "cell_type": "code",
   "execution_count": null,
   "id": "ae7797a1-891b-480e-93a6-dcc6f335211b",
   "metadata": {},
   "outputs": [],
   "source": [
    "from selenium import webdriver\n",
    "from selenium.webdriver.common.by import By\n",
    "import time\n",
    "\n",
    "# Set up the Selenium WebDriver (ensure you have the correct driver installed)\n",
    "driver = webdriver.Chrome(executable_path='/path/to/chromedriver')  # Replace with your chromedriver path\n",
    "\n",
    "# Open the Naukri jobs page\n",
    "url = 'https://www.naukri.com/startup-jobs-570'\n",
    "driver.get(url)\n",
    "\n",
    "# Wait for the page to load (adjust sleep time as needed)\n",
    "time.sleep(5)  # You might need to increase this sleep time if the content loads slowly\n",
    "\n",
    "# Extract the job listing elements (you may need to adjust the selector based on the page structure)\n",
    "jobs = driver.find_elements(By.CSS_SELECTOR, '.jobTuple')\n",
    "\n",
    "# Loop through each job and extract information (like job title, company name, etc.)\n",
    "job_listings = []\n",
    "for job in jobs:\n",
    "    job_title = job.find_element(By.CSS_SELECTOR, '.title').text\n",
    "    company_name = job.find_element(By.CSS_SELECTOR, '.subTitle').text\n",
    "    job_location = job.find_element(By.CSS_SELECTOR, '.location').text\n",
    "    job_listings.append({\n",
    "        'title': job_title,\n",
    "        'company': company_name,\n",
    "        'location': job_location\n",
    "    })\n",
    "\n",
    "# Print the extracted job listings\n",
    "for job in job_listings:\n",
    "    print(f\"Job Title: {job['title']}, Company: {job['company']}, Location: {job['location']}\")\n",
    "\n",
    "# Close the driver after scraping\n",
    "driver.quit()\n"
   ]
  },
  {
   "cell_type": "code",
   "execution_count": null,
   "id": "08baca2d-0cc7-40fd-b22b-1fddeaf77cd3",
   "metadata": {},
   "outputs": [],
   "source": []
  }
 ],
 "metadata": {
  "kernelspec": {
   "display_name": "Python 3 (ipykernel)",
   "language": "python",
   "name": "python3"
  },
  "language_info": {
   "codemirror_mode": {
    "name": "ipython",
    "version": 3
   },
   "file_extension": ".py",
   "mimetype": "text/x-python",
   "name": "python",
   "nbconvert_exporter": "python",
   "pygments_lexer": "ipython3",
   "version": "3.11.7"
  },
  "widgets": {
   "application/vnd.jupyter.widget-state+json": {
    "state": {},
    "version_major": 2,
    "version_minor": 0
   }
  }
 },
 "nbformat": 4,
 "nbformat_minor": 5
}
