{
 "cells": [
  {
   "cell_type": "code",
   "execution_count": 6,
   "id": "7a3b8e66-6dba-457b-bbec-13206b2d7aee",
   "metadata": {},
   "outputs": [
    {
     "name": "stdout",
     "output_type": "stream",
     "text": [
      "Error 403: <!DOCTYPE html><html lang=\"en-US\"><head><title>Just a moment...</title><meta http-equiv=\"Content-Type\" content=\"text/html; charset=UTF-8\"><meta http-equiv=\"X-UA-Compatible\" content=\"IE=Edge\"><meta name=\"robots\" content=\"noindex,nofollow\"><meta name=\"viewport\" content=\"width=device-width,initial-scale=1\"><style>*{box-sizing:border-box;margin:0;padding:0}html{line-height:1.15;-webkit-text-size-adjust:100%;color:#313131;font-family:system-ui,-apple-system,BlinkMacSystemFont,Segoe UI,Roboto,Helvetica Neue,Arial,Noto Sans,sans-serif,Apple Color Emoji,Segoe UI Emoji,Segoe UI Symbol,Noto Color Emoji}body{display:flex;flex-direction:column;height:100vh;min-height:100vh}.main-content{margin:8rem auto;max-width:60rem;padding-left:1.5rem}@media (width <= 720px){.main-content{margin-top:4rem}}.h2{font-size:1.5rem;font-weight:500;line-height:2.25rem}@media (width <= 720px){.h2{font-size:1.25rem;line-height:1.5rem}}#challenge-error-text{background-image:url(data:image/svg+xml;base64,PHN2ZyB4bWxucz0iaHR0cDovL3d3dy53My5vcmcvMjAwMC9zdmciIHdpZHRoPSIzMiIgaGVpZ2h0PSIzMiIgZmlsbD0ibm9uZSI+PHBhdGggZmlsbD0iI0IyMEYwMyIgZD0iTTE2IDNhMTMgMTMgMCAxIDAgMTMgMTNBMTMuMDE1IDEzLjAxNSAwIDAgMCAxNiAzbTAgMjRhMTEgMTEgMCAxIDEgMTEtMTEgMTEuMDEgMTEuMDEgMCAwIDEtMTEgMTEiLz48cGF0aCBmaWxsPSIjQjIwRjAzIiBkPSJNMTcuMDM4IDE4LjYxNUgxNC44N0wxNC41NjMgOS41aDIuNzgzem0tMS4wODQgMS40MjdxLjY2IDAgMS4wNTcuMzg4LjQwNy4zODkuNDA3Ljk5NCAwIC41OTYtLjQwNy45ODQtLjM5Ny4zOS0xLjA1Ny4zODktLjY1IDAtMS4wNTYtLjM4OS0uMzk4LS4zODktLjM5OC0uOTg0IDAtLjU5Ny4zOTgtLjk4NS40MDYtLjM5NyAxLjA1Ni0uMzk3Ii8+PC9zdmc+);background-repeat:no-repeat;background-size:contain;padding-left:34px}@media (prefers-color-scheme:dark){body{background-color:#222;color:#d9d9d9}}</style><meta http-equiv=\"refresh\" content=\"390\"></head><body class=\"no-js\"><div class=\"main-wrapper\" role=\"main\"><div class=\"main-content\"><noscript><div class=\"h2\"><span id=\"challenge-error-text\">Enable JavaScript and cookies to continue</span></div></noscript></div></div><script>(function(){window._cf_chl_opt={cvId: '3',cZone: \"jooble.org\",cType: 'managed',cRay: '8f994160d88e3a2f',cH: 'gA9a2YpfUEE69Wtzi4kDG5l0atMDliNe4a.YJb25TRA-1735469701-1.2.1.1-HIOBPnDVRTcnmnQMfthYJ1gdoMbs2.Vj220tBvdxy7K.N_bXRQLmb6YVIguzYm5L',cUPMDTk: \"\\/api\\/dee35c27-a1b9-4aff-ad7d-673bcf5f4225\\/search?keywords=it&location=Bern&__cf_chl_tk=cB94pK65h8Nm7AeAbqlLvWNxn29EyxAEHyTirI7hx2Q-1735469701-1.0.1.1-UgPIBH9v7ZUdgzslZXvH5MT0YXLxZgZA3RoEhrQ2DAw\",cFPWv: 'b',cITimeS: '1735469701',cTTimeMs: '1000',cMTimeMs: '390000',cTplC: 0,cTplV: 5,cTplB: 'cf',cK: \"\",fa: \"\\/api\\/dee35c27-a1b9-4aff-ad7d-673bcf5f4225\\/search?keywords=it&location=Bern&__cf_chl_f_tk=cB94pK65h8Nm7AeAbqlLvWNxn29EyxAEHyTirI7hx2Q-1735469701-1.0.1.1-UgPIBH9v7ZUdgzslZXvH5MT0YXLxZgZA3RoEhrQ2DAw\",md: \"ryzXd2SrFxXdOtXhhsunEJ.J0wfX4PWsV2hTj.68StA-1735469701-1.2.1.1-hCeAfGQmr.n1jiBnDnhOJCBKZTX7wa9oNdPAh1deMtvRgf4SiLAyF4FPFbbvYI27AHTO9_G.l3qUt81bRISi0ahnUZN7oJVPYgWmrZiydJVT10ZJfsBNz5WbEI.PW4pgbrfMCW.dGEO.GbZgRHxPaS8omF1M_OyIXom.eMvR8F1vw9ss2A6edOiGZJCEgweB2iZ8yePqvXX08wgsRBM.Q6UQU43pLk8nuw9dprsEd2FuZ.532tlw79KM9cV5i5reKUEbvNN9U9kOhzJKljx1lq3hIHctQZ_P_KeXbult.kp4yH6FWPLjD2S_drUIc8Q3bINs7hwctgPEITziClGsy..MME69hNDCyK4tvLXbLFLI2VXwRchy_NKXE7GhPtYVZ9v33OYtV1X35wI.CIkELWW_R7oeEovtZlEuDJMIIx06xF8PII9LmKqyCPlo7xOXzoDadb9RllznrrxsYxSRTuKe9ZYdycGQWrzCIfh9.A1AcaPusDjsEsGy4AUwMkJzIpJY2NgO2TUdf7uuOITvFiLt35UM62RwZPn6URYQhkRcwUHwEf1vJJi4G_0RBwR_p7038MVi9SymOzE0cbr0jL.2iTCbZFJLCV91IrPojQ1rwPqzJD_lJevionbmowvzwDT49lJvqD8B28xps2h6rTEMJobEqDtkV8y5A_MWcVHmuLIisMpo8ZuAt.lhJcUtC3GrLgspmApJ1NV.eXmUCjKsUTJcObDTVmNtLuZ0uXQj_.yvXs1K3bFXGZJcqH6uWqnwnD7Cr.O4EpLMwVl5Bfr8q.UljCeqoqPKzLh48ah93Xw4KhT7UzSzgDOyZdCgu_Y8n8R5qNuBywkhR0LNZGEYLHCPrtVlWxq93FOe5KodwkMckHt9HbdKDVLsfOXs8hIEkNzLhhpcC12jSECrEjiGehaYipiaJr4z7hNFSDgDgER_3As5BX9NyaYzK3NDGXCNFUFsxNRJNAZABYyIPEhwoRhMCoideiCdMUwR_jLtaQwP71w9mXAnbr.dDm8Z0LL4.zWDov8aP4iMvaQ09a8_UBG3a7zWJ.qvS0sb2xJXPohyknGf8VLptUXlJo.irB2udORu9T22oNCG2JuOr1oJ9twTqQTltz3dN5mwWRPxy.FQUIFIESOSXdlKu.qg4PNz6MHTglsocsJ2u3MOmH02g._bxssQ78h3ZNfOo5ok8cHIDjOyHE3Khn9dnuAt23Eq0_gi0e3SDJVPQHQ8TsPUyIewAyMgkNrsO462muZ3Q0QIYKLt46QR6p_578SnwoDr8akS8JoPgygbNsY.Ga5kppJMXOWyaobbWzJhDZNIto6KFFn_NK3Q.0e2Uk4yRBlzgmvDioRCXYfM0_8sr8zXdLDJGKr1pdi6uyHOLnr0MspGW.1x95_7l2YHMwz7OVlVp0rz694wKPCyZFGzCmwMKy8it6qKI9ISUiqYAk724EwXh1gU3aVO19TpFEJZla_cDEKWj5UWEzlYkTN9VT0kwyfOm4QgEX_AE9E7GO169HoGumq0yk.vVfNxvqtqvnZRmSU_b2g3zINVtAa22DqMkP1BOIVoahf3qADab431UMSnFG9DdC8GolOAuGyKHEWLqEvKX0zenKid6NrBEyPFxdpRqQgU6ZqVn.usiYDJWcSXPqQp9Wgy7DTH.COe5wDT.TqfZe9v0VFTbeq2w0VySletEN9M81y9jNocbJhL5E8oC6fkY50qYKJKjriIKj8wb6XQhk7.7rlFC2_FLDGIP9sCgXqpwVVPDZrxUrK1JwEwcbTt2HNOwC0gJ.a0XkdR3srxEOkhkaJHXWE8ddkOYC70dv9QUMi7dMv2DkZ_q1v9xsAbcMt1QqECcBC7aLSPhUQtdk040Mohg2ComqGUfrBL07ZdC5D_jIewSYJ0x6nOTetoC0.2j4zmZr4J3vnVhBu_g.OihoLhIZKcVe90YEOOneXEEhPmQ5YFq6G01YCLtYyUE95DCzCmfnyq4PO9QGECxVyCjhrUxr7soMBT2YamP02WIe9_dlBYDsQ4mQhXmA71Wyk_3x.z.av99aMdN80AZmLOzBhIEHJtry048ZbsJySDtHznzW2P4BQXSVCnxxeJbqY3EexJ6H7QO8xOz7k0Eqc7WyOnM6ew__SaHKGen7CFfv.vdAjfHtOpB8bsplqtIWWLKckG_08t4AGwiha4ZXaV6rPlzlKbQtN9w6zf79S8xM35AxqnM_epCF0E1zBu6dlG26mGUZ9bSqCsfkZXyV6L7.BQ7TtlqIbsu5j0j8qtte4QPYSjY3_Ib5K_DmdNgBr.BEJejqtDxItSH4gBiP3el.oBeh_VIt2FY1gb506HbRDVI8eAFmcWF_bfFC7rXW9.QIWgPkBEchhb.1F0sX8_G1_GY6kugTahuNZonwuYk8OewH3ie52_fSeQeAxGFCsy4YlG2tqi\",mdrd: \"aD2hWGe54s5KM0ycjbcKa5RBeW06JkCzsG0qzI2snCE-1735469701-1.2.1.1-wnhHcqGh38jdxy_L9N.IjS6BMH_AEaxIs0YgZhcWnvmnVsBBEi388lKLLw7Qys7yYPM9I5n6ZPJumMa9yzalJA9GYnmkPD.S.2UBagGcAuv9QNffdC82l0WXMncODxEBFW5bg6fDvt7WoT9IVruFofnRFsd3Ch.kMeSEL2.gc2nvWt0AI5xXCV6Fja5ZAh_XYc7HkPFTI_OVSOEOEcKVR46G_.MWEEMzS4D0jF8co43DTS06f112ZxbpT_G_j_w4WZNEirRyhLe8ZebbpGElaZ6qa6ZdWQdoUU5XIBttrW3G1aeLQ_b9_qr3Hff3iW1thknjUH6F5cIoOLed16By.9qxC.xuK7q9eLxDpyP5jzeXQQGu_k2i4M4.v7WIYOXFSE0H_ZjBfQh.SiBdqSKfiMbod4m2wv884DNEZ2fk.sJFtQGvfYA6N.tIbNzgeDWbvAAcxGHhHeACyaVo7nFybpoXNok4THdM46w7A6SOzZVBsLIsxJ_UQrxeTmfc9jw4ZUaez3gXufZRGAUMYofUp7YJJI8MVoYBCWgSSpoQK7wwTE910asBOGsj4hDRD2n_qD2WlUCzJAZ0DPErm7kN.FHvAzoFC3g1sIl2KPnSYUPC7MiL37XOzferPLQRlswtdM8QBMjelbVNo_2wXyZVKEIa0qIiExJLXH4leLnOhSBf98foi3VrFAP4YNfrSG7QsiNGO0DpGVUTeK_Ss5dR_XRvqLh8J86CbTcgcuOrnLtp7kXaEtDWDZo3K4rKKz9QTydiE2xw14XLGR5f0NsnFx0xtLapJSwj8Twlj2HAz0b5wKYoB3cucu2DYtVhlm.4Dv9JkDQI32Upvk3KytjBAHwCpM92wFL0FPeHSOXH0IYWh0Cfp3Uh26v.Y4YzwTF444npEclP1M06iyw4UnSNPzCzDXcXiAHFFr2SOw2mNCzOmxl4_cAXxjvsa1qdnpwFh3pwqatxdAQ0pMtd6eSU_a7Ex0NKfrZeP0Em3qLHExYVNdp40zE56jTtTYMhKfMBDsQ5Ln9VHYM_rZo4Wjy4kHE58HO2XpAOzfk12rYX2Y7nuDlUemh76EWbl1yu9hYx5btFwP6.GgO5RcmOJYEniGoTcyXhjPpobIKlzxMRfwriSLaUO_0P8YuSaRMjCocWaJKh1kJXbr.3BHfjeu5aR7yoRTq0LUODHjfQ05ifSvyqMc75LDPt9oYQ1KUIGb7W1aivAMHpxTkFzFh1RgC4Lx9yDWNKA_bUGbHkgkOdth8GJSX6_ffNImW912.bvNd1_enNcsbj2RozLPSvNo6biqFNcSl8I_O4ZbQrqNNKmt_QoaUgZnLqCcwNLNdctqrGewcgnXC5qIP79EjgFQFn5XGqzTJ99GbKUwtX5qrvAMslih9tmw_hz.uReg7_XKCJniVG7Hx88T6uTeUULTs4msJ9lTObbSpRgopLWsPEYQiDaTPnUeOukNN3RFJMwYLuziXnYitackArspigRt3Xbx2BGiEQLsvZeDZZQLd03fO1e3Tt.UDixGnppw4vZGJhnNrfAE.O_RwH2XstO6HdmyycIdOj1aLEXmET1ntn9ioPRw0UPmJejG6fhLW_C2Tohsxf.FR0BC74EJKHK4qoHLttgXRKoSj2a8ckhmU47lbD.HntgipwEFS2rHiVnE.kwN4u4Rh8PPiSj7Yxt3KLGGkCFcQn3PRP2yp52.HmmcnDeimHNBqniykdbGTYLJALiGd1MSmkTjctrJP4agNgd8QmaXZP0dmDsyoKBOOBmrZCnNqNYa_02X.IiWyFZT1TCEpCRzbNzIjlO6f4RNp903hg3NGnzP7KvIrYg0Ue1rzb9wH3qCVNUbqfjoL4LsM5kDwkUofKfaNesnL4ul0k7aY7hBlEzLnRem1VVoTdibknaax1qXJnY2vxnbcZ5u0QClkAv_J8zHNoPHfLGj3kHsaPeB_eyAol3uxHL9AEjFmWlMbHbKFqHyTfn6rH_hB3VfmGYpBifxewew9M_SndH_2gyXFgyxs4qQU60W2WnhDLyWhepEmRWAxrq8OIhjRGCeD7LVrNU1PRvdJCr3HneGg4QGfUrNsDSAADjyXNANbgbyYtaT7aoD3AlZII4dpVWEAGw.IqYvYDEf7wqzoOINqwe.pW2VyTO3op4nVxu0RCCPEjroCx1Pqhpgnr9bM.\"};var cpo = document.createElement('script');cpo.src = '/cdn-cgi/challenge-platform/h/b/orchestrate/chl_page/v1?ray=8f994160d88e3a2f';window._cf_chl_opt.cOgUHash = location.hash === '' && location.href.indexOf('#') !== -1 ? '#' : location.hash;window._cf_chl_opt.cOgUQuery = location.search === '' && location.href.slice(0, location.href.length - window._cf_chl_opt.cOgUHash.length).indexOf('?') !== -1 ? '?' : location.search;if (window.history && window.history.replaceState) {var ogU = location.pathname + window._cf_chl_opt.cOgUQuery + window._cf_chl_opt.cOgUHash;history.replaceState(null, null, \"\\/api\\/dee35c27-a1b9-4aff-ad7d-673bcf5f4225\\/search?keywords=it&location=Bern&__cf_chl_rt_tk=cB94pK65h8Nm7AeAbqlLvWNxn29EyxAEHyTirI7hx2Q-1735469701-1.0.1.1-UgPIBH9v7ZUdgzslZXvH5MT0YXLxZgZA3RoEhrQ2DAw\" + window._cf_chl_opt.cOgUHash);cpo.onload = function() {history.replaceState(null, null, ogU);}}document.getElementsByTagName('head')[0].appendChild(cpo);}());</script></body></html>\n"
     ]
    }
   ],
   "source": [
    "import requests\n",
    "import pandas as pd\n",
    "import json\n",
    "\n",
    "# API credentials\n",
    "api_key = 'dee35c27-a1b9-4aff-ad7d-673bcf5f4225'\n",
    "url = f'https://jooble.org/api/{api_key}/search'\n",
    "\n",
    "# Query parameters\n",
    "params = {\n",
    "    'keywords': 'it',\n",
    "    'location': 'Bern'\n",
    "}\n",
    "\n",
    "# Make the GET request using the requests library\n",
    "response = requests.get(url, params=params)\n",
    "\n",
    "# Check the response status\n",
    "if response.status_code == 200:\n",
    "    # The response is valid, now parse it as JSON\n",
    "    try:\n",
    "        data_json = response.json()  # This automatically parses the JSON response\n",
    "        jobs = data_json.get('jobs', [])  # Assuming 'jobs' is the key that contains job listings\n",
    "\n",
    "        # If there are job listings, proceed to store in DataFrame\n",
    "        if jobs:\n",
    "            df = pd.DataFrame(jobs, columns=['title', 'company', 'location', 'date_posted', 'url'])\n",
    "            \n",
    "            # Save the data to a CSV file\n",
    "            df.to_csv('jooble_jobs.csv', index=False)\n",
    "            print(f\"Data saved to 'jooble_jobs.csv'. Total jobs: {len(jobs)}\")\n",
    "        else:\n",
    "            print(\"No jobs found in the response.\")\n",
    "    except json.JSONDecodeError as e:\n",
    "        print(f\"Error decoding JSON: {e}\")\n",
    "else:\n",
    "    # Handle errors if the request failed\n",
    "    print(f\"Error {response.status_code}: {response.text}\")\n"
   ]
  },
  {
   "cell_type": "code",
   "execution_count": null,
   "id": "eaeb6f51-3c79-4ff1-9b65-7136abd5361e",
   "metadata": {},
   "outputs": [],
   "source": []
  }
 ],
 "metadata": {
  "kernelspec": {
   "display_name": "Python 3 (ipykernel)",
   "language": "python",
   "name": "python3"
  },
  "language_info": {
   "codemirror_mode": {
    "name": "ipython",
    "version": 3
   },
   "file_extension": ".py",
   "mimetype": "text/x-python",
   "name": "python",
   "nbconvert_exporter": "python",
   "pygments_lexer": "ipython3",
   "version": "3.11.7"
  },
  "widgets": {
   "application/vnd.jupyter.widget-state+json": {
    "state": {},
    "version_major": 2,
    "version_minor": 0
   }
  }
 },
 "nbformat": 4,
 "nbformat_minor": 5
}
