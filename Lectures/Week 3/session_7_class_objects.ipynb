{
 "cells": [
  {
   "cell_type": "code",
   "execution_count": 3,
   "id": "776d47fb-c073-4c89-ba99-c3b1f494544c",
   "metadata": {},
   "outputs": [],
   "source": [
    "# Mini ATM Machine\n",
    "\n",
    "class HDFC_ATM:\n",
    "\n",
    "    def __init__(self):\n",
    "        print('------------- Welcome HDFC ATM -------------')\n",
    "        self.pin = ''\n",
    "        self.balance = 0\n",
    "        self.menu()\n",
    "\n",
    "    def menu(self):\n",
    "        user = input('1. Create Pin: \\n2. Change Pin: \\n3. Withdraw Money \\n4. Check Balance:\\n')\n",
    "\n",
    "        if user == '1':\n",
    "            self.pin_creation()\n",
    "        elif user == '2':\n",
    "            self.change_pin()\n",
    "        elif user == '3':\n",
    "            self.withdraw()\n",
    "        elif user == '4':\n",
    "            self.check_balance()\n",
    "        else:\n",
    "            exit()\n",
    "\n",
    "    \n",
    "    def pin_creation(self):\n",
    "        user_pin = input('Enter 4 Digit pin: ')\n",
    "        if len(user_pin) > 4:\n",
    "            print('Enter only 4 Digits')\n",
    "            self.pincreation()\n",
    "        else:\n",
    "            print('Pin sucessfully created...')\n",
    "            self.pin = user_pin\n",
    "            amount = int(input('Enter Amount for Deposit: '))\n",
    "            self.balance = amount\n",
    "            self.menu()\n",
    "\n",
    "    def change_pin(self):\n",
    "        old_pin = input('Enter old pin: ')\n",
    "        if self.pin == old_pin:\n",
    "            self.pin = input('Enter new pin: ')\n",
    "            print('Pin Update successfully...')\n",
    "            self.menu()\n",
    "        else:\n",
    "            print('Invalid credential \\nPlease enter correct pin')\n",
    "            self.change_pin()\n",
    "\n",
    "    def withdraw(self):\n",
    "        user_pin = input('Enter the pin: ')\n",
    "        if user_pin == self.pin:\n",
    "            user_amount = int(input('Enter amount: '))\n",
    "            if self.balance >= user_amount:\n",
    "                print('Process has been granted. Collect your money from ATM machine')\n",
    "                self.balance = self.balance - user_amount\n",
    "                self.menu()\n",
    "            else:\n",
    "                print('You do not have efficient balance for this transaction...')\n",
    "                print('You have: ',self.balance)\n",
    "                self.menu()\n",
    "        else:\n",
    "            print('Enter the correct pin...')\n",
    "            self.menu()\n",
    "\n",
    "    def check_balance(self):\n",
    "        user_pin = input('Enter the pin: ')\n",
    "        if user_pin == self.pin:\n",
    "            print('Main balance is: ',self.balance)\n",
    "            self.menu()\n",
    "        else:\n",
    "            print('Enter correct pin..')\n",
    "            self.menu()"
   ]
  },
  {
   "cell_type": "code",
   "execution_count": 4,
   "id": "a478def3-ba8c-4bf9-ae40-a67fd03356fb",
   "metadata": {},
   "outputs": [
    {
     "name": "stdout",
     "output_type": "stream",
     "text": [
      "------------- Welcome HDFC ATM -------------\n"
     ]
    },
    {
     "name": "stdin",
     "output_type": "stream",
     "text": [
      "1. Create Pin: \n",
      "2. Change Pin: \n",
      "3. Withdraw Money \n",
      "4. Check Balance:\n",
      " 1\n",
      "Enter 4 Digit pin:  2233\n"
     ]
    },
    {
     "name": "stdout",
     "output_type": "stream",
     "text": [
      "Pin sucessfully created...\n"
     ]
    },
    {
     "name": "stdin",
     "output_type": "stream",
     "text": [
      "Enter Amount for Deposit:  5000\n",
      "1. Create Pin: \n",
      "2. Change Pin: \n",
      "3. Withdraw Money \n",
      "4. Check Balance:\n",
      " 3\n",
      "Enter the pin:  2233\n",
      "Enter amount:  5500\n"
     ]
    },
    {
     "name": "stdout",
     "output_type": "stream",
     "text": [
      "You do not have efficient balance for this transaction...\n",
      "You have:  5000\n"
     ]
    },
    {
     "name": "stdin",
     "output_type": "stream",
     "text": [
      "1. Create Pin: \n",
      "2. Change Pin: \n",
      "3. Withdraw Money \n",
      "4. Check Balance:\n",
      " 3\n",
      "Enter the pin:  2233\n",
      "Enter amount:  4500\n"
     ]
    },
    {
     "name": "stdout",
     "output_type": "stream",
     "text": [
      "Process has been granted. Collect your money from ATM machine\n"
     ]
    },
    {
     "name": "stdin",
     "output_type": "stream",
     "text": [
      "1. Create Pin: \n",
      "2. Change Pin: \n",
      "3. Withdraw Money \n",
      "4. Check Balance:\n",
      " 4\n",
      "Enter the pin:  2233\n"
     ]
    },
    {
     "name": "stdout",
     "output_type": "stream",
     "text": [
      "Main balance is:  500\n"
     ]
    },
    {
     "name": "stdin",
     "output_type": "stream",
     "text": [
      "1. Create Pin: \n",
      "2. Change Pin: \n",
      "3. Withdraw Money \n",
      "4. Check Balance:\n",
      " 2\n",
      "Enter old pin:  2233\n",
      "Enter new pin:  1432\n"
     ]
    },
    {
     "name": "stdout",
     "output_type": "stream",
     "text": [
      "Pin Update successfully...\n"
     ]
    },
    {
     "name": "stdin",
     "output_type": "stream",
     "text": [
      "1. Create Pin: \n",
      "2. Change Pin: \n",
      "3. Withdraw Money \n",
      "4. Check Balance:\n",
      " 5\n"
     ]
    },
    {
     "data": {
      "text/plain": [
       "<__main__.HDFC_ATM at 0x105c35610>"
      ]
     },
     "execution_count": 4,
     "metadata": {},
     "output_type": "execute_result"
    }
   ],
   "source": [
    "atm = HDFC_ATM()\n",
    "atm"
   ]
  },
  {
   "cell_type": "markdown",
   "id": "716c76ac-39fa-4739-b4d0-a685f4a1fc57",
   "metadata": {},
   "source": [
    "### 1st own data type using magic methods"
   ]
  },
  {
   "cell_type": "code",
   "execution_count": 10,
   "id": "fdfac676-35e5-45e5-96ac-676f10873c11",
   "metadata": {},
   "outputs": [],
   "source": [
    "# we are writing program for fraction number\n",
    "class Fraction:\n",
    "\n",
    "    def __init__(self,x,y):\n",
    "        self.num = x\n",
    "        self.den = y\n",
    "\n",
    "    def __str__(self):\n",
    "        return '{}/{}'.format(self.num, self.den)\n",
    "\n",
    "    def __add__(self, other):\n",
    "        new_num = self.num * other.den + self.den * other.num\n",
    "        new_den = self.den * other.den\n",
    "        return '{}/{}'.format(new_num, new_den)\n",
    "\n",
    "    def __sub__(self, other):\n",
    "        new_num = self.num * other.den - self.den * other.num\n",
    "        new_den = self.den * other.den\n",
    "        return '{}/{}'.format(new_num, new_den)\n",
    "\n",
    "    def __mul__(self, other):\n",
    "        new_num = self.num * other.num\n",
    "        new_den = self.den * other.den\n",
    "        return '{}/{}'.format(new_num, new_den)\n",
    "\n",
    "    def __truediv__(self, other):\n",
    "        new_num = self.num * other.den\n",
    "        new_den = other.den * self.num\n",
    "        return '{}/{}'.format(new_num, new_den)"
   ]
  },
  {
   "cell_type": "code",
   "execution_count": 11,
   "id": "7ae37afd-78fb-44dc-8643-028e9fa89be9",
   "metadata": {},
   "outputs": [
    {
     "data": {
      "text/plain": [
       "'5/5'"
      ]
     },
     "execution_count": 11,
     "metadata": {},
     "output_type": "execute_result"
    }
   ],
   "source": [
    "f1 = Fraction(1,4)\n",
    "f2 = Fraction(2,5)\n",
    "\n",
    "f1 / f2"
   ]
  },
  {
   "cell_type": "code",
   "execution_count": null,
   "id": "01eea755-dcd4-43e8-80ab-ba2be0d7cb5b",
   "metadata": {},
   "outputs": [],
   "source": []
  }
 ],
 "metadata": {
  "kernelspec": {
   "display_name": "Python 3 (ipykernel)",
   "language": "python",
   "name": "python3"
  },
  "language_info": {
   "codemirror_mode": {
    "name": "ipython",
    "version": 3
   },
   "file_extension": ".py",
   "mimetype": "text/x-python",
   "name": "python",
   "nbconvert_exporter": "python",
   "pygments_lexer": "ipython3",
   "version": "3.11.7"
  },
  "widgets": {
   "application/vnd.jupyter.widget-state+json": {
    "state": {},
    "version_major": 2,
    "version_minor": 0
   }
  }
 },
 "nbformat": 4,
 "nbformat_minor": 5
}
